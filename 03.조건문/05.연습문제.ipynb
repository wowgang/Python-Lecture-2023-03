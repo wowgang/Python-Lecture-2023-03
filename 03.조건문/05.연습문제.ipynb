{
 "cells": [
  {
   "attachments": {},
   "cell_type": "markdown",
   "metadata": {},
   "source": [
    "- Q1. 생일을 입력으로 받아 오늘 현재의 만 나이를 계산하고, 띠를 알려주세요."
   ]
  },
  {
   "cell_type": "code",
   "execution_count": 20,
   "metadata": {},
   "outputs": [
    {
     "name": "stdout",
     "output_type": "stream",
     "text": [
      "1994년 06월 24일\n"
     ]
    }
   ],
   "source": [
    "# 생년월일을 입력으로 받아서 정수로 변환하기\n",
    "b_year, b_month, b_day = map(int,input('생년월일 입력> ').split())\n",
    "print(f'{b_year:04d}년 {b_month:02d}월 {b_day}일')"
   ]
  },
  {
   "cell_type": "code",
   "execution_count": 21,
   "metadata": {},
   "outputs": [
    {
     "data": {
      "text/plain": [
       "(2023, 3, 30)"
      ]
     },
     "execution_count": 21,
     "metadata": {},
     "output_type": "execute_result"
    }
   ],
   "source": [
    "# 오늘 날짜 구하기\n",
    "import datetime\n",
    "now = datetime.datetime.now()\n",
    "t = datetime.date.today()\n",
    "t.year ,t.month, t.day\n"
   ]
  },
  {
   "cell_type": "code",
   "execution_count": 22,
   "metadata": {},
   "outputs": [],
   "source": [
    "if t.month < b_month:\n",
    "    age = t.year - b_year -1\n",
    "elif t.month > b_month:\n",
    "    age = t.year - b_year\n",
    "else: \n",
    "    if t.day < b_day:\n",
    "        age = t.year - b_year -1\n",
    "    else:\n",
    "        age = t.year - b_year"
   ]
  },
  {
   "cell_type": "code",
   "execution_count": 25,
   "metadata": {},
   "outputs": [
    {
     "name": "stdout",
     "output_type": "stream",
     "text": [
      "술\n"
     ]
    }
   ],
   "source": [
    "# 띠 계산\n",
    "# 생년을 12로 나눈 나머지 t.year % 12 =7\n",
    "# 0-원수이,1-닭, ...,11-양, 2개술,\n",
    "# [자,축,인,묘,진,사,오,미,신,유,술,해]\n",
    "# if b_year % 12 == 0:\n",
    "#     animal = '원숭이(신)'\n",
    "# elif b_year % 12 == 1:\n",
    "#     animal = '닭(유)'\n",
    "#문자열로 띠 계산\n",
    "animals = '신유술해자축인묘진사오미'\n",
    "print(animals[b_year % 12])\n"
   ]
  },
  {
   "cell_type": "code",
   "execution_count": 26,
   "metadata": {},
   "outputs": [
    {
     "name": "stdout",
     "output_type": "stream",
     "text": [
      "개\n"
     ]
    }
   ],
   "source": [
    "animals = '원숭이 닭 개 돼지 쥐 소 호랑이 토끼 용 뱀 말 양'.split()\n",
    "print(animals[b_year % 12])"
   ]
  },
  {
   "attachments": {},
   "cell_type": "markdown",
   "metadata": {},
   "source": [
    "- Q2. FizzBuzz, 15로 나누어지면 FizzBuzz, 3으로 나누어지면 Fizz, 5로 나누어지면 Buzz, 아니면 숫자"
   ]
  },
  {
   "cell_type": "code",
   "execution_count": 35,
   "metadata": {},
   "outputs": [
    {
     "name": "stdout",
     "output_type": "stream",
     "text": [
      "20 Fizz\n"
     ]
    }
   ],
   "source": [
    "num = int(input('숫자를입력하세요> '))\n",
    "if num % 15 == 0:\n",
    "    fb = 'FizzBuzz'\n",
    "    # print(f'{num},FizzBuzz')\n",
    "elif num % 3 == 0:\n",
    "    fb = 'Fizz'\n",
    "    # print(f'{num}Fizz')\n",
    "elif num % 5 == 0:\n",
    "    fb = 'Buzz'\n",
    "    # print(f'{num}Buzz')\n",
    "else:\n",
    "    fb = num\n",
    "    # print(num)\n",
    "print(num, fb)"
   ]
  },
  {
   "cell_type": "code",
   "execution_count": 39,
   "metadata": {},
   "outputs": [
    {
     "name": "stdout",
     "output_type": "stream",
     "text": [
      "10 Buzz\n"
     ]
    }
   ],
   "source": [
    "# 신박한 방법\n",
    "num = int(input('양의 정수> '))\n",
    "print(num, 'Fizz'*(num%3==0) + 'Buzz'*(num%5==0) or num)  # or은 앞이 거짓이면 뒤를 실행"
   ]
  },
  {
   "cell_type": "code",
   "execution_count": 6,
   "metadata": {},
   "outputs": [
    {
     "data": {
      "text/plain": [
       "'Fizz'"
      ]
     },
     "execution_count": 6,
     "metadata": {},
     "output_type": "execute_result"
    }
   ],
   "source": [
    "'Fizz'*(1==1)\n",
    "# 참이면 1\n",
    "# 거짓이면 0로 0*문자 = 빈칸?이나옴\n",
    "# or은 둘다 f여야 f"
   ]
  },
  {
   "cell_type": "code",
   "execution_count": null,
   "metadata": {},
   "outputs": [],
   "source": []
  }
 ],
 "metadata": {
  "kernelspec": {
   "display_name": "base",
   "language": "python",
   "name": "python3"
  },
  "language_info": {
   "codemirror_mode": {
    "name": "ipython",
    "version": 3
   },
   "file_extension": ".py",
   "mimetype": "text/x-python",
   "name": "python",
   "nbconvert_exporter": "python",
   "pygments_lexer": "ipython3",
   "version": "3.10.9"
  },
  "orig_nbformat": 4
 },
 "nbformat": 4,
 "nbformat_minor": 2
}
