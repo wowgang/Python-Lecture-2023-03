{
 "cells": [
  {
   "attachments": {},
   "cell_type": "markdown",
   "metadata": {},
   "source": [
    "### 4-3. range와 for 반복문"
   ]
  },
  {
   "cell_type": "code",
   "execution_count": 1,
   "metadata": {},
   "outputs": [
    {
     "data": {
      "text/plain": [
       "range(0, 5)"
      ]
     },
     "execution_count": 1,
     "metadata": {},
     "output_type": "execute_result"
    }
   ],
   "source": [
    "range(5)"
   ]
  },
  {
   "cell_type": "code",
   "execution_count": 2,
   "metadata": {},
   "outputs": [
    {
     "data": {
      "text/plain": [
       "[0, 1, 2, 3, 4]"
      ]
     },
     "execution_count": 2,
     "metadata": {},
     "output_type": "execute_result"
    }
   ],
   "source": [
    "list(range(5))  # list나 tuple붙이면 나온다"
   ]
  },
  {
   "cell_type": "code",
   "execution_count": null,
   "metadata": {},
   "outputs": [],
   "source": [
    "# for i in list_name:\n",
    "# for i in range(1, 100, 2):  #i는 1부터 99까지 1부터2의 간격 즉,홀수(1+2,3+2,5+2)인 i만을 선택"
   ]
  },
  {
   "cell_type": "code",
   "execution_count": 3,
   "metadata": {},
   "outputs": [
    {
     "data": {
      "text/plain": [
       "[5, 6, 7, 8, 9, 10, 11]"
      ]
     },
     "execution_count": 3,
     "metadata": {},
     "output_type": "execute_result"
    }
   ],
   "source": [
    "list(range(5,12))"
   ]
  },
  {
   "cell_type": "code",
   "execution_count": 4,
   "metadata": {},
   "outputs": [
    {
     "data": {
      "text/plain": [
       "[3, 6, 9]"
      ]
     },
     "execution_count": 4,
     "metadata": {},
     "output_type": "execute_result"
    }
   ],
   "source": [
    "list(range(3,10,3))"
   ]
  },
  {
   "cell_type": "code",
   "execution_count": 5,
   "metadata": {},
   "outputs": [
    {
     "data": {
      "text/plain": [
       "[10, 8, 6, 4, 2]"
      ]
     },
     "execution_count": 5,
     "metadata": {},
     "output_type": "execute_result"
    }
   ],
   "source": [
    "list(range(10, 1, -2))"
   ]
  },
  {
   "cell_type": "code",
   "execution_count": 7,
   "metadata": {},
   "outputs": [
    {
     "data": {
      "text/plain": [
       "[1, 3, 5, 7, 9]"
      ]
     },
     "execution_count": 7,
     "metadata": {},
     "output_type": "execute_result"
    }
   ],
   "source": [
    "a, b, c = map(int, input('반복문의 초기값, 끝값, 증가분 입력> ').split())\n",
    "list(range(a,b,c))"
   ]
  },
  {
   "cell_type": "code",
   "execution_count": 9,
   "metadata": {},
   "outputs": [
    {
     "ename": "TypeError",
     "evalue": "'float' object cannot be interpreted as an integer",
     "output_type": "error",
     "traceback": [
      "\u001b[1;31m---------------------------------------------------------------------------\u001b[0m",
      "\u001b[1;31mTypeError\u001b[0m                                 Traceback (most recent call last)",
      "Cell \u001b[1;32mIn[9], line 3\u001b[0m\n\u001b[0;32m      1\u001b[0m \u001b[39m# 실수는 range 안에 올 수 없음\u001b[39;00m\n\u001b[0;32m      2\u001b[0m \u001b[39m# numpy의 arange(에이레인지)에는 실수가 올 수 있음\u001b[39;00m\n\u001b[1;32m----> 3\u001b[0m \u001b[39mlist\u001b[39m(\u001b[39mrange\u001b[39;49m(\u001b[39m1.0\u001b[39;49m, \u001b[39m5.0\u001b[39;49m, \u001b[39m1.0\u001b[39;49m))\n",
      "\u001b[1;31mTypeError\u001b[0m: 'float' object cannot be interpreted as an integer"
     ]
    }
   ],
   "source": [
    "# 실수는 range 안에 올 수 없음\n",
    "# numpy의 arange(에이레인지)에는 실수가 올 수 있음\n",
    "list(range(1.0, 5.0, 1.0))  #TypeError: 'float' object cannot be interpreted as an integer"
   ]
  },
  {
   "attachments": {},
   "cell_type": "markdown",
   "metadata": {},
   "source": [
    "- for + range\n",
    "    - for i in list_name:\n",
    "    - for i in range(1, 100, 2):  #i는 1부터 99까지 1부터2의 간격 즉,홀수(1+2,3+2,5+2)인 i만을 선택"
   ]
  },
  {
   "cell_type": "code",
   "execution_count": 11,
   "metadata": {},
   "outputs": [
    {
     "name": "stdout",
     "output_type": "stream",
     "text": [
      "Hello World!\n",
      "Hello World!\n",
      "Hello World!\n"
     ]
    }
   ],
   "source": [
    "# 3회 Hello World! 출력하기\n",
    "for i in range(3):\n",
    "    print('Hello World!')"
   ]
  },
  {
   "cell_type": "code",
   "execution_count": 12,
   "metadata": {},
   "outputs": [
    {
     "name": "stdout",
     "output_type": "stream",
     "text": [
      "Hello World!\n",
      "Hello World!\n",
      "Hello World!\n"
     ]
    }
   ],
   "source": [
    "# 반복문 내에서 인덱스를 사용하지 않으면 파이썬에서는 _ 변수를 사용함(dummy)\n",
    "# 반복문 내에서 i를 사용하지 않아 _ 로 쓴다\n",
    "for _ in range(3):\n",
    "    print('Hello World!')"
   ]
  },
  {
   "cell_type": "code",
   "execution_count": 14,
   "metadata": {},
   "outputs": [
    {
     "name": "stdout",
     "output_type": "stream",
     "text": [
      "*****\n",
      "******\n",
      "*******\n",
      "********\n",
      "*********\n",
      "**********\n"
     ]
    }
   ],
   "source": [
    "# 5 에서부터 10까지 * 을 횟수만큼 출력\n",
    "for i in range(5,11):   # ange(5,10+1):\n",
    "    print('*' * i)"
   ]
  },
  {
   "cell_type": "code",
   "execution_count": 15,
   "metadata": {},
   "outputs": [
    {
     "name": "stdout",
     "output_type": "stream",
     "text": [
      "1683\n"
     ]
    }
   ],
   "source": [
    "# 1에서 100까지 3의 배수의 합\n",
    "sum3 = 0  # 먼저 선언한거 기억하기\n",
    "for i in range(3,101,3):\n",
    "    sum3 += i  # += 하는거 기억하기\n",
    "print(sum3) #먼저 선언했으니까 sum3만 불러나 합이 나옴....."
   ]
  },
  {
   "attachments": {},
   "cell_type": "markdown",
   "metadata": {},
   "source": [
    "sqrt는 square root(제곱근)의 약어입니다. 즉, 어떤 숫자의 제곱근은 그 숫자를 제곱했을 때 해당 숫자가 되는 값입니다. 예를 들어, 16의 제곱근은 4이며, 4를 제곱하면 16이 됩니다. 제곱근은 수학, 공학, 물리학 등 다양한 분야에서 사용됩니다. 제곱근을 계산하는 방법은 다양하지만, 컴퓨터 프로그래밍에서는 대개 sqrt 함수를 사용하여 계산합니다."
   ]
  },
  {
   "cell_type": "code",
   "execution_count": 20,
   "metadata": {},
   "outputs": [
    {
     "name": "stdout",
     "output_type": "stream",
     "text": [
      "[1.0, 1.4142, 1.7321, 2.0, 2.2361, 2.4495, 2.6458, 2.8284, 3.0, 3.1623]\n"
     ]
    }
   ],
   "source": [
    "# 1에서 10까지 sqrt 값(소수점 넷째자리까지)을 갖는 리스트를 만드세요  sqrt는 square root(제곱근)\n",
    "# 2분의 1승 2 ** 0.5\n",
    "import math\n",
    "sqrt_list = []\n",
    "for i in range(1,11):\n",
    "    sqrt_list.append(round(math.sqrt(i),4))\n",
    "print(sqrt_list)"
   ]
  },
  {
   "attachments": {},
   "cell_type": "markdown",
   "metadata": {},
   "source": [
    "- List 표현식(Comprehension)"
   ]
  },
  {
   "cell_type": "code",
   "execution_count": 21,
   "metadata": {},
   "outputs": [
    {
     "data": {
      "text/plain": [
       "[1.0, 1.4142, 1.7321, 2.0, 2.2361, 2.4495, 2.6458, 2.8284, 3.0, 3.1623]"
      ]
     },
     "execution_count": 21,
     "metadata": {},
     "output_type": "execute_result"
    }
   ],
   "source": [
    "#월요일에 한다심 공부하기... 위에꺼도 해야함\n",
    "sqrt_list = [round(math.sqrt(i),4) for i in range(1,11)]  # for문의 값으로 리스트 만들기 \n",
    "sqrt_list"
   ]
  },
  {
   "attachments": {},
   "cell_type": "markdown",
   "metadata": {},
   "source": [
    "- 리스트의 반복"
   ]
  },
  {
   "cell_type": "code",
   "execution_count": 22,
   "metadata": {},
   "outputs": [
    {
     "data": {
      "text/plain": [
       "['귤', '감', '딸기', '수박', '매실', '자두', '복숭아', '포도', '배', '단감', '사과', '키위']"
      ]
     },
     "execution_count": 22,
     "metadata": {},
     "output_type": "execute_result"
    }
   ],
   "source": [
    "fruits = '귤 감 딸기 수박 매실 자두 복숭아 포도 배 단감 사과 키위'.split()\n",
    "fruits"
   ]
  },
  {
   "cell_type": "code",
   "execution_count": 24,
   "metadata": {},
   "outputs": [
    {
     "name": "stdout",
     "output_type": "stream",
     "text": [
      " 1월의 계절 과일 - 귤\n",
      " 2월의 계절 과일 - 감\n",
      " 3월의 계절 과일 - 딸기\n",
      " 4월의 계절 과일 - 수박\n",
      " 5월의 계절 과일 - 매실\n",
      " 6월의 계절 과일 - 자두\n",
      " 7월의 계절 과일 - 복숭아\n",
      " 8월의 계절 과일 - 포도\n",
      " 9월의 계절 과일 - 배\n",
      "10월의 계절 과일 - 단감\n",
      "11월의 계절 과일 - 사과\n",
      "12월의 계절 과일 - 키위\n"
     ]
    }
   ],
   "source": [
    "month = 1\n",
    "for fruit in fruits:\n",
    "    print(f'{month:2d}월의 계절 과일 - {fruit}')\n",
    "    month += 1"
   ]
  },
  {
   "cell_type": "code",
   "execution_count": 25,
   "metadata": {},
   "outputs": [
    {
     "name": "stdout",
     "output_type": "stream",
     "text": [
      " 1월의 계절 과일 - 귤\n",
      " 2월의 계절 과일 - 감\n",
      " 3월의 계절 과일 - 딸기\n",
      " 4월의 계절 과일 - 수박\n",
      " 5월의 계절 과일 - 매실\n",
      " 6월의 계절 과일 - 자두\n",
      " 7월의 계절 과일 - 복숭아\n",
      " 8월의 계절 과일 - 포도\n",
      " 9월의 계절 과일 - 배\n",
      "10월의 계절 과일 - 단감\n",
      "11월의 계절 과일 - 사과\n",
      "12월의 계절 과일 - 키위\n"
     ]
    }
   ],
   "source": [
    "# enumerate는 index와 값을 동시에 반환  #enumerate 낱낱이 세다,열거하다\n",
    "for index , fruit in enumerate(fruits):\n",
    "    print(f'{index+1:2d}월의 계절 과일 - {fruit}')"
   ]
  },
  {
   "attachments": {},
   "cell_type": "markdown",
   "metadata": {},
   "source": [
    "- 역 반복문"
   ]
  },
  {
   "cell_type": "code",
   "execution_count": 26,
   "metadata": {},
   "outputs": [
    {
     "name": "stdout",
     "output_type": "stream",
     "text": [
      "4\n",
      "3\n",
      "2\n",
      "1\n",
      "0\n"
     ]
    }
   ],
   "source": [
    "for i in reversed(range(5)):\n",
    "    print(i)"
   ]
  },
  {
   "cell_type": "code",
   "execution_count": 27,
   "metadata": {},
   "outputs": [
    {
     "name": "stdout",
     "output_type": "stream",
     "text": [
      "4\n",
      "3\n",
      "2\n",
      "1\n",
      "0\n"
     ]
    }
   ],
   "source": [
    "for i in range(4,-1,-1):\n",
    "    print(i)"
   ]
  },
  {
   "cell_type": "markdown",
   "metadata": {},
   "source": [
    "- 별로 산 모양 만들기"
   ]
  },
  {
   "cell_type": "code",
   "execution_count": 31,
   "metadata": {},
   "outputs": [
    {
     "name": "stdout",
     "output_type": "stream",
     "text": [
      "   *\n",
      "  ***\n",
      " *****\n",
      "*******\n"
     ]
    }
   ],
   "source": [
    "for i in range(1, 5):\n",
    "    for k in range(4-i):\n",
    "        print(' ', end='')\n",
    "    for k in range(2*i-1):\n",
    "        print('*',end='')\n",
    "    print()"
   ]
  },
  {
   "cell_type": "code",
   "execution_count": 30,
   "metadata": {},
   "outputs": [
    {
     "name": "stdout",
     "output_type": "stream",
     "text": [
      "   *\n",
      "  ***\n",
      " *****\n",
      "*******\n"
     ]
    }
   ],
   "source": [
    "for i in range(1,5):\n",
    "    print(' ' * (4 - i) + '*' * (2 * i -1))"
   ]
  },
  {
   "cell_type": "code",
   "execution_count": null,
   "metadata": {},
   "outputs": [],
   "source": []
  }
 ],
 "metadata": {
  "kernelspec": {
   "display_name": "base",
   "language": "python",
   "name": "python3"
  },
  "language_info": {
   "codemirror_mode": {
    "name": "ipython",
    "version": 3
   },
   "file_extension": ".py",
   "mimetype": "text/x-python",
   "name": "python",
   "nbconvert_exporter": "python",
   "pygments_lexer": "ipython3",
   "version": "3.10.9"
  },
  "orig_nbformat": 4
 },
 "nbformat": 4,
 "nbformat_minor": 2
}
