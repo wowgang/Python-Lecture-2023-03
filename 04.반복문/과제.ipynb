{
 "cells": [
  {
   "cell_type": "code",
   "execution_count": null,
   "metadata": {},
   "outputs": [],
   "source": [
    "# 45분 일찍 알람 설정하기"
   ]
  },
  {
   "attachments": {},
   "cell_type": "markdown",
   "metadata": {},
   "source": [
    "- 첫째 줄에 두 정수 H와 M이 주어진다. (0 ≤ H ≤ 23, 0 ≤ M ≤ 59) 그리고 이것은 현재 상근이가 설정한 놓은 알람 시간 H시 M분을 의미한다.\n",
    "\n",
    "- 입력 시간은 24시간 표현을 사용한다. 24시간 표현에서 하루의 시작은 0:0(자정)이고, 끝은 23:59(다음날 자정 1분 전)이다. 시간을 나타낼 때, 불필요한 0은 사용하지 않는다."
   ]
  },
  {
   "cell_type": "code",
   "execution_count": 31,
   "metadata": {},
   "outputs": [
    {
     "name": "stdout",
     "output_type": "stream",
     "text": [
      "10시 0분 알람\n"
     ]
    }
   ],
   "source": [
    "h,m = map(int, input().split())\n",
    "if m >= 45:\n",
    "    setm = m - 45\n",
    "    seth = h\n",
    "else:\n",
    "    seth = h-1\n",
    "    setm = m + 60 - 45 \n",
    "    if h == 0:\n",
    "        seth = 23\n",
    "print(f'{seth}시 {setm}분 알람')\n"
   ]
  },
  {
   "attachments": {},
   "cell_type": "markdown",
   "metadata": {},
   "source": [
    "1에서부터 6까지의 눈을 가진 3개의 주사위를 던져서 다음과 같은 규칙에 따라 상금을 받는 게임이 있다. \n",
    "\n",
    "- 같은 눈이 3개가 나오면 10,000원+(같은 눈)×1,000원의 상금을 받게 된다. \n",
    "- 같은 눈이 2개만 나오는 경우에는 1,000원+(같은 눈)×100원의 상금을 받게 된다. \n",
    "- 모두 다른 눈이 나오는 경우에는 (그 중 가장 큰 눈)×100원의 상금을 받게 된다.  \n",
    "\n",
    "    - 예를 들어, 3개의 눈 3, 3, 6이 주어지면 상금은 1,000+3×100으로 계산되어 1,300원을 받게 된다. 또 3개의 눈이 2, 2, 2로 주어지면 10,000+2×1,000 으로 계산되어 12,000원을 받게 된다. 3개의 눈이 6, 2, 5로 주어지면 그중 가장 큰 값이 6이므로 6×100으로 계산되어 600원을 상금으로 받게 된다.\n",
    "\n",
    "- 3개 주사위의 나온 눈이 주어질 때, 상금을 계산하는 프로그램을 작성 하시오."
   ]
  },
  {
   "cell_type": "code",
   "execution_count": 105,
   "metadata": {},
   "outputs": [
    {
     "name": "stdout",
     "output_type": "stream",
     "text": [
      "\"Both fit!!\"\n",
      " dice1: 2, dice2: 3, dice3: 3\n",
      " >>> price: 1300\n"
     ]
    }
   ],
   "source": [
    "import random \n",
    "dice1 = random.randint(1,6)\n",
    "dice2 = random.randint(1,6)\n",
    "dice3 = random.randint(1,6)\n",
    "\n",
    "if dice1 == dice2 and dice1 == dice3:\n",
    "    res1 = 10000 + dice1 * 1000\n",
    "    print(f'\"Get all three right!!!\"\\n dice1: {dice1}, dice2: {dice2}, dice3: {dice3}]\\n >>> price: {res1}')\n",
    "elif dice1 == dice2 or dice1 == dice3:\n",
    "    res2 = 1000 + dice1 * 100\n",
    "    print(f'\"Both fit!!\"\\n dice1: {dice1}, dice2: {dice2}, dice3: {dice3}\\n >>> price: {res2}')\n",
    "elif dice1 == dice2 or dice2 == dice3:\n",
    "    res3 = 1000 + dice2 * 100\n",
    "    print(f'\"Both fit!!\"\\n dice1: {dice1}, dice2: {dice2}, dice3: {dice3}\\n >>> price: {res3}')\n",
    "else:\n",
    "    res4 = max(dice1, dice2, dice3) * 100\n",
    "    print(f'\"All three are different.\"\\n dice1: {dice1}, dice2: {dice2}, dice3: {dice3}\\n >>> price: {res4}')\n"
   ]
  },
  {
   "attachments": {},
   "cell_type": "markdown",
   "metadata": {},
   "source": [
    "- 2에서 10000 사이의 완전수 구하기\n",
    "    - 완전수는 자기 자신을 제외한 약수의 합이 자기 자신과 같은 양의 정수입니다. \n",
    "    - 예를 들어, 6은 완전수입니다. 6의 약수는 1, 2, 3으로, 1+2+3 = 6 이므로 6은 완전수입니다."
   ]
  },
  {
   "cell_type": "code",
   "execution_count": 107,
   "metadata": {},
   "outputs": [
    {
     "name": "stdout",
     "output_type": "stream",
     "text": [
      "6\n",
      "28\n",
      "496\n",
      "8128\n"
     ]
    }
   ],
   "source": [
    "# 자기자신을 제외한 약수\n",
    "# 약수의 합 = 자기자신\n",
    "\n",
    "for i in range(2, 10001):\n",
    "    result = 0\n",
    "    for k in range(1, i):\n",
    "        if i % k == 0:\n",
    "            result += k\n",
    "    if result == i:\n",
    "        print(result)\n"
   ]
  },
  {
   "attachments": {},
   "cell_type": "markdown",
   "metadata": {},
   "source": [
    "코드에서는 먼저 2부터 10000까지의 숫자를 반복문으로 하나씩 확인합니다. 그리고 각 숫자에 대해 모든 약수의 합을 구하기 위해 내부 루프를 사용합니다. 내부 루프에서는 1부터 해당 숫자보다 작은 수까지 반복하며, 해당 숫자를 그 수로 나누었을 때 나머지가 0이 되면 그 수는 해당 숫자의 약수이므로 약수의 합에 더합니다.\n",
    "\n",
    "\n",
    "내부 루프가 끝난 후에는, 약수의 합이 해당 숫자와 같은지 확인합니다. 만약 같다면, 그 수는 완전수이므로 출력합니다."
   ]
  },
  {
   "attachments": {},
   "cell_type": "markdown",
   "metadata": {},
   "source": [
    "- 도전과제: 피타고라스 수\n",
    "\n",
    "    - 직각삼각형의 세변(a < b < c)이 있다.\n",
    "    - a + b + c = 1000 을 만족시키는 직각삼각형의 세변을 구하세요. (단, a*a + b*b = c*c)"
   ]
  },
  {
   "attachments": {},
   "cell_type": "markdown",
   "metadata": {},
   "source": [
    "- 피타고라스 수(Pythagorean triple)란, 세 개의 자연수 a, b, c가 있어서 a^2 + b^2 = c^2을 만족하는 수들을 말합니다. 이때 c를 빗변으로 하는 직각삼각형의 변의 길이가 a, b인 직각삼각형이 됩니다.\n",
    "\n",
    "\n",
    "- 예를 들어, (3, 4, 5), (5, 12, 13), (8, 15, 17)은 모두 피타고라스 수입니다. 이는 각각 3^2 + 4^2 = 5^2, 5^2 + 12^2 = 13^2, 8^2 + 15^2 = 17^2을 만족하기 때문입니다."
   ]
  },
  {
   "cell_type": "code",
   "execution_count": null,
   "metadata": {},
   "outputs": [],
   "source": [
    "a**2 + b**2 = c**2\n",
    "a + b + c = 1000\n",
    "a+b=1000-c\n",
    "c = 1000 -a-b\n",
    "\n",
    "a+b>c\n",
    "1000-c > c\n",
    "500 > c\n",
    "\n"
   ]
  },
  {
   "cell_type": "code",
   "execution_count": 113,
   "metadata": {},
   "outputs": [
    {
     "name": "stdout",
     "output_type": "stream",
     "text": [
      "200 375 425\n"
     ]
    }
   ],
   "source": [
    "for a in range(1, 1000):\n",
    "        for b in range(a+1, 1000):\n",
    "            c = 1000 - a - b\n",
    "            if a*a + b*b == c*c and a < b < c:\n",
    "                print(a,b,c)"
   ]
  },
  {
   "cell_type": "code",
   "execution_count": 127,
   "metadata": {},
   "outputs": [
    {
     "name": "stdout",
     "output_type": "stream",
     "text": [
      "1000\n",
      "True {40000} {140625} {180625}\n"
     ]
    }
   ],
   "source": [
    "a= 200\n",
    "b= 375\n",
    "c= 425\n",
    "print(a+b+c)\n",
    "print(a**2+b**2==c**2,{a**2},{b**2},{c**2})\n"
   ]
  },
  {
   "attachments": {},
   "cell_type": "markdown",
   "metadata": {},
   "source": [
    "- a와 b는 1부터 1000까지의 자연수 중에서 선택되며, b는 a보다 크기 때문에 a+1부터 1000까지 범위에서 선택됩니다.\n",
    "\n",
    "\n",
    "- c는 a와 b의 합이 1000이 되도록 선택됩니다. 따라서 c = 1000 - a - b입니다.\n",
    "\n",
    "\n",
    "- 그리고 aa + bb == cc 라는 조건이 만족되어야 합니다. 이 조건은 피타고라스의 정리에 해당합니다. a, b, c가 직각삼각형의 세 변의 길이라면, aa + bb == cc가 성립합니다.\n",
    "\n",
    "\n",
    "- 마지막으로, a < b < c가 되도록 합니다. 이는 a가 가장 작은 수, b가 두 번째로 작은 수, c가 가장 큰 수가 되도록 하는 조건입니다.\n",
    "\n",
    "\n",
    "- 그리고 마지막으로, 이러한 조건을 만족하는 a, b, c를 출력합니다. 이를 통해 1000 이하에서 피타고라스의 정리를 만족하는 모든 삼각형의 세 변을 찾을 수 있습니다."
   ]
  },
  {
   "cell_type": "markdown",
   "metadata": {},
   "source": []
  }
 ],
 "metadata": {
  "kernelspec": {
   "display_name": "base",
   "language": "python",
   "name": "python3"
  },
  "language_info": {
   "codemirror_mode": {
    "name": "ipython",
    "version": 3
   },
   "file_extension": ".py",
   "mimetype": "text/x-python",
   "name": "python",
   "nbconvert_exporter": "python",
   "pygments_lexer": "ipython3",
   "version": "3.10.9"
  },
  "orig_nbformat": 4
 },
 "nbformat": 4,
 "nbformat_minor": 2
}
