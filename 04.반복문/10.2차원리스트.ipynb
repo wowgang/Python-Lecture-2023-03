{
 "cells": [
  {
   "attachments": {},
   "cell_type": "markdown",
   "metadata": {},
   "source": [
    "### 2차원 리스트 \n",
    "    - 꼭 기억"
   ]
  },
  {
   "attachments": {},
   "cell_type": "markdown",
   "metadata": {},
   "source": [
    "- 2차원 리스트 (대시 넘파이 어레이)"
   ]
  },
  {
   "cell_type": "code",
   "execution_count": 63,
   "metadata": {},
   "outputs": [
    {
     "data": {
      "text/plain": [
       "[[10, 20], [30, 40], [50, 60]]"
      ]
     },
     "execution_count": 63,
     "metadata": {},
     "output_type": "execute_result"
    }
   ],
   "source": [
    "a = [[10,20], [30,40], [50,60]]\n",
    "a"
   ]
  },
  {
   "cell_type": "code",
   "execution_count": 64,
   "metadata": {},
   "outputs": [
    {
     "name": "stdout",
     "output_type": "stream",
     "text": [
      "[[10, 20],\n",
      " [30, 40],\n",
      " [50, 60]]\n"
     ]
    }
   ],
   "source": [
    "# data입체적으로 보기\n",
    "from pprint import pprint\n",
    "pprint(a, indent=1, width=20)\n",
    "#indent는 들여쓰기 칸 수, width는 가로 폭"
   ]
  },
  {
   "cell_type": "code",
   "execution_count": 65,
   "metadata": {},
   "outputs": [
    {
     "data": {
      "text/plain": [
       "' \\n먼저 np.arange(1, 7)을 호출하면 1부터 6까지의 수가 저장된 NumPy 배열을 생성합니다. \\n이 배열은 [1, 2, 3, 4, 5, 6]와 같은 형태를 가지고 있습니다. \\n그리고 이 배열의 reshape(3, 2) 메소드를 호출하여 3x2 크기의 배열로 변환합니다. \\n이렇게 하면 배열의 원소들이 다음과 같은 순서로 배치됩니다.\\n'"
      ]
     },
     "execution_count": 65,
     "metadata": {},
     "output_type": "execute_result"
    }
   ],
   "source": [
    "import numpy as np\n",
    "b = np.arange(1,7).reshape(3,2) * 10\n",
    "b\n",
    "''' \n",
    "먼저 np.arange(1, 7)을 호출하면 1부터 6까지의 수가 저장된 NumPy 배열을 생성합니다. \n",
    "이 배열은 [1, 2, 3, 4, 5, 6]와 같은 형태를 가지고 있습니다. \n",
    "그리고 이 배열의 reshape(3, 2) 메소드를 호출하여 3x2 크기의 배열로 변환합니다. \n",
    "이렇게 하면 배열의 원소들이 다음과 같은 순서로 배치됩니다.\n",
    "'''"
   ]
  },
  {
   "cell_type": "code",
   "execution_count": 66,
   "metadata": {},
   "outputs": [
    {
     "data": {
      "text/plain": [
       "array([[1, 2],\n",
       "       [3, 4]])"
      ]
     },
     "execution_count": 66,
     "metadata": {},
     "output_type": "execute_result"
    }
   ],
   "source": [
    "import numpy as 연습\n",
    "c = 연습.arange(1,5).reshape(2,2)\n",
    "c"
   ]
  },
  {
   "cell_type": "code",
   "execution_count": 67,
   "metadata": {},
   "outputs": [
    {
     "data": {
      "text/plain": [
       "array([[ 1,  2,  3],\n",
       "       [ 4,  5,  6],\n",
       "       [ 7,  8,  9],\n",
       "       [10, 11, 12]])"
      ]
     },
     "execution_count": 67,
     "metadata": {},
     "output_type": "execute_result"
    }
   ],
   "source": [
    "import numpy as 연습2\n",
    "d = 연습2.arange(1,13).reshape(4,3) # 총4개인데 3개씩묶어서\n",
    "d"
   ]
  },
  {
   "cell_type": "code",
   "execution_count": 68,
   "metadata": {},
   "outputs": [
    {
     "data": {
      "text/html": [
       "<div>\n",
       "<style scoped>\n",
       "    .dataframe tbody tr th:only-of-type {\n",
       "        vertical-align: middle;\n",
       "    }\n",
       "\n",
       "    .dataframe tbody tr th {\n",
       "        vertical-align: top;\n",
       "    }\n",
       "\n",
       "    .dataframe thead th {\n",
       "        text-align: right;\n",
       "    }\n",
       "</style>\n",
       "<table border=\"1\" class=\"dataframe\">\n",
       "  <thead>\n",
       "    <tr style=\"text-align: right;\">\n",
       "      <th></th>\n",
       "      <th>첫째열</th>\n",
       "      <th>둘째열</th>\n",
       "    </tr>\n",
       "  </thead>\n",
       "  <tbody>\n",
       "    <tr>\n",
       "      <th>0</th>\n",
       "      <td>10</td>\n",
       "      <td>20</td>\n",
       "    </tr>\n",
       "    <tr>\n",
       "      <th>1</th>\n",
       "      <td>30</td>\n",
       "      <td>40</td>\n",
       "    </tr>\n",
       "    <tr>\n",
       "      <th>2</th>\n",
       "      <td>50</td>\n",
       "      <td>60</td>\n",
       "    </tr>\n",
       "  </tbody>\n",
       "</table>\n",
       "</div>"
      ],
      "text/plain": [
       "   첫째열  둘째열\n",
       "0   10   20\n",
       "1   30   40\n",
       "2   50   60"
      ]
     },
     "execution_count": 68,
     "metadata": {},
     "output_type": "execute_result"
    }
   ],
   "source": [
    "import pandas as pd\n",
    "df = pd.DataFrame(b, columns=['첫째열', '둘째열'])\n",
    "df"
   ]
  },
  {
   "attachments": {},
   "cell_type": "markdown",
   "metadata": {},
   "source": [
    "- 인덱싱"
   ]
  },
  {
   "cell_type": "code",
   "execution_count": 69,
   "metadata": {},
   "outputs": [
    {
     "data": {
      "text/plain": [
       "30"
      ]
     },
     "execution_count": 69,
     "metadata": {},
     "output_type": "execute_result"
    }
   ],
   "source": [
    "# 30 꺼내기\n",
    "a[1][0]     # [행 인덱스][열 인덱스]"
   ]
  },
  {
   "cell_type": "code",
   "execution_count": 70,
   "metadata": {},
   "outputs": [
    {
     "data": {
      "text/plain": [
       "30"
      ]
     },
     "execution_count": 70,
     "metadata": {},
     "output_type": "execute_result"
    }
   ],
   "source": [
    "# numpy indexing\n",
    "b[1, 0]     # [행 인덱스, 열 인덱스]"
   ]
  },
  {
   "cell_type": "code",
   "execution_count": 71,
   "metadata": {},
   "outputs": [
    {
     "data": {
      "text/plain": [
       "30"
      ]
     },
     "execution_count": 71,
     "metadata": {},
     "output_type": "execute_result"
    }
   ],
   "source": [
    "# DataFrame indexing\n",
    "df['첫째열'][1]     # [열 인덱스][행 인덱스]"
   ]
  },
  {
   "cell_type": "code",
   "execution_count": 72,
   "metadata": {},
   "outputs": [
    {
     "data": {
      "text/html": [
       "<div>\n",
       "<style scoped>\n",
       "    .dataframe tbody tr th:only-of-type {\n",
       "        vertical-align: middle;\n",
       "    }\n",
       "\n",
       "    .dataframe tbody tr th {\n",
       "        vertical-align: top;\n",
       "    }\n",
       "\n",
       "    .dataframe thead th {\n",
       "        text-align: right;\n",
       "    }\n",
       "</style>\n",
       "<table border=\"1\" class=\"dataframe\">\n",
       "  <thead>\n",
       "    <tr style=\"text-align: right;\">\n",
       "      <th></th>\n",
       "      <th>첫째열</th>\n",
       "      <th>둘째열</th>\n",
       "      <th>셋째열</th>\n",
       "    </tr>\n",
       "  </thead>\n",
       "  <tbody>\n",
       "    <tr>\n",
       "      <th>0</th>\n",
       "      <td>1</td>\n",
       "      <td>2</td>\n",
       "      <td>3</td>\n",
       "    </tr>\n",
       "    <tr>\n",
       "      <th>1</th>\n",
       "      <td>4</td>\n",
       "      <td>5</td>\n",
       "      <td>6</td>\n",
       "    </tr>\n",
       "    <tr>\n",
       "      <th>2</th>\n",
       "      <td>7</td>\n",
       "      <td>8</td>\n",
       "      <td>9</td>\n",
       "    </tr>\n",
       "    <tr>\n",
       "      <th>3</th>\n",
       "      <td>10</td>\n",
       "      <td>11</td>\n",
       "      <td>12</td>\n",
       "    </tr>\n",
       "  </tbody>\n",
       "</table>\n",
       "</div>"
      ],
      "text/plain": [
       "   첫째열  둘째열  셋째열\n",
       "0    1    2    3\n",
       "1    4    5    6\n",
       "2    7    8    9\n",
       "3   10   11   12"
      ]
     },
     "execution_count": 72,
     "metadata": {},
     "output_type": "execute_result"
    }
   ],
   "source": [
    "import pandas as pd2\n",
    "df1 = pd2.DataFrame(d, columns=['첫째열', '둘째열', '셋째열'])\n",
    "df1"
   ]
  },
  {
   "attachments": {},
   "cell_type": "markdown",
   "metadata": {},
   "source": [
    "- 2차원 리스트의 반복문"
   ]
  },
  {
   "cell_type": "code",
   "execution_count": 73,
   "metadata": {},
   "outputs": [
    {
     "name": "stdout",
     "output_type": "stream",
     "text": [
      "[10, 20]\n",
      "[30, 40]\n",
      "[50, 60]\n"
     ]
    }
   ],
   "source": [
    "# a = [[10,20], [30,40], [50,60]]\n",
    "for row in a:\n",
    "    print(row)"
   ]
  },
  {
   "cell_type": "code",
   "execution_count": 74,
   "metadata": {},
   "outputs": [
    {
     "data": {
      "text/plain": [
       "3"
      ]
     },
     "execution_count": 74,
     "metadata": {},
     "output_type": "execute_result"
    }
   ],
   "source": [
    "len(a)"
   ]
  },
  {
   "cell_type": "code",
   "execution_count": 75,
   "metadata": {},
   "outputs": [
    {
     "name": "stdout",
     "output_type": "stream",
     "text": [
      "10\n",
      "20\n",
      "30\n",
      "40\n",
      "50\n",
      "60\n"
     ]
    }
   ],
   "source": [
    "for row in a:\n",
    "    for element in row:\n",
    "        print(element)"
   ]
  },
  {
   "cell_type": "code",
   "execution_count": 76,
   "metadata": {},
   "outputs": [
    {
     "name": "stdout",
     "output_type": "stream",
     "text": [
      "10 20 \n",
      "30 40 \n",
      "50 60 \n"
     ]
    }
   ],
   "source": [
    "for row in a:\n",
    "    for element in row:\n",
    "        print(element, end=' ')\n",
    "    print()#안에 for문이 끝났을때"
   ]
  },
  {
   "attachments": {},
   "cell_type": "markdown",
   "metadata": {},
   "source": [
    "- 반복문으로 2차원 리스트 만들기\n",
    "    - [[10,11],[20,21],[30,31]]"
   ]
  },
  {
   "attachments": {},
   "cell_type": "markdown",
   "metadata": {},
   "source": [
    "#"
   ]
  },
  {
   "cell_type": "code",
   "execution_count": 77,
   "metadata": {},
   "outputs": [
    {
     "name": "stdout",
     "output_type": "stream",
     "text": [
      "10 11 \n",
      "20 21 \n",
      "30 31 \n"
     ]
    }
   ],
   "source": [
    "# 출력해보기\n",
    "aa = [[10,11],[20,21],[30,31]]\n",
    "for row in aa:\n",
    "    for ae in row:\n",
    "        print(ae, end=' ')\n",
    "    print()"
   ]
  },
  {
   "cell_type": "code",
   "execution_count": 78,
   "metadata": {},
   "outputs": [
    {
     "name": "stdout",
     "output_type": "stream",
     "text": [
      "[10, 11]\n",
      "[20, 21]\n",
      "[30, 31]\n"
     ]
    }
   ],
   "source": [
    "for row in aa:\n",
    "    print(row)\n"
   ]
  },
  {
   "cell_type": "code",
   "execution_count": 79,
   "metadata": {},
   "outputs": [
    {
     "name": "stdout",
     "output_type": "stream",
     "text": [
      "10 11 \n",
      "20 21 \n",
      "30 31 \n"
     ]
    }
   ],
   "source": [
    "# 출력해보기\n",
    "for i in range(1,4):\n",
    "    for k in range(2):\n",
    "        print(i * 10 + k, end=' ')\n",
    "    print()"
   ]
  },
  {
   "cell_type": "code",
   "execution_count": 80,
   "metadata": {},
   "outputs": [
    {
     "name": "stdout",
     "output_type": "stream",
     "text": [
      "[[10, 11],\n",
      " [20, 21],\n",
      " [30, 31]]\n"
     ]
    }
   ],
   "source": [
    "outer_list = []\n",
    "for i in range(1,4):\n",
    "    inner_list = []\n",
    "    for k in range(2):\n",
    "        inner_list.append(i * 10 + k)\n",
    "    outer_list.append(inner_list)   #첫번째 for append\n",
    "pprint(outer_list, width=20)"
   ]
  },
  {
   "cell_type": "code",
   "execution_count": 81,
   "metadata": {},
   "outputs": [
    {
     "name": "stdout",
     "output_type": "stream",
     "text": [
      "[[10, 11],\n",
      " [20, 21],\n",
      " [30, 31]]\n"
     ]
    }
   ],
   "source": [
    "# 위코드 표현식으로 list_a = [[...안쪽]바깥쪽]\n",
    "outer_list = [[i * 10 + k for k in range(2)] for i in range(1,4)]\n",
    "pprint(outer_list,width=20)"
   ]
  },
  {
   "cell_type": "code",
   "execution_count": 82,
   "metadata": {},
   "outputs": [
    {
     "name": "stdout",
     "output_type": "stream",
     "text": [
      "[[4, 5, 2, 2],\n",
      " [3, 1, 4, 2],\n",
      " [2, 2, 6, 2]]\n"
     ]
    }
   ],
   "source": [
    "# 주사위 놀이 3행4열\n",
    "#6513\n",
    "#2431\n",
    "#5632\n",
    "import random\n",
    "outg=[]\n",
    "for i in range(3): # 3행\n",
    "    innerg = []\n",
    "    for k in range(4):   # 4열\n",
    "        innerg.append(random.randint(1,6))\n",
    "    outg.append(innerg)\n",
    "pprint(outg, width=20)\n"
   ]
  },
  {
   "attachments": {},
   "cell_type": "markdown",
   "metadata": {},
   "source": [
    "- 리스트 표현식"
   ]
  },
  {
   "cell_type": "code",
   "execution_count": 83,
   "metadata": {},
   "outputs": [
    {
     "name": "stdout",
     "output_type": "stream",
     "text": [
      "[[3, 3, 6, 1],\n",
      " [1, 3, 6, 2],\n",
      " [4, 4, 6, 3]]\n"
     ]
    }
   ],
   "source": [
    "# 바깥쪽:   [... for i in range(3)]\n",
    "# 안쪽:     [... for k in range(4)]\n",
    "outg = [[random.randint(1,6) for k in range(4)] for i in range(3)]\n",
    "pprint(outg, width=20)"
   ]
  },
  {
   "cell_type": "code",
   "execution_count": 84,
   "metadata": {},
   "outputs": [
    {
     "name": "stdout",
     "output_type": "stream",
     "text": [
      "10 20\n",
      "30 40\n",
      "50 60\n"
     ]
    }
   ],
   "source": [
    "a = [[10, 20], [30, 40], [50, 60]]\n",
    "for x, y in a:    # 리스트의 가로 한 줄(안쪽 리스트)에서 요소 두 개를 꺼\n",
    "    print(x, y)"
   ]
  },
  {
   "cell_type": "code",
   "execution_count": 85,
   "metadata": {},
   "outputs": [
    {
     "name": "stdout",
     "output_type": "stream",
     "text": [
      "10 20 \n",
      "30 40 \n",
      "50 60 \n"
     ]
    }
   ],
   "source": [
    "a = [[10, 20], [30, 40], [50, 60]]\n",
    " \n",
    "for i in range(len(a)):            # 세로 크기\n",
    "    for j in range(len(a[i])):     # 가로 크기\n",
    "        print(a[i][j], end=' ')\n",
    "    print()"
   ]
  },
  {
   "cell_type": "code",
   "execution_count": 101,
   "metadata": {},
   "outputs": [
    {
     "name": "stdout",
     "output_type": "stream",
     "text": [
      "* . . * . * . * \n",
      ". . . . . . * . \n",
      ". * . . * * . . \n",
      ". * . . . . * . \n",
      ". . * . . * . . \n",
      ". * . . . . . . \n",
      ". . * . . . . . \n",
      ". . * . . * * * \n"
     ]
    }
   ],
   "source": [
    "# random() > 0.7 --> 지뢰(*), 아니면 .\n",
    "# 8 x 8 크기\n",
    "import random\n",
    "mines=[]\n",
    "for i in range(8):\n",
    "    row=[]\n",
    "    for k in range(8):\n",
    "        if random.random()>0.7:\n",
    "            row.append('*') \n",
    "        else:\n",
    "            row.append('.')\n",
    "    mines.append(row)\n",
    "############################\n",
    "for i in range(8):\n",
    "    for k in range(8):\n",
    "        print(mines[i][k], end=' ')\n",
    "    print()\n"
   ]
  },
  {
   "cell_type": "code",
   "execution_count": null,
   "metadata": {},
   "outputs": [],
   "source": [
    "''' \n",
    "random.random() 함수는 0과 1 사이의 임의의 부동소수점 수를 반환합니다. \n",
    "따라서 random.random() > 0.7은 약 30%의 확률로 참(True)이 되고, 70%의 확률로 거짓(False)이 됩니다.\n",
    "\n",
    "\n",
    "위의 코드에서, 만약 random.random() > 0.7이 참(True)이면, '*' 문자를 row 리스트에 추가합니다. \n",
    "이는 각 셀에 지뢰가 있을 확률을 약 30%로 설정한다는 의미입니다. \n",
    "따라서 0.7이 선택된 이유는 게임의 난이도나 지뢰가 배치될 비율에 따라서 적절한 값을 선택한 것으로 추측됩니다.\n",
    "'''"
   ]
  },
  {
   "cell_type": "code",
   "execution_count": 99,
   "metadata": {},
   "outputs": [
    {
     "name": "stdout",
     "output_type": "stream",
     "text": [
      ". . . * * . . * \n",
      ". . * * . . * * \n",
      "* . . * * . * * \n",
      ". . * . . . . . \n",
      ". . . * * . * * \n",
      ". . . . . . . . \n",
      ". * . . . . . . \n",
      ". . . . * * . . \n"
     ]
    }
   ],
   "source": [
    "mines=[]\n",
    "for i in range(8):\n",
    "    row=[]\n",
    "    for k in range(8):\n",
    "        mine = '*' if random.random() > 0.7 else '.'\n",
    "        row.append(mine) \n",
    "    mines.append(row)\n",
    "for i in range(8):\n",
    "    for k in range(8):\n",
    "        print(mines[i][k], end=' ')\n",
    "    print()"
   ]
  },
  {
   "cell_type": "code",
   "execution_count": 98,
   "metadata": {},
   "outputs": [
    {
     "name": "stdout",
     "output_type": "stream",
     "text": [
      ". * * * . . * . \n",
      ". * . . . . . . \n",
      ". . * . . . * * \n",
      ". * * . * . . . \n",
      ". . . . . . . . \n",
      ". * * . * . . . \n",
      ". . * . . * . . \n",
      ". . . . . . . . \n"
     ]
    }
   ],
   "source": [
    "mines = [['*' if random.random() > 0.7 else '.' for k in range(8)] for i in range(8)]\n",
    "for i in range(8):\n",
    "    for k in range(8):\n",
    "        print(mines[i][k], end=' ')\n",
    "    print()"
   ]
  }
 ],
 "metadata": {
  "kernelspec": {
   "display_name": "base",
   "language": "python",
   "name": "python3"
  },
  "language_info": {
   "codemirror_mode": {
    "name": "ipython",
    "version": 3
   },
   "file_extension": ".py",
   "mimetype": "text/x-python",
   "name": "python",
   "nbconvert_exporter": "python",
   "pygments_lexer": "ipython3",
   "version": "3.10.9"
  },
  "orig_nbformat": 4
 },
 "nbformat": 4,
 "nbformat_minor": 2
}
