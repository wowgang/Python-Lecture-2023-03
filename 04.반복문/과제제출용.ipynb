{
 "cells": [
  {
   "cell_type": "markdown",
   "metadata": {},
   "source": [
    "# 45분 일찍 알람 설정하기"
   ]
  },
  {
   "cell_type": "code",
   "execution_count": 31,
   "metadata": {},
   "outputs": [
    {
     "name": "stdout",
     "output_type": "stream",
     "text": [
      "10시 0분 알람\n"
     ]
    }
   ],
   "source": [
    "h,m = map(int, input().split())\n",
    "if m >= 45:\n",
    "    setm = m - 45\n",
    "    seth = h\n",
    "else:\n",
    "    seth = h-1\n",
    "    setm = m + 60 - 45 \n",
    "    if h == 0:\n",
    "        seth = 23\n",
    "print(f'{seth}시 {setm}분 알람')\n"
   ]
  },
  {
   "cell_type": "markdown",
   "metadata": {},
   "source": [
    "# 주사위 세개 돌리기"
   ]
  },
  {
   "cell_type": "code",
   "execution_count": 105,
   "metadata": {},
   "outputs": [
    {
     "name": "stdout",
     "output_type": "stream",
     "text": [
      "\"Both fit!!\"\n",
      " dice1: 2, dice2: 3, dice3: 3\n",
      " >>> price: 1300\n"
     ]
    }
   ],
   "source": [
    "import random \n",
    "dice1 = random.randint(1,6)\n",
    "dice2 = random.randint(1,6)\n",
    "dice3 = random.randint(1,6)\n",
    "\n",
    "if dice1 == dice2 and dice1 == dice3:\n",
    "    res1 = 10000 + dice1 * 1000\n",
    "    print(f'\"Get all three right!!!\"\\n dice1: {dice1}, dice2: {dice2}, dice3: {dice3}]\\n >>> price: {res1}')\n",
    "elif dice1 == dice2 or dice1 == dice3:\n",
    "    res2 = 1000 + dice1 * 100\n",
    "    print(f'\"Both fit!!\"\\n dice1: {dice1}, dice2: {dice2}, dice3: {dice3}\\n >>> price: {res2}')\n",
    "elif dice1 == dice2 or dice2 == dice3:\n",
    "    res3 = 1000 + dice2 * 100\n",
    "    print(f'\"Both fit!!\"\\n dice1: {dice1}, dice2: {dice2}, dice3: {dice3}\\n >>> price: {res3}')\n",
    "else:\n",
    "    res4 = max(dice1, dice2, dice3) * 100\n",
    "    print(f'\"All three are different.\"\\n dice1: {dice1}, dice2: {dice2}, dice3: {dice3}\\n >>> price: {res4}')\n"
   ]
  },
  {
   "attachments": {},
   "cell_type": "markdown",
   "metadata": {},
   "source": [
    "# 2에서 10000 사이의 완전수 구하기\n",
    "    - 완전수는 자기 자신을 제외한 약수의 합이 자기 자신과 같은 양의 정수입니다. \n",
    "    - 예를 들어, 6은 완전수입니다. 6의 약수는 1, 2, 3으로, 1+2+3 = 6 이므로 6은 완전수입니다."
   ]
  },
  {
   "cell_type": "code",
   "execution_count": 107,
   "metadata": {},
   "outputs": [
    {
     "name": "stdout",
     "output_type": "stream",
     "text": [
      "6\n",
      "28\n",
      "496\n",
      "8128\n"
     ]
    }
   ],
   "source": [
    "# 자기자신을 제외한 약수\n",
    "# 약수의 합 = 자기자신\n",
    "\n",
    "for i in range(2, 10001):\n",
    "    result = 0\n",
    "    for k in range(1, i):\n",
    "        if i % k == 0:\n",
    "            result += k\n",
    "    if result == i:\n",
    "        print(result)\n"
   ]
  },
  {
   "attachments": {},
   "cell_type": "markdown",
   "metadata": {},
   "source": [
    "# 도전과제: 피타고라스 수\n",
    "\n",
    "    - 직각삼각형의 세변(a < b < c)이 있다.\n",
    "    - a + b + c = 1000 을 만족시키는 직각삼각형의 세변을 구하세요. (단, a*a + b*b = c*c)"
   ]
  },
  {
   "cell_type": "code",
   "execution_count": 113,
   "metadata": {},
   "outputs": [
    {
     "name": "stdout",
     "output_type": "stream",
     "text": [
      "200 375 425\n"
     ]
    }
   ],
   "source": [
    "for a in range(1, 1000):\n",
    "        for b in range(a+1, 1000):\n",
    "            c = 1000 - a - b\n",
    "            if a*a + b*b == c*c and a < b < c:\n",
    "                print(a,b,c)"
   ]
  }
 ],
 "metadata": {
  "kernelspec": {
   "display_name": "base",
   "language": "python",
   "name": "python3"
  },
  "language_info": {
   "codemirror_mode": {
    "name": "ipython",
    "version": 3
   },
   "file_extension": ".py",
   "mimetype": "text/x-python",
   "name": "python",
   "nbconvert_exporter": "python",
   "pygments_lexer": "ipython3",
   "version": "3.10.9"
  },
  "orig_nbformat": 4
 },
 "nbformat": 4,
 "nbformat_minor": 2
}
