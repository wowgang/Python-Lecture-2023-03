{
 "cells": [
  {
   "attachments": {},
   "cell_type": "markdown",
   "metadata": {},
   "source": [
    "표준 입력으로 숫자 두 개가 입력됩니다. 다음 소스 코드를 완성하여 두 숫자의 덧셈, 뺄셈, 곱셈, 나눗셈의 결과가 출력되게 만드세요. 이때 나눗셈의 결과는 실수라야 합니다."
   ]
  },
  {
   "cell_type": "code",
   "execution_count": 1,
   "metadata": {},
   "outputs": [
    {
     "name": "stdout",
     "output_type": "stream",
     "text": [
      "덧셈: 30, 뺄셈: -10, 곱셈: 200, 나눗셈: 0.5\n"
     ]
    }
   ],
   "source": [
    "x, y = map(int, input().split())\n",
    "\n",
    "def calc(a,b):\n",
    "    return  a+b, a-b, a*b, float(a/b)\n",
    "\n",
    "a, s, m, d = calc(x, y)\n",
    "print('덧셈: {0}, 뺄셈: {1}, 곱셈: {2}, 나눗셈: {3}'.format(a, s, m, d))"
   ]
  },
  {
   "cell_type": "code",
   "execution_count": 8,
   "metadata": {},
   "outputs": [
    {
     "ename": "IndentationError",
     "evalue": "expected an indented block after function definition on line 1 (1558037358.py, line 2)",
     "output_type": "error",
     "traceback": [
      "\u001b[1;36m  Cell \u001b[1;32mIn[8], line 2\u001b[1;36m\u001b[0m\n\u001b[1;33m    print_numbers(*[10, 20, 30])\u001b[0m\n\u001b[1;37m    ^\u001b[0m\n\u001b[1;31mIndentationError\u001b[0m\u001b[1;31m:\u001b[0m expected an indented block after function definition on line 1\n"
     ]
    }
   ],
   "source": [
    "def print_numbers(a, b, c):\n",
    "print_numbers(*[10, 20, 30])"
   ]
  },
  {
   "attachments": {},
   "cell_type": "markdown",
   "metadata": {},
   "source": [
    "표준 입력으로 국어, 영어, 수학, 과학 점수가 입력됩니다. 다음 소스 코드를 완성하여 가장 높은 점수, 가장 낮은 점수, 평균 점수가 출력되게 만드세요. 평균 점수는 실수로 출력되어야 합니다."
   ]
  },
  {
   "cell_type": "code",
   "execution_count": 30,
   "metadata": {},
   "outputs": [
    {
     "name": "stdout",
     "output_type": "stream",
     "text": [
      "낮은 점수: 73.00, 높은 점수: 92.00, 평균 점수: 84.25\n",
      "낮은 점수: 83.00, 높은 점수: 92.00, 평균 점수: 87.50\n"
     ]
    }
   ],
   "source": [
    "korean, english, mathematics, science = map(int, input().split())\n",
    "def get_min_max_score(*args):\n",
    "    return  min(args),max(args) # 순서 프린트랑 동일해야함\n",
    "def get_average(**kwargs):\n",
    "    return sum(kwargs.values())/len(kwargs)\n",
    "\n",
    "\n",
    "\n",
    "\n",
    "min_score, max_score = get_min_max_score(korean, english, mathematics, science)\n",
    "average_score = get_average(korean=korean, english=english,\n",
    "                            mathematics=mathematics, science=science)\n",
    "print('낮은 점수: {0:.2f}, 높은 점수: {1:.2f}, 평균 점수: {2:.2f}'\n",
    "      .format(min_score, max_score, average_score))\n",
    " \n",
    "min_score, max_score = get_min_max_score(english, science)\n",
    "average_score = get_average(english=english, science=science)\n",
    "print('낮은 점수: {0:.2f}, 높은 점수: {1:.2f}, 평균 점수: {2:.2f}'\n",
    "      .format(min_score, max_score, average_score))\n"
   ]
  },
  {
   "attachments": {},
   "cell_type": "markdown",
   "metadata": {},
   "source": [
    "이거가 내가 값을 4개 입력하면 첫번째 함수에 순서대로 값이 들어가고\n",
    "그 key에 값이 들어간다고 생각\n",
    "첫번쨰 함수는 순서대로 불러줘야하고\n",
    "두번째 함수는 keyword로 불러줘 "
   ]
  },
  {
   "attachments": {},
   "cell_type": "markdown",
   "metadata": {},
   "source": [
    "get_min_max_score 함수를 사용해서 가장 낮은 점수와 가장 높은 점수를 구하고, get_average 함수를 평균 점수를 구하고 있습니다. 따라서 함수를 두 개 만들어야 합니다. 또한, 함수를 호출할 때마다 인수의 개수가 달라지고 있으므로 가변 인수 함수로 만들어야 합니다.\n",
    "\n",
    "먼저 get_min_max_score 함수는 get_min_max_score(korean, english, mathematics, science)처럼 인수를 위치 인수로 넣고 있으므로 def get_min_max_score(*args):와 같이 만들어줍니다. 함수 안에서는 min을 사용해서 args에서 가장 작은 수를 구하고, max를 사용해서 args에서 가장 큰 수를 구한 뒤 return으로 반환하면 됩니다. 특히 return으로 반환값을 여러 개 반환할 때는 각 반환값을 콤마로 구분해줍니다.\n",
    "\n",
    "get_average 함수는 get_average(korean=korean, english=english, mathematics=mathematics, science=science)처럼 인수를 키워드 인수로 넣고 있으므로 def get_average(**kwargs):와 같이 만들어줍니다. 함수 안에서는 평균을 구해야 하는데 먼저 sum(kwargs.values())처럼 values로 딕셔너리의 값만 가져온 뒤 sum으로 합계를 구합니다. 그리고 합계를 키의 개수로 나눠준 뒤 return으로 반환하면 됩니다(평균 점수는 실수로 출력되어야 하므로 나눗셈 연산자 /를 사용해야 합니다). 키의 개수는 len(kwargs)처럼 len으로 구할 수 있습니다"
   ]
  },
  {
   "cell_type": "code",
   "execution_count": 1,
   "metadata": {},
   "outputs": [
    {
     "data": {
      "text/plain": [
       "['1.png', '10.jpg', '2.jpg', '3.png']"
      ]
     },
     "execution_count": 1,
     "metadata": {},
     "output_type": "execute_result"
    }
   ],
   "source": [
    "files = ['font', '1.png', '10.jpg', '11.gif', '2.jpg', '3.png', 'table.xslx', 'spec.docx']\n",
    "list(filter(lambda x: x.find('.jpg') != -1 or x.find('.png') != -1, files))\n",
    "# 'find()'는 해당 문자열이 찾아지는 인덱스를 반환하며, 찾지 못한 경우에는 -1을 반환\n",
    "# '.jpg' 또는 '.png'이 파일 이름에 포함되어 있다면 해당 문자열이 있는 인덱스가 반환되고, 포함되어 있지 않다면 -1이 반환\n",
    "# \"a != -1\"은 \"a\"와 -1이 같지 않은 경우에만 true를 반환"
   ]
  },
  {
   "attachments": {},
   "cell_type": "markdown",
   "metadata": {},
   "source": [
    "표준 입력으로 숫자.확장자 형식으로 된 파일 이름 여러 개가 입력됩니다. 다음 소스 코드를 완성하여 파일 이름이 숫자 3개이면서 앞에 0이 들어가는 형식으로 출력되게 만드세요. 예를 들어 1.png는 001.png, 99.docx는 099.docx, 100.xlsx는 100.xlsx처럼 출력되어야 합니다. 그리고 람다 표현식을 사용해야 하며 출력 결과는 리스트 형태라야 합니다. 람다 표현식에서 파일명을 처리할 때는 문자열 포매팅과 문자열 메서드를 활용하세요."
   ]
  },
  {
   "cell_type": "code",
   "execution_count": 1,
   "metadata": {},
   "outputs": [
    {
     "name": "stdout",
     "output_type": "stream",
     "text": [
      "001.jpg\n"
     ]
    }
   ],
   "source": [
    "filename = '1.jpg'\n",
    "num = int(filename.split('.')[0])\n",
    "exe = filename.split('.')[1]\n",
    "print(f'{num:03d}.{exe}')\n"
   ]
  },
  {
   "cell_type": "code",
   "execution_count": 2,
   "metadata": {},
   "outputs": [
    {
     "name": "stdout",
     "output_type": "stream",
     "text": [
      "['001. jpg', '010. png', '011. png', '002. jpg', '003. png']\n"
     ]
    }
   ],
   "source": [
    "files = input().split()\n",
    "print(list(map(lambda x: f\"{int(x.split('.')[0]):03d}. {x.split('.')[1]}\", files)))"
   ]
  },
  {
   "cell_type": "code",
   "execution_count": 9,
   "metadata": {},
   "outputs": [
    {
     "name": "stdout",
     "output_type": "stream",
     "text": [
      "['001.jpg', '010.png', '011.png', '002.jpg', '003.png']\n"
     ]
    }
   ],
   "source": [
    "files = input().split()\n",
    "formatted_files = list(map(lambda x: '{:03d}.{}'.format(int(x.split('.')[0]), x.split('.')[1]), files))\n",
    "print(formatted_files)\n"
   ]
  },
  {
   "cell_type": "code",
   "execution_count": 10,
   "metadata": {},
   "outputs": [
    {
     "name": "stdout",
     "output_type": "stream",
     "text": [
      "['001.jpg', '010.png', '011.png', '002.jpg', '003.png']\n"
     ]
    }
   ],
   "source": [
    "# 1.jpg 10.png 11.png 2.jpg 3.png\n",
    "files = input().split()\n",
    "print(list(map(lambda x: '{:03d}.{}'.format(int(x.split('.')[0]), x.split('.')[1]), files)))"
   ]
  },
  {
   "cell_type": "code",
   "execution_count": null,
   "metadata": {},
   "outputs": [],
   "source": [
    "files = input().split()\n",
    "formatted_files = ['{:03d}.{}'.format(int(x.split('.')[0]), x.split('.')[1]) for x in files]\n",
    "print(formatted_files)\n"
   ]
  },
  {
   "cell_type": "code",
   "execution_count": null,
   "metadata": {},
   "outputs": [],
   "source": [
    "files = input().split()\n",
    "formatted_files = ['{:03d}.{}'.format(int(x.split('.')[0]), x.split('.')[1]) for x in files]\n",
    "print(formatted_files)\n"
   ]
  },
  {
   "attachments": {},
   "cell_type": "markdown",
   "metadata": {},
   "source": [
    "리스트 files에는 문자열로 된 파일 이름이 들어갑니다. 이 리스트에서 모든 요소를 지정된 함수로 처리해야 하므로 map 함수를 사용해야 합니다.\n",
    "\n",
    "먼저 람다 표현식을 작성할 때 매개변수로 받은 문자열을 조작해서 001.png, 099.docx, 100.xlsx 같은 형식이 되어야 합니다. 따라서 문자열 포매팅을 '{0:03d}.{1}'와 같이 만들어줍니다. 먼저 {0:03d}는 파일 이름 부분이며 숫자 1은 001, 99는 099, 100은 100처럼 숫자 3개로 만들고 앞에 0이 들어갑니다. 그리고 {1}은 확장자 부분이며 문자열이 그대로 들어갑니다.\n",
    "\n",
    "이제 '{0:03d}.{1}'에 format 메서드를 사용해서 내용을 채웁니다. 먼저 문자열은 split('.')처럼 '.'을 기준으로 분리해서 파일 이름과 확장자로 나눕니다. 그리고 lambda에서 매개변수로 x를 지정했다면 int(x.split('.')[0])과 같이 파일 이름 부분을 얻습니다. 즉, 1.png는 split('.')으로 분리했을 때 리스트 ['1', 'png']가 나오는데 첫 번째 요소를 사용해야 하므로 [0]입니다. 그리고 {0:03d}에는 숫자가 들어가야 하므로 int를 사용해서 정수로 변환해줍니다.\n",
    "\n",
    "확장자는 x.split('.')[1]처럼 문자열을 '.'으로 분리했을 때 두 번째 요소를 사용합니다. 람다 표현식에서는 새 변수를 사용할 수 없으므로 이렇게 매번 split 메서드를 사용하여 파일 이름과 확장자 부분을 얻어야 합니다.\n",
    "\n",
    "마지막으로 출력 결과는 리스트 형태라 하므로 map 부분을 list로 묶어줍니다."
   ]
  },
  {
   "cell_type": "code",
   "execution_count": null,
   "metadata": {},
   "outputs": [],
   "source": [
    "n :0, 1, 2, 3, 4, 5, 6, 7, 8, 9, 10, 11, 12, 13, 14, 15, 16, 17, 18, 19, 20, 21..."
   ]
  },
  {
   "cell_type": "code",
   "execution_count": null,
   "metadata": {},
   "outputs": [],
   "source": [
    "def fib(n):\n",
    "    if n == 0:\n",
    "        return 0\n",
    "    if n ==1:\n",
    "        return 1\n",
    "    return(n-1)+fib(n-2)"
   ]
  },
  {
   "cell_type": "code",
   "execution_count": null,
   "metadata": {},
   "outputs": [
    {
     "name": "stdout",
     "output_type": "stream",
     "text": [
      "7\n"
     ]
    }
   ],
   "source": [
    "n = int(input())\n",
    "print(fib(n))"
   ]
  },
  {
   "cell_type": "code",
   "execution_count": 6,
   "metadata": {},
   "outputs": [
    {
     "name": "stdout",
     "output_type": "stream",
     "text": [
      "10\n"
     ]
    }
   ],
   "source": [
    "x,b = map(int,input().split())\n",
    "print(x*b)"
   ]
  },
  {
   "cell_type": "code",
   "execution_count": 7,
   "metadata": {},
   "outputs": [
    {
     "name": "stdout",
     "output_type": "stream",
     "text": [
      "매도합니다.\n"
     ]
    }
   ],
   "source": [
    "price = int(input())\n",
    "if price >= 90000:\n",
    "    print('매도합니다.')\n",
    "elif 80000 <= price < 90000:\n",
    "    print('대기중입니다.')\n",
    "else:\n",
    "    print('매수합니다.')"
   ]
  },
  {
   "cell_type": "code",
   "execution_count": 14,
   "metadata": {},
   "outputs": [
    {
     "name": "stdout",
     "output_type": "stream",
     "text": [
      "84000.0\n"
     ]
    }
   ],
   "source": [
    "bag,watch = map(int, input().split())\n",
    "expensive = bag + watch\n",
    "if expensive >= 100000:\n",
    "   expensive= expensive*0.7\n",
    "elif 50000<= expensive:\n",
    "   expensive= expensive*0.8\n",
    "else: \n",
    "    expensive = expensive * 0.9\n",
    "\n",
    "print(expensive)\n"
   ]
  },
  {
   "cell_type": "code",
   "execution_count": 12,
   "metadata": {},
   "outputs": [
    {
     "name": "stdout",
     "output_type": "stream",
     "text": [
      "84000.0\n"
     ]
    }
   ],
   "source": [
    "bag,watch = map(int, input().split())\n",
    "\n",
    "if bag + watch >= 100000:\n",
    "   expensive =  (bag + watch)*0.7\n",
    "elif 50000<= bag + watch:\n",
    "    expensive = (bag + watch)*0.8\n",
    "else: \n",
    "    expensive = (bag + watch)* 0.9\n",
    "print(expensive)"
   ]
  },
  {
   "cell_type": "code",
   "execution_count": 19,
   "metadata": {},
   "outputs": [
    {
     "name": "stdout",
     "output_type": "stream",
     "text": [
      "55\n"
     ]
    }
   ],
   "source": [
    "num = int(input())\n",
    "suma = 0\n",
    "for i in range(0,num+1):\n",
    "    suma += i\n",
    "print(suma)"
   ]
  },
  {
   "cell_type": "code",
   "execution_count": 4,
   "metadata": {},
   "outputs": [
    {
     "name": "stdout",
     "output_type": "stream",
     "text": [
      "죵로\n"
     ]
    }
   ],
   "source": [
    "num = int(input())\n",
    "if num != -1:\n",
    "    print('종료는-1')\n",
    "else:\n",
    "    print('죵로')"
   ]
  },
  {
   "cell_type": "code",
   "execution_count": 10,
   "metadata": {},
   "outputs": [
    {
     "name": "stdout",
     "output_type": "stream",
     "text": [
      "게임을 시작합니다.\n",
      "메뉴를 입력하세요\n",
      "다시 입력하세요.\n",
      "메뉴를 입력하세요\n",
      "게임을 시작합니다.\n",
      "메뉴를 입력하세요\n",
      "다시 입력하세요.\n",
      "게임을 종료 합니다.\n"
     ]
    }
   ],
   "source": [
    "while True:\n",
    "    m = int(input('1.게임시작 2.랭킹보기 3.게임종료'))\n",
    "\n",
    "    if m == 1:\n",
    "        print('게임을 시작합니다.')\n",
    "    elif m == 2:\n",
    "        print('메뉴를 입력하세요')\n",
    "    elif m == 3:\n",
    "        print('게임을 종료 합니다.')\n",
    "        break\n",
    "    else:\n",
    "        print('다시 입력하세요.')\n"
   ]
  },
  {
   "cell_type": "code",
   "execution_count": 16,
   "metadata": {},
   "outputs": [
    {
     "name": "stdout",
     "output_type": "stream",
     "text": [
      "*\n",
      "**\n",
      "***\n",
      "****\n",
      "*****\n"
     ]
    }
   ],
   "source": [
    "for i in range(1,6):\n",
    "    print('*' * i)"
   ]
  },
  {
   "cell_type": "code",
   "execution_count": 18,
   "metadata": {},
   "outputs": [
    {
     "name": "stdout",
     "output_type": "stream",
     "text": [
      "*****\n",
      "****\n",
      "***\n",
      "**\n",
      "*\n"
     ]
    }
   ],
   "source": [
    "for i in range(1,6): # 12345\n",
    "    print('*' * (6-i)) # 54321"
   ]
  },
  {
   "cell_type": "code",
   "execution_count": 32,
   "metadata": {},
   "outputs": [
    {
     "name": "stdout",
     "output_type": "stream",
     "text": [
      "    *\n",
      "   **\n",
      "  ***\n",
      " ****\n",
      "*****\n"
     ]
    }
   ],
   "source": [
    "for i in range(1,6):\n",
    "    print(' '*(5-i) + '*'*i)\n"
   ]
  },
  {
   "cell_type": "code",
   "execution_count": 36,
   "metadata": {},
   "outputs": [
    {
     "name": "stdout",
     "output_type": "stream",
     "text": [
      "*****\n",
      " ****\n",
      "  ***\n",
      "   **\n",
      "    *\n"
     ]
    }
   ],
   "source": [
    "for i in range(1,6):\n",
    "    print(' '*(i-1) + '*'*(6-i))"
   ]
  },
  {
   "cell_type": "code",
   "execution_count": null,
   "metadata": {},
   "outputs": [],
   "source": []
  }
 ],
 "metadata": {
  "kernelspec": {
   "display_name": "base",
   "language": "python",
   "name": "python3"
  },
  "language_info": {
   "codemirror_mode": {
    "name": "ipython",
    "version": 3
   },
   "file_extension": ".py",
   "mimetype": "text/x-python",
   "name": "python",
   "nbconvert_exporter": "python",
   "pygments_lexer": "ipython3",
   "version": "3.10.9"
  },
  "orig_nbformat": 4
 },
 "nbformat": 4,
 "nbformat_minor": 2
}
