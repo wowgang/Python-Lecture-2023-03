{
 "cells": [
  {
   "cell_type": "markdown",
   "metadata": {},
   "source": [
    "### 도전 문제: 파일의 단어 개수 세기\n",
    "- 총 단어수\n",
    "- 고유 단어수\n",
    "-가장 많이 사용된 단어 10개"
   ]
  },
  {
   "cell_type": "code",
   "execution_count": 50,
   "metadata": {},
   "outputs": [
    {
     "ename": "SyntaxError",
     "evalue": "unmatched ')' (4153863919.py, line 4)",
     "output_type": "error",
     "traceback": [
      "\u001b[1;36m  Cell \u001b[1;32mIn[50], line 4\u001b[1;36m\u001b[0m\n\u001b[1;33m    - blank로 split() => [] list가됨 ex)words\u001b[0m\n\u001b[1;37m                                    ^\u001b[0m\n\u001b[1;31mSyntaxError\u001b[0m\u001b[1;31m:\u001b[0m unmatched ')'\n"
     ]
    }
   ],
   "source": [
    "- 파일읽기\n",
    "- 구둣점 제거\n",
    "- 소문자 변환\n",
    "- blank로 split() => [] list가됨 ex)words\n",
    "- 총단어수 len(list_words)\n",
    "- 고유 단어수 len(set(words)) set은 중복제거그런데 이러면 공유 단어수만 구해짐\n",
    "dic ={}\n",
    "for word in words: # word가 key\n",
    "    if word in dic.keys():   # key = word 값 1 증가\n",
    "        dic[word]+=1   #value값나옴 \n",
    "    else:           # key = word 단어추가\n",
    "        dic[word]=1\n",
    "len(dic)하면 고유 단어수"
   ]
  },
  {
   "attachments": {},
   "cell_type": "markdown",
   "metadata": {},
   "source": [
    "- Step 1. 파일에서 데이터 읽기"
   ]
  },
  {
   "cell_type": "code",
   "execution_count": 58,
   "metadata": {},
   "outputs": [],
   "source": [
    "with open('data/lorem.txt') as file:\n",
    "    contents = file.read()"
   ]
  },
  {
   "attachments": {},
   "cell_type": "markdown",
   "metadata": {},
   "source": [
    "- Step 2. 구둣점을 제고하고 소문자로 만들기"
   ]
  },
  {
   "cell_type": "code",
   "execution_count": null,
   "metadata": {},
   "outputs": [],
   "source": [
    "clean_contents = contents.replace(',','').replace('\"','')\\\n",
    "                            .replace('.','').replace('(','')\\\n",
    "                            .replace('?','').replace(\"'\",'').replace(')','')\\\n",
    "                            .replace('\\n',' ').lower() #\\n은 뒷단어랑 붙을까봐 공백으로 대체"
   ]
  },
  {
   "cell_type": "code",
   "execution_count": 59,
   "metadata": {},
   "outputs": [],
   "source": [
    "import re,string\n",
    "clean_contents = re.sub('['+string.punctuation+']',' ',contents) \n",
    "clean_contents = clean_contents.replace('\\n','').lower()"
   ]
  },
  {
   "attachments": {},
   "cell_type": "markdown",
   "metadata": {},
   "source": [
    "- Step 3. 공백으로 분리하여 words 리스트 만들기"
   ]
  },
  {
   "cell_type": "code",
   "execution_count": 60,
   "metadata": {},
   "outputs": [
    {
     "data": {
      "text/plain": [
       "['what', 'is', 'lorem', 'ipsum', 'lorem']"
      ]
     },
     "execution_count": 60,
     "metadata": {},
     "output_type": "execute_result"
    }
   ],
   "source": [
    "words = clean_contents.split()\n",
    "words[:5]"
   ]
  },
  {
   "cell_type": "code",
   "execution_count": null,
   "metadata": {},
   "outputs": [
    {
     "name": "stdout",
     "output_type": "stream",
     "text": [
      "총 단어수는 511개 이고, 고유 단어는 256 입니다.\n"
     ]
    }
   ],
   "source": [
    "# 총 단어수\n",
    "print(f'총 단어수는 {len(words)}개 이고, 고유 단어는 {len(set(words))} 입니다.')"
   ]
  },
  {
   "cell_type": "markdown",
   "metadata": {},
   "source": [
    "- Step 4. 고유단어가 key이고, 빈도가 value인 딕셔너리 만들기"
   ]
  },
  {
   "cell_type": "code",
   "execution_count": 61,
   "metadata": {},
   "outputs": [
    {
     "data": {
      "text/plain": [
       "261"
      ]
     },
     "execution_count": 61,
     "metadata": {},
     "output_type": "execute_result"
    }
   ],
   "source": [
    "dic = {}\n",
    "for word in words: # word가 key \n",
    "    if word in dic.keys(): # key = word 값 1 증가\n",
    "        dic[word] += 1\n",
    "    else:      #value값나옴              \n",
    "        dic[word] = 1       # key = word 단어추가\n",
    "len(dic)"
   ]
  },
  {
   "cell_type": "code",
   "execution_count": null,
   "metadata": {},
   "outputs": [],
   "source": [
    "딕셔너리인 'dic' 객체의 키들 중에 'word'가 있는지 확인하는 부분입니다. \n",
    "'word' 변수는 반복문을 통해 'words' 리스트에 있는 \n",
    "각 단어를 대표하는 변수로 사용되고, \n",
    "'dic' 딕셔너리는 각 단어의 출현 빈도를 저장하는 역할을 합니다"
   ]
  },
  {
   "attachments": {},
   "cell_type": "markdown",
   "metadata": {},
   "source": [
    "- Step 5. 빈도의 내림차순으로 딕셔너리를 정렬하기 "
   ]
  },
  {
   "cell_type": "code",
   "execution_count": 62,
   "metadata": {},
   "outputs": [
    {
     "data": {
      "text/plain": [
       "{'the': 28,\n",
       " 'of': 21,\n",
       " 'lorem': 19,\n",
       " 'ipsum': 19,\n",
       " 'a': 15,\n",
       " 'it': 11,\n",
       " 'and': 10,\n",
       " 'in': 10,\n",
       " 'is': 8,\n",
       " 'from': 8,\n",
       " 'to': 7,\n",
       " 'by': 7,\n",
       " 'text': 5,\n",
       " '1': 5,\n",
       " '10': 5,\n",
       " 'has': 4,\n",
       " 'on': 4,\n",
       " 'latin': 4,\n",
       " 'words': 4,\n",
       " 'with': 3,\n",
       " 'more': 3,\n",
       " 'like': 3,\n",
       " 'versions': 3,\n",
       " 'use': 3,\n",
       " 'content': 3,\n",
       " 'or': 3,\n",
       " 'as': 3,\n",
       " 'making': 3,\n",
       " 'many': 3,\n",
       " 'their': 3,\n",
       " 'over': 3,\n",
       " 'injected': 3,\n",
       " 'humour': 3,\n",
       " '32': 3,\n",
       " 'are': 3,\n",
       " 'simply': 2,\n",
       " 'dummy': 2,\n",
       " 'typesetting': 2,\n",
       " 'industry': 2,\n",
       " 'standard': 2,\n",
       " 'since': 2,\n",
       " '1500s': 2,\n",
       " 'when': 2,\n",
       " 'type': 2,\n",
       " 'book': 2,\n",
       " 'not': 2,\n",
       " 'but': 2,\n",
       " 'also': 2,\n",
       " 'passages': 2,\n",
       " 'desktop': 2,\n",
       " 'publishing': 2,\n",
       " 'that': 2,\n",
       " 'will': 2,\n",
       " 'be': 2,\n",
       " 'readable': 2,\n",
       " 'page': 2,\n",
       " 'at': 2,\n",
       " 'using': 2,\n",
       " 'here': 2,\n",
       " 'look': 2,\n",
       " 'english': 2,\n",
       " 'web': 2,\n",
       " 'model': 2,\n",
       " 'for': 2,\n",
       " 'have': 2,\n",
       " 'years': 2,\n",
       " 'sometimes': 2,\n",
       " 'where': 2,\n",
       " 'popular': 2,\n",
       " 'classical': 2,\n",
       " 'literature': 2,\n",
       " '45': 2,\n",
       " 'bc': 2,\n",
       " 'passage': 2,\n",
       " 'going': 2,\n",
       " 'comes': 2,\n",
       " 'sections': 2,\n",
       " '33': 2,\n",
       " 'de': 2,\n",
       " 'finibus': 2,\n",
       " 'bonorum': 2,\n",
       " 'et': 2,\n",
       " 'malorum': 2,\n",
       " 'cicero': 2,\n",
       " 'this': 2,\n",
       " 'first': 2,\n",
       " 'line': 2,\n",
       " 'reproduced': 2,\n",
       " 'form': 2,\n",
       " 'some': 2,\n",
       " 'there': 2,\n",
       " 'which': 2,\n",
       " 't': 2,\n",
       " 'you': 2,\n",
       " 'internet': 2,\n",
       " 'what': 1,\n",
       " 'printing': 1,\n",
       " 'been': 1,\n",
       " 's': 1,\n",
       " 'ever': 1,\n",
       " 'an': 1,\n",
       " 'unknown': 1,\n",
       " 'printer': 1,\n",
       " 'took': 1,\n",
       " 'galley': 1,\n",
       " 'scrambled': 1,\n",
       " 'make': 1,\n",
       " 'specimen': 1,\n",
       " 'survived': 1,\n",
       " 'only': 1,\n",
       " 'five': 1,\n",
       " 'centuries': 1,\n",
       " 'leap': 1,\n",
       " 'into': 1,\n",
       " 'electronic': 1,\n",
       " 'remaining': 1,\n",
       " 'essentially': 1,\n",
       " 'unchanged': 1,\n",
       " 'was': 1,\n",
       " 'popularised': 1,\n",
       " '1960s': 1,\n",
       " 'release': 1,\n",
       " 'letraset': 1,\n",
       " 'sheets': 1,\n",
       " 'containing': 1,\n",
       " 'recently': 1,\n",
       " 'software': 1,\n",
       " 'aldus': 1,\n",
       " 'pagemaker': 1,\n",
       " 'including': 1,\n",
       " 'why': 1,\n",
       " 'do': 1,\n",
       " 'we': 1,\n",
       " 'long': 1,\n",
       " 'established': 1,\n",
       " 'fact': 1,\n",
       " 'reader': 1,\n",
       " 'distracted': 1,\n",
       " 'looking': 1,\n",
       " 'its': 1,\n",
       " 'layout': 1,\n",
       " 'point': 1,\n",
       " 'less': 1,\n",
       " 'normal': 1,\n",
       " 'distribution': 1,\n",
       " 'letters': 1,\n",
       " 'opposed': 1,\n",
       " 'packages': 1,\n",
       " 'editors': 1,\n",
       " 'now': 1,\n",
       " 'default': 1,\n",
       " 'search': 1,\n",
       " 'uncover': 1,\n",
       " 'sites': 1,\n",
       " 'still': 1,\n",
       " 'infancy': 1,\n",
       " 'various': 1,\n",
       " 'evolved': 1,\n",
       " 'accident': 1,\n",
       " 'purpose': 1,\n",
       " 'does': 1,\n",
       " 'come': 1,\n",
       " 'contrary': 1,\n",
       " 'belief': 1,\n",
       " 'random': 1,\n",
       " 'roots': 1,\n",
       " 'piece': 1,\n",
       " '2000': 1,\n",
       " 'old': 1,\n",
       " 'richard': 1,\n",
       " 'mcclintock': 1,\n",
       " 'professor': 1,\n",
       " 'hampden': 1,\n",
       " 'sydney': 1,\n",
       " 'college': 1,\n",
       " 'virginia': 1,\n",
       " 'looked': 1,\n",
       " 'up': 1,\n",
       " 'one': 1,\n",
       " 'obscure': 1,\n",
       " 'consectetur': 1,\n",
       " 'through': 1,\n",
       " 'cites': 1,\n",
       " 'word': 1,\n",
       " 'discovered': 1,\n",
       " 'undoubtable': 1,\n",
       " 'source': 1,\n",
       " 'extremes': 1,\n",
       " 'good': 1,\n",
       " 'evil': 1,\n",
       " 'written': 1,\n",
       " 'treatise': 1,\n",
       " 'theory': 1,\n",
       " 'ethics': 1,\n",
       " 'very': 1,\n",
       " 'during': 1,\n",
       " 'renaissance': 1,\n",
       " 'dolor': 1,\n",
       " 'sit': 1,\n",
       " 'amet': 1,\n",
       " 'section': 1,\n",
       " 'chunk': 1,\n",
       " 'used': 1,\n",
       " 'below': 1,\n",
       " 'those': 1,\n",
       " 'interested': 1,\n",
       " 'exact': 1,\n",
       " 'original': 1,\n",
       " 'accompanied': 1,\n",
       " '1914': 1,\n",
       " 'translation': 1,\n",
       " 'h': 1,\n",
       " 'rackham': 1,\n",
       " 'can': 1,\n",
       " 'i': 1,\n",
       " 'get': 1,\n",
       " 'variations': 1,\n",
       " 'available': 1,\n",
       " 'majority': 1,\n",
       " 'suffered': 1,\n",
       " 'alteration': 1,\n",
       " 'randomised': 1,\n",
       " 'don': 1,\n",
       " 'even': 1,\n",
       " 'slightly': 1,\n",
       " 'believable': 1,\n",
       " 'if': 1,\n",
       " 'need': 1,\n",
       " 'sure': 1,\n",
       " 'isn': 1,\n",
       " 'anything': 1,\n",
       " 'embarrassing': 1,\n",
       " 'hidden': 1,\n",
       " 'middle': 1,\n",
       " 'all': 1,\n",
       " 'generators': 1,\n",
       " 'tend': 1,\n",
       " 'repeat': 1,\n",
       " 'predefined': 1,\n",
       " 'chunks': 1,\n",
       " 'necessary': 1,\n",
       " 'true': 1,\n",
       " 'generator': 1,\n",
       " 'uses': 1,\n",
       " 'dictionary': 1,\n",
       " '200': 1,\n",
       " 'combined': 1,\n",
       " 'handful': 1,\n",
       " 'sentence': 1,\n",
       " 'structures': 1,\n",
       " 'generate': 1,\n",
       " 'looks': 1,\n",
       " 'reasonable': 1,\n",
       " 'generated': 1,\n",
       " 'therefore': 1,\n",
       " 'always': 1,\n",
       " 'free': 1,\n",
       " 'repetition': 1,\n",
       " 'non': 1,\n",
       " 'characteristic': 1,\n",
       " 'etc': 1}"
      ]
     },
     "execution_count": 62,
     "metadata": {},
     "output_type": "execute_result"
    }
   ],
   "source": [
    "dict(sorted(dic.items(), key=lambda x: x[1], reverse=True))"
   ]
  },
  {
   "attachments": {},
   "cell_type": "markdown",
   "metadata": {},
   "source": [
    "key=lambda x: x[1]는 정렬의 기준을 설정하는 부분으로, 여기에서는 아이템의 두 번째 값인 값(value)을 기준으로 정렬하도록 람다(lambda) 함수를 사용하였습니다. x[1]은 아이템의 두 번째 값인 값을 의미합니다. 따라서 이를 기준으로 내림차순으로 정렬하게 됩니다.\n",
    "reverse=True는 정렬의 순서를 설정하는 부분으로, 여기에서는 내림차순으로 정렬하도록 설정하였습니다."
   ]
  },
  {
   "cell_type": "code",
   "execution_count": 52,
   "metadata": {},
   "outputs": [
    {
     "name": "stdout",
     "output_type": "stream",
     "text": [
      "{'d': 4, 'a': 3, 'c': 2, 'b': 1}\n"
     ]
    }
   ],
   "source": [
    "my_dict = {\"a\": 3, \"b\": 1, \"c\": 2, \"d\": 4}\n",
    "sorted_dict = dict(sorted(my_dict.items(), key=lambda x: x[1], reverse=True))\n",
    "print(sorted_dict)"
   ]
  }
 ],
 "metadata": {
  "kernelspec": {
   "display_name": "base",
   "language": "python",
   "name": "python3"
  },
  "language_info": {
   "codemirror_mode": {
    "name": "ipython",
    "version": 3
   },
   "file_extension": ".py",
   "mimetype": "text/x-python",
   "name": "python",
   "nbconvert_exporter": "python",
   "pygments_lexer": "ipython3",
   "version": "3.10.9"
  },
  "orig_nbformat": 4
 },
 "nbformat": 4,
 "nbformat_minor": 2
}
