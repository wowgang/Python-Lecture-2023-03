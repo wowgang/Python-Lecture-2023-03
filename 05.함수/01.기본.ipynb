{
 "cells": [
  {
   "cell_type": "markdown",
   "metadata": {},
   "source": [
    "### 5-1. 함수 기본"
   ]
  },
  {
   "cell_type": "code",
   "execution_count": 1,
   "metadata": {},
   "outputs": [],
   "source": [
    "# 함수 생성\n",
    "def print_3_times():\n",
    "    for _ in range(3):\n",
    "        print('안녕하세요')"
   ]
  },
  {
   "cell_type": "code",
   "execution_count": 3,
   "metadata": {},
   "outputs": [
    {
     "name": "stdout",
     "output_type": "stream",
     "text": [
      "안녕하세요\n",
      "안녕하세요\n",
      "안녕하세요\n"
     ]
    }
   ],
   "source": [
    "# 함수 호출\n",
    "print_3_times()"
   ]
  },
  {
   "cell_type": "code",
   "execution_count": 4,
   "metadata": {},
   "outputs": [
    {
     "ename": "NameError",
     "evalue": "name 'print_2_times' is not defined",
     "output_type": "error",
     "traceback": [
      "\u001b[1;31m---------------------------------------------------------------------------\u001b[0m",
      "\u001b[1;31mNameError\u001b[0m                                 Traceback (most recent call last)",
      "Cell \u001b[1;32mIn[4], line 1\u001b[0m\n\u001b[1;32m----> 1\u001b[0m print_2_times()\n\u001b[0;32m      3\u001b[0m \u001b[39mdef\u001b[39;00m \u001b[39mprint_2_times\u001b[39m():\n\u001b[0;32m      4\u001b[0m     \u001b[39mfor\u001b[39;00m _ \u001b[39min\u001b[39;00m \u001b[39mrange\u001b[39m(\u001b[39m2\u001b[39m):\n",
      "\u001b[1;31mNameError\u001b[0m: name 'print_2_times' is not defined"
     ]
    }
   ],
   "source": [
    "# 파이썬을 반드시 함수를 선언해야 사용할수있다 \n",
    "# 함수를 사용하기 전에 반드시 함수가 정의되어 있어야 함\n",
    "print_2_times()\n",
    "\n",
    "def print_2_times():\n",
    "    for _ in range(2):\n",
    "        print('안녕하세요')\n",
    "# NameError: name 'print_2_times' is not defined\n",
    "# python은 호이스팅이 아니고 js는 호이스팅이라 이렇게 함수를 입력해도 적용이된다\n",
    "# 아마도 호이스팅이 윗줄부터 읽어주는 의미였나........\n",
    "# 자바스크립트는 호출전에 함수를 꼭 먼저 만들 필요가 없다."
   ]
  },
  {
   "attachments": {},
   "cell_type": "markdown",
   "metadata": {},
   "source": [
    "- 매개변수"
   ]
  },
  {
   "cell_type": "code",
   "execution_count": 5,
   "metadata": {},
   "outputs": [
    {
     "name": "stdout",
     "output_type": "stream",
     "text": [
      "Hello world!!!\n",
      "Hello world!!!\n",
      "Hello world!!!\n"
     ]
    }
   ],
   "source": [
    "def print_n_times(msg, n):\n",
    "    for _ in range(n):\n",
    "        print(msg)\n",
    "print_n_times('Hello world!!!', 3)"
   ]
  },
  {
   "cell_type": "code",
   "execution_count": 6,
   "metadata": {},
   "outputs": [
    {
     "ename": "TypeError",
     "evalue": "print_n_times() takes 2 positional arguments but 3 were given",
     "output_type": "error",
     "traceback": [
      "\u001b[1;31m---------------------------------------------------------------------------\u001b[0m",
      "\u001b[1;31mTypeError\u001b[0m                                 Traceback (most recent call last)",
      "Cell \u001b[1;32mIn[6], line 1\u001b[0m\n\u001b[1;32m----> 1\u001b[0m print_n_times(\u001b[39m'\u001b[39;49m\u001b[39mHello world!!!\u001b[39;49m\u001b[39m'\u001b[39;49m, \u001b[39m3\u001b[39;49m,\u001b[39m5\u001b[39;49m)\n",
      "\u001b[1;31mTypeError\u001b[0m: print_n_times() takes 2 positional arguments but 3 were given"
     ]
    }
   ],
   "source": [
    "print_n_times('Hello world!!!', 3,5)\n",
    "# TypeError: print_n_times() takes 2 positional arguments but 3 were given"
   ]
  },
  {
   "cell_type": "code",
   "execution_count": 3,
   "metadata": {},
   "outputs": [
    {
     "data": {
      "text/plain": [
       "(30, -10)"
      ]
     },
     "execution_count": 3,
     "metadata": {},
     "output_type": "execute_result"
    }
   ],
   "source": [
    "def add_sub(a,b):\n",
    "    return a+b, a-b\n",
    "x,y = add_sub(10,20)\n",
    "x,y\n",
    "# a+b는 x변수에 , a-b는 y 변수에\n",
    "# 튜플로 변환 (튜플이 변수 여러 개에 할당 되는 특성을 이용한것- 언패킹)"
   ]
  },
  {
   "attachments": {},
   "cell_type": "markdown",
   "metadata": {},
   "source": [
    "- 가변 매개변수"
   ]
  },
  {
   "cell_type": "code",
   "execution_count": 8,
   "metadata": {},
   "outputs": [],
   "source": [
    "def print_n_times(n, *values):  # *가변매개면수 \n",
    "    for _ in range(n):\n",
    "        for value in values:\n",
    "            print(value)        # 가변 매개변수로 전달된 내용 출력\n",
    "        print()     # 줄 바꿈\n"
   ]
  },
  {
   "cell_type": "code",
   "execution_count": 9,
   "metadata": {},
   "outputs": [
    {
     "name": "stdout",
     "output_type": "stream",
     "text": [
      "Hello\n",
      "World\n",
      "\n",
      "Hello\n",
      "World\n",
      "\n",
      "Hello\n",
      "World\n",
      "\n"
     ]
    }
   ],
   "source": [
    "print_n_times(3, 'Hello', 'World')"
   ]
  },
  {
   "attachments": {},
   "cell_type": "markdown",
   "metadata": {},
   "source": [
    "- 기본 매개변수"
   ]
  },
  {
   "cell_type": "code",
   "execution_count": 10,
   "metadata": {},
   "outputs": [],
   "source": [
    "def print_n_times(*values, n=3):  # *가변매개면수 \n",
    "    for _ in range(n):\n",
    "        for value in values:\n",
    "            print(value)        # 가변 매개변수로 전달된 내용 출력\n",
    "        print()     # 줄 바꿈"
   ]
  },
  {
   "cell_type": "code",
   "execution_count": 14,
   "metadata": {},
   "outputs": [
    {
     "name": "stdout",
     "output_type": "stream",
     "text": [
      "Hello\n",
      "World\n",
      "2\n",
      "\n",
      "Hello\n",
      "World\n",
      "2\n",
      "\n",
      "Hello\n",
      "World\n",
      "2\n",
      "\n"
     ]
    }
   ],
   "source": [
    "print_n_times( 'Hello', 'World',2)"
   ]
  },
  {
   "attachments": {},
   "cell_type": "markdown",
   "metadata": {},
   "source": [
    "- 키워드 매개변수"
   ]
  },
  {
   "cell_type": "code",
   "execution_count": 15,
   "metadata": {},
   "outputs": [
    {
     "name": "stdout",
     "output_type": "stream",
     "text": [
      "Hello\n",
      "World\n",
      "\n",
      "Hello\n",
      "World\n",
      "\n"
     ]
    }
   ],
   "source": [
    "print_n_times( 'Hello', 'World',n=2)"
   ]
  },
  {
   "cell_type": "code",
   "execution_count": 16,
   "metadata": {},
   "outputs": [],
   "source": [
    "def test(a, b=10, c=100): # 가변이없음\n",
    "    print(a + b +c)"
   ]
  },
  {
   "cell_type": "code",
   "execution_count": 17,
   "metadata": {},
   "outputs": [
    {
     "name": "stdout",
     "output_type": "stream",
     "text": [
      "60\n"
     ]
    }
   ],
   "source": [
    "test(10, 20, 30) # 위치맞게 맵핑이 돼서 값이 들어감\n",
    "                # a 가 가변매개변수가 아니므로 20,30의 값이 b,c로 전달됨"
   ]
  },
  {
   "cell_type": "code",
   "execution_count": 18,
   "metadata": {},
   "outputs": [
    {
     "name": "stdout",
     "output_type": "stream",
     "text": [
      "310\n"
     ]
    }
   ],
   "source": [
    "test(a=10, b=100, c=200) # 위치 매개변수도 키워드 매개변수같이 사용해도됨"
   ]
  },
  {
   "cell_type": "code",
   "execution_count": 19,
   "metadata": {},
   "outputs": [
    {
     "name": "stdout",
     "output_type": "stream",
     "text": [
      "310\n"
     ]
    }
   ],
   "source": [
    "test(c=200,a=10,b=100) # 키워드 매개변수는 순서가 중요하지 않음(변수의이름이중요)"
   ]
  },
  {
   "cell_type": "code",
   "execution_count": 21,
   "metadata": {},
   "outputs": [
    {
     "name": "stdout",
     "output_type": "stream",
     "text": [
      "230\n"
     ]
    }
   ],
   "source": [
    "test(20, c=200)        # 키워드 매개변수중 일부만 전달할 수 있음"
   ]
  },
  {
   "cell_type": "code",
   "execution_count": null,
   "metadata": {},
   "outputs": [],
   "source": [
    "'''함수(위치 매개변수, 가변형 위치 매개변수(*pos - list로 매핑), \n",
    "        키워드 매개변수, 가변형 키워드 매개변수(**keyword - dict로 매핑(a=10 => {a:10})))'''"
   ]
  },
  {
   "attachments": {},
   "cell_type": "markdown",
   "metadata": {},
   "source": [
    "- 매개변수\n",
    "    - 위치 매개변수 (positional argument), pos(position)\n",
    "    - 가변 위치 매개변수 (varualble positional argument), *pos\n",
    "    - 키워드 매개변수(keyword argument), key=val\n",
    "    - 가변 키워드 매개변수 (variable keyword argument), **key"
   ]
  },
  {
   "attachments": {},
   "cell_type": "markdown",
   "metadata": {},
   "source": [
    "- 반환(return value)"
   ]
  },
  {
   "cell_type": "code",
   "execution_count": 2,
   "metadata": {},
   "outputs": [
    {
     "name": "stdout",
     "output_type": "stream",
     "text": [
      "\n"
     ]
    }
   ],
   "source": [
    "value = input()\n",
    "print(value)"
   ]
  },
  {
   "cell_type": "code",
   "execution_count": 3,
   "metadata": {},
   "outputs": [
    {
     "name": "stdout",
     "output_type": "stream",
     "text": [
      "a위치\n"
     ]
    }
   ],
   "source": [
    "# return자료없이\n",
    "def return_test():\n",
    "    print(\"a위치\")\n",
    "    return # 리턴 만나는 순간 호출된 곳으로 반환\n",
    "    print(\"b위치\") # 여기까지 도달못함 실행안됨 절대실행될수없는 코드(unreachable code)\n",
    "\n",
    "return_test()"
   ]
  },
  {
   "cell_type": "code",
   "execution_count": 4,
   "metadata": {},
   "outputs": [
    {
     "name": "stdout",
     "output_type": "stream",
     "text": [
      "Hello\n"
     ]
    }
   ],
   "source": [
    "# return자료있을때\n",
    "def return_test2():\n",
    "    return 'Hello'\n",
    "val = return_test2()\n",
    "print(val)"
   ]
  },
  {
   "cell_type": "code",
   "execution_count": 5,
   "metadata": {},
   "outputs": [
    {
     "name": "stdout",
     "output_type": "stream",
     "text": [
      "a위치\n",
      "None\n"
     ]
    }
   ],
   "source": [
    "val = return_test()\n",
    "print(val)\n",
    "# return다음 val이없어서 None"
   ]
  },
  {
   "attachments": {},
   "cell_type": "markdown",
   "metadata": {},
   "source": [
    "- 여러개의 값 반환"
   ]
  },
  {
   "cell_type": "code",
   "execution_count": 28,
   "metadata": {},
   "outputs": [
    {
     "name": "stdout",
     "output_type": "stream",
     "text": [
      "10 20 30\n"
     ]
    }
   ],
   "source": [
    "def return_test_multi():\n",
    "    return 10,20,30\n",
    "a,b,c = return_test_multi()\n",
    "print(a,b,c)"
   ]
  },
  {
   "attachments": {},
   "cell_type": "markdown",
   "metadata": {},
   "source": [
    "- 사례"
   ]
  },
  {
   "cell_type": "code",
   "execution_count": 32,
   "metadata": {},
   "outputs": [
    {
     "data": {
      "text/plain": [
       "5050"
      ]
     },
     "execution_count": 32,
     "metadata": {},
     "output_type": "execute_result"
    }
   ],
   "source": [
    "# 범위를 매개변수로 받아 범위 내부의 정수를 모두 더하는 함수\n",
    "def sum_all(start,end):\n",
    "    ''' sum = 0\n",
    "    for i in range(start, end+1):\n",
    "        sum += i\n",
    "    return sum'''\n",
    "    return sum ([i for i in range(start, end+1)])\n",
    "sum_all(1, 100)\n",
    "\n"
   ]
  },
  {
   "cell_type": "code",
   "execution_count": 40,
   "metadata": {},
   "outputs": [
    {
     "data": {
      "text/plain": [
       "6"
      ]
     },
     "execution_count": 40,
     "metadata": {},
     "output_type": "execute_result"
    }
   ],
   "source": [
    "# 범위를 매개변수로 받아 범위 내부의 짝수를 모두 더하는 함수\n",
    "def sum_even_all(start,end):\n",
    "    return sum([i for i in range(start,end+1) if i % 2 == 0])\n",
    "sum_even_all(1,4)"
   ]
  },
  {
   "cell_type": "code",
   "execution_count": 43,
   "metadata": {},
   "outputs": [
    {
     "data": {
      "text/plain": [
       "5050"
      ]
     },
     "execution_count": 43,
     "metadata": {},
     "output_type": "execute_result"
    }
   ],
   "source": [
    "# 범위를 매개변수로 받아 범위 내부의 홀수의 합과 짝수의 합을 반환하는 함수\n",
    "def even_odd(start,end):\n",
    "    sum_e = sum([i for i in range(start,end+1) if i % 2 == 0]) # 짝수\n",
    "    sum_o = sum([i for i in range(start,end+1) if i % 2 == 1]) # 홀수\n",
    "    return sum_e + sum_o\n",
    "even_odd(1,100)"
   ]
  },
  {
   "cell_type": "code",
   "execution_count": 44,
   "metadata": {},
   "outputs": [
    {
     "data": {
      "text/plain": [
       "(2550, 2500)"
      ]
     },
     "execution_count": 44,
     "metadata": {},
     "output_type": "execute_result"
    }
   ],
   "source": [
    "def even_odd(start,end):\n",
    "    return sum([i for i in range(start,end+1) if i % 2 == 0]), \\\n",
    "            sum([i for i in range(start,end+1) if i % 2 == 1])\n",
    "even_odd(1,100)\n",
    "    "
   ]
  },
  {
   "attachments": {},
   "cell_type": "markdown",
   "metadata": {},
   "source": [
    "- 어떤 수의 약수의 합을 반환하는 함수"
   ]
  },
  {
   "cell_type": "code",
   "execution_count": 50,
   "metadata": {},
   "outputs": [
    {
     "data": {
      "text/plain": [
       "56"
      ]
     },
     "execution_count": 50,
     "metadata": {},
     "output_type": "execute_result"
    }
   ],
   "source": [
    "def sum_of_divisors(num):\n",
    "    return sum([i for i in range(1, num+1) if num % i == 0]) # 약수\n",
    "sum_of_divisors(28)"
   ]
  },
  {
   "attachments": {},
   "cell_type": "markdown",
   "metadata": {},
   "source": [
    "- 어떤 수가 대칭수인지 확인하는 함수"
   ]
  },
  {
   "cell_type": "code",
   "execution_count": 2,
   "metadata": {},
   "outputs": [
    {
     "data": {
      "text/plain": [
       "True"
      ]
     },
     "execution_count": 2,
     "metadata": {},
     "output_type": "execute_result"
    }
   ],
   "source": [
    "def is_palindrome(num):\n",
    "    return str(num) == str(num)[::-1]\n",
    "is_palindrome(12321)"
   ]
  },
  {
   "attachments": {},
   "cell_type": "markdown",
   "metadata": {},
   "source": [
    "- 세자리 수 두개를 곱한 결과가 대칭수일때 가장 큰 대칭수는?"
   ]
  },
  {
   "attachments": {},
   "cell_type": "markdown",
   "metadata": {},
   "source": [
    "100,999 => 100,1000\n",
    "이중for\n",
    "- 대칭수의 리스트를 만들기"
   ]
  },
  {
   "cell_type": "code",
   "execution_count": 66,
   "metadata": {},
   "outputs": [
    {
     "data": {
      "text/plain": [
       "906609"
      ]
     },
     "execution_count": 66,
     "metadata": {},
     "output_type": "execute_result"
    }
   ],
   "source": [
    "# 대칭수의 리스트를 만들기 리스트내포\n",
    "palindromes = [i*k for i in range(100,1000) for k in range(i,1000) if is_palindrome(i*k)]\n",
    "# 리스트에서 최대값 구하기\n",
    "max(palindromes)"
   ]
  },
  {
   "cell_type": "code",
   "execution_count": 6,
   "metadata": {},
   "outputs": [
    {
     "data": {
      "text/plain": [
       "[10201,\n",
       " 11211,\n",
       " 12221,\n",
       " 13231,\n",
       " 14241,\n",
       " 15251,\n",
       " 16261,\n",
       " 17271,\n",
       " 18281,\n",
       " 19291,\n",
       " 20402,\n",
       " 21412,\n",
       " 22422,\n",
       " 23432,\n",
       " 24442,\n",
       " 25452,\n",
       " 26462,\n",
       " 27472,\n",
       " 28482,\n",
       " 29492,\n",
       " 30603,\n",
       " 31613,\n",
       " 32623,\n",
       " 33633,\n",
       " 34643,\n",
       " 35653,\n",
       " 36663,\n",
       " 37673,\n",
       " 38683,\n",
       " 39693,\n",
       " 40804,\n",
       " 41814,\n",
       " 42824,\n",
       " 43834,\n",
       " 44844,\n",
       " 45854,\n",
       " 46864,\n",
       " 47874,\n",
       " 48884,\n",
       " 49894,\n",
       " 20502,\n",
       " 21012,\n",
       " 41514,\n",
       " 42024,\n",
       " 62526,\n",
       " 63036,\n",
       " 83538,\n",
       " 84048,\n",
       " 21012,\n",
       " 26162,\n",
       " 42024,\n",
       " 47174,\n",
       " 63036,\n",
       " 68186,\n",
       " 84048,\n",
       " 89198,\n",
       " 21112,\n",
       " 27872,\n",
       " 42224,\n",
       " 48984,\n",
       " 63336,\n",
       " 80808,\n",
       " 84448,\n",
       " 88088,\n",
       " 50505,\n",
       " 53235,\n",
       " 55755,\n",
       " 58485,\n",
       " 21412,\n",
       " 23532,\n",
       " 25652,\n",
       " 27772,\n",
       " 29892,\n",
       " 40704,\n",
       " 42824,\n",
       " 44944,\n",
       " 25252,\n",
       " 45154,\n",
       " 65056,\n",
       " 73937,\n",
       " 93839,\n",
       " 27972,\n",
       " 29592,\n",
       " 46764,\n",
       " 48384,\n",
       " 63936,\n",
       " 65556,\n",
       " 67176,\n",
       " 82728,\n",
       " 84348,\n",
       " 15151,\n",
       " 64746,\n",
       " 74447,\n",
       " 79897,\n",
       " 84148,\n",
       " 89598,\n",
       " 99299,\n",
       " 12321,\n",
       " 13431,\n",
       " 14541,\n",
       " 15651,\n",
       " 16761,\n",
       " 17871,\n",
       " 18981,\n",
       " 20202,\n",
       " 21312,\n",
       " 22422,\n",
       " 23532,\n",
       " 24642,\n",
       " 25752,\n",
       " 26862,\n",
       " 27972,\n",
       " 30303,\n",
       " 31413,\n",
       " 32523,\n",
       " 33633,\n",
       " 34743,\n",
       " 35853,\n",
       " 36963,\n",
       " 40404,\n",
       " 41514,\n",
       " 42624,\n",
       " 43734,\n",
       " 44844,\n",
       " 45954,\n",
       " 50505,\n",
       " 51615,\n",
       " 52725,\n",
       " 53835,\n",
       " 54945,\n",
       " 60606,\n",
       " 61716,\n",
       " 62826,\n",
       " 63936,\n",
       " 70707,\n",
       " 71817,\n",
       " 72927,\n",
       " 80808,\n",
       " 81918,\n",
       " 90909,\n",
       " 23632,\n",
       " 29792,\n",
       " 42224,\n",
       " 48384,\n",
       " 65856,\n",
       " 84448,\n",
       " 27572,\n",
       " 49494,\n",
       " 51415,\n",
       " 73337,\n",
       " 78987,\n",
       " 80908,\n",
       " 95259,\n",
       " 26562,\n",
       " 43434,\n",
       " 60306,\n",
       " 68286,\n",
       " 69996,\n",
       " 85158,\n",
       " 86868,\n",
       " 52325,\n",
       " 53935,\n",
       " 56465,\n",
       " 21112,\n",
       " 23432,\n",
       " 25752,\n",
       " 42224,\n",
       " 44544,\n",
       " 46864,\n",
       " 61016,\n",
       " 63336,\n",
       " 65656,\n",
       " 67976,\n",
       " 82128,\n",
       " 84448,\n",
       " 86768,\n",
       " 28782,\n",
       " 30303,\n",
       " 53235,\n",
       " 60606,\n",
       " 76167,\n",
       " 83538,\n",
       " 90909,\n",
       " 99099,\n",
       " 21712,\n",
       " 25252,\n",
       " 46964,\n",
       " 64546,\n",
       " 68086,\n",
       " 82128,\n",
       " 89798,\n",
       " 15351,\n",
       " 44744,\n",
       " 54145,\n",
       " 69496,\n",
       " 83538,\n",
       " 98889,\n",
       " 14641,\n",
       " 15851,\n",
       " 22022,\n",
       " 23232,\n",
       " 24442,\n",
       " 25652,\n",
       " 26862,\n",
       " 33033,\n",
       " 34243,\n",
       " 35453,\n",
       " 36663,\n",
       " 37873,\n",
       " 44044,\n",
       " 45254,\n",
       " 46464,\n",
       " 47674,\n",
       " 48884,\n",
       " 55055,\n",
       " 56265,\n",
       " 57475,\n",
       " 58685,\n",
       " 59895,\n",
       " 66066,\n",
       " 67276,\n",
       " 68486,\n",
       " 69696,\n",
       " 77077,\n",
       " 78287,\n",
       " 79497,\n",
       " 88088,\n",
       " 89298,\n",
       " 99099,\n",
       " 106601,\n",
       " 119911,\n",
       " 26962,\n",
       " 27572,\n",
       " 28182,\n",
       " 40504,\n",
       " 41114,\n",
       " 68686,\n",
       " 69296,\n",
       " 81618,\n",
       " 82228,\n",
       " 18081,\n",
       " 28782,\n",
       " 33333,\n",
       " 66666,\n",
       " 71217,\n",
       " 81918,\n",
       " 89298,\n",
       " 99999,\n",
       " 117711,\n",
       " 23932,\n",
       " 44144,\n",
       " 48484,\n",
       " 63736,\n",
       " 88288,\n",
       " 52125,\n",
       " 52625,\n",
       " 57375,\n",
       " 57875,\n",
       " 25452,\n",
       " 27972,\n",
       " 48384,\n",
       " 60606,\n",
       " 81018,\n",
       " 83538,\n",
       " 26162,\n",
       " 37973,\n",
       " 43434,\n",
       " 60706,\n",
       " 69596,\n",
       " 75057,\n",
       " 86868,\n",
       " 92329,\n",
       " 40704,\n",
       " 42624,\n",
       " 44544,\n",
       " 46464,\n",
       " 48384,\n",
       " 34443,\n",
       " 49794,\n",
       " 53535,\n",
       " 68886,\n",
       " 72627,\n",
       " 87978,\n",
       " 91719,\n",
       " 25152,\n",
       " 26462,\n",
       " 27772,\n",
       " 37073,\n",
       " 38383,\n",
       " 39693,\n",
       " 21912,\n",
       " 23232,\n",
       " 46464,\n",
       " 61116,\n",
       " 69696,\n",
       " 84348,\n",
       " 21812,\n",
       " 29792,\n",
       " 37373,\n",
       " 66766,\n",
       " 74347,\n",
       " 20502,\n",
       " 27872,\n",
       " 46364,\n",
       " 66866,\n",
       " 85358,\n",
       " 54945,\n",
       " 55755,\n",
       " 56565,\n",
       " 57375,\n",
       " 58185,\n",
       " 27472,\n",
       " 42024,\n",
       " 44744,\n",
       " 69496,\n",
       " 84048,\n",
       " 86768,\n",
       " 19591,\n",
       " 20002,\n",
       " 29592,\n",
       " 30003,\n",
       " 39593,\n",
       " 40004,\n",
       " 49594,\n",
       " 50005,\n",
       " 59595,\n",
       " 60006,\n",
       " 69596,\n",
       " 70007,\n",
       " 79597,\n",
       " 80008,\n",
       " 89598,\n",
       " 90009,\n",
       " 99599,\n",
       " 110011,\n",
       " 41814,\n",
       " 45954,\n",
       " 60306,\n",
       " 64446,\n",
       " 68586,\n",
       " 87078,\n",
       " 24742,\n",
       " 39893,\n",
       " 52125,\n",
       " 61716,\n",
       " 67276,\n",
       " 76867,\n",
       " 105501,\n",
       " 27072,\n",
       " 28482,\n",
       " 29892,\n",
       " 67876,\n",
       " 68586,\n",
       " 69296,\n",
       " 82928,\n",
       " 83638,\n",
       " 84348,\n",
       " 85058,\n",
       " 22022,\n",
       " 33033,\n",
       " 44044,\n",
       " 55055,\n",
       " 66066,\n",
       " 77077,\n",
       " 88088,\n",
       " 99099,\n",
       " 101101,\n",
       " 111111,\n",
       " 121121,\n",
       " 131131,\n",
       " 141141,\n",
       " 21312,\n",
       " 27072,\n",
       " 42624,\n",
       " 48384,\n",
       " 63936,\n",
       " 69696,\n",
       " 80208,\n",
       " 50605,\n",
       " 52925,\n",
       " 57275,\n",
       " 59595,\n",
       " 22922,\n",
       " 29492,\n",
       " 40004,\n",
       " 42924,\n",
       " 49494,\n",
       " 60006,\n",
       " 62926,\n",
       " 69496,\n",
       " 80008,\n",
       " 82928,\n",
       " 89498,\n",
       " 42924,\n",
       " 65856,\n",
       " 70707,\n",
       " 88788,\n",
       " 93639,\n",
       " 23532,\n",
       " 25752,\n",
       " 27972,\n",
       " 40404,\n",
       " 42624,\n",
       " 44844,\n",
       " 61716,\n",
       " 63936,\n",
       " 80808,\n",
       " 74947,\n",
       " 83738,\n",
       " 89698,\n",
       " 92529,\n",
       " 98489,\n",
       " 72027,\n",
       " 73537,\n",
       " 87278,\n",
       " 88788,\n",
       " 29792,\n",
       " 46664,\n",
       " 48184,\n",
       " 63536,\n",
       " 65056,\n",
       " 80408,\n",
       " 57375,\n",
       " 63036,\n",
       " 77877,\n",
       " 83538,\n",
       " 28182,\n",
       " 44044,\n",
       " 66066,\n",
       " 88088,\n",
       " 51615,\n",
       " 55955,\n",
       " 56265,\n",
       " 40404,\n",
       " 48984,\n",
       " 63336,\n",
       " 80808,\n",
       " 86268,\n",
       " 26062,\n",
       " 35953,\n",
       " 39093,\n",
       " 48984,\n",
       " 70807,\n",
       " 83838,\n",
       " 96869,\n",
       " 108801,\n",
       " 143341,\n",
       " 28282,\n",
       " 43134,\n",
       " 47874,\n",
       " 62726,\n",
       " 86268,\n",
       " 29892,\n",
       " 40704,\n",
       " 72027,\n",
       " 78387,\n",
       " 95559,\n",
       " 52325,\n",
       " 53935,\n",
       " 68586,\n",
       " 29992,\n",
       " 59495,\n",
       " 68786,\n",
       " 98289,\n",
       " 102201,\n",
       " 29192,\n",
       " 44444,\n",
       " 67076,\n",
       " 82328,\n",
       " 88888,\n",
       " 51315,\n",
       " 54945,\n",
       " 56265,\n",
       " 59895,\n",
       " 40504,\n",
       " 47974,\n",
       " 66566,\n",
       " 85158,\n",
       " 29392,\n",
       " 33233,\n",
       " 66466,\n",
       " 70307,\n",
       " 99699,\n",
       " 48384,\n",
       " 63336,\n",
       " 65856,\n",
       " 80808,\n",
       " 53235,\n",
       " 59995,\n",
       " 61516,\n",
       " 98189,\n",
       " 43434,\n",
       " 85158,\n",
       " 86868,\n",
       " 31313,\n",
       " 46364,\n",
       " 62626,\n",
       " 77677,\n",
       " 93939,\n",
       " 165561,\n",
       " 44544,\n",
       " 63336,\n",
       " 82128,\n",
       " 52325,\n",
       " 57575,\n",
       " 40304,\n",
       " 46464,\n",
       " 63536,\n",
       " 69696,\n",
       " 80608,\n",
       " 86768,\n",
       " 55755,\n",
       " 59295,\n",
       " 82128,\n",
       " 98589,\n",
       " 44144,\n",
       " 68886,\n",
       " 83838,\n",
       " 88288,\n",
       " 51015,\n",
       " 65156,\n",
       " 79297,\n",
       " 80908,\n",
       " 155551,\n",
       " 49594,\n",
       " 62626,\n",
       " 79097,\n",
       " 92129,\n",
       " 93939,\n",
       " 40404,\n",
       " 41314,\n",
       " 42224,\n",
       " 43134,\n",
       " 44044,\n",
       " 60606,\n",
       " 61516,\n",
       " 62426,\n",
       " 63336,\n",
       " 64246,\n",
       " 65156,\n",
       " 66066,\n",
       " 80808,\n",
       " 81718,\n",
       " 82628,\n",
       " 83538,\n",
       " 84448,\n",
       " 85358,\n",
       " 86268,\n",
       " 87178,\n",
       " 88088,\n",
       " 74847,\n",
       " 81618,\n",
       " 44344,\n",
       " 80408,\n",
       " 88688,\n",
       " 50505,\n",
       " 51615,\n",
       " 52725,\n",
       " 53835,\n",
       " 54945,\n",
       " 87978,\n",
       " 41514,\n",
       " 45254,\n",
       " 86768,\n",
       " 127721,\n",
       " 133331,\n",
       " 168861,\n",
       " 174471,\n",
       " 180081,\n",
       " 44744,\n",
       " 86668,\n",
       " 48384,\n",
       " 55755,\n",
       " 76167,\n",
       " 83538,\n",
       " 90909,\n",
       " 36863,\n",
       " 52525,\n",
       " 87478,\n",
       " 40704,\n",
       " 42624,\n",
       " 44544,\n",
       " 46464,\n",
       " 48384,\n",
       " 63936,\n",
       " 65856,\n",
       " 67776,\n",
       " 69696,\n",
       " 49794,\n",
       " 71217,\n",
       " 84148,\n",
       " 97079,\n",
       " 142241,\n",
       " 50505,\n",
       " 53235,\n",
       " 42924,\n",
       " 65856,\n",
       " 88788,\n",
       " 43734,\n",
       " 47674,\n",
       " 71117,\n",
       " 75057,\n",
       " 64746,\n",
       " 69696,\n",
       " 84348,\n",
       " 89298,\n",
       " 46964,\n",
       " 66466,\n",
       " 99699,\n",
       " 59295,\n",
       " 79797,\n",
       " 98289,\n",
       " 40804,\n",
       " 41814,\n",
       " 42824,\n",
       " 43834,\n",
       " 44844,\n",
       " 45854,\n",
       " 46864,\n",
       " 47874,\n",
       " 48884,\n",
       " 49894,\n",
       " 42224,\n",
       " 63336,\n",
       " 84448,\n",
       " 42024,\n",
       " 63036,\n",
       " 84048,\n",
       " 55555,\n",
       " 47174,\n",
       " 63036,\n",
       " 68186,\n",
       " 84048,\n",
       " 89198,\n",
       " 45954,\n",
       " 92529,\n",
       " 96669,\n",
       " 84448,\n",
       " 57475,\n",
       " 63536,\n",
       " 102201,\n",
       " 137731,\n",
       " 154451,\n",
       " 171171,\n",
       " 189981,\n",
       " 204402,\n",
       " 45154,\n",
       " 68786,\n",
       " 92629,\n",
       " 44944,\n",
       " 68586,\n",
       " 76467,\n",
       " 84348,\n",
       " 92229,\n",
       " 65056,\n",
       " 51815,\n",
       " 53535,\n",
       " 55255,\n",
       " 48384,\n",
       " 63936,\n",
       " 67176,\n",
       " 82728,\n",
       " 76167,\n",
       " 64746,\n",
       " 84148,\n",
       " 89598,\n",
       " 49494,\n",
       " 60006,\n",
       " 72927,\n",
       " 79497,\n",
       " 90009,\n",
       " 54145,\n",
       " 83538,\n",
       " 60606,\n",
       " 61716,\n",
       " 62826,\n",
       " 63936,\n",
       " 80808,\n",
       " 81918,\n",
       " 210012,\n",
       " 56865,\n",
       " 59095,\n",
       " 81618,\n",
       " 98789,\n",
       " 188881,\n",
       " 65856,\n",
       " 84448,\n",
       " 52425,\n",
       " 57375,\n",
       " 80908,\n",
       " 82628,\n",
       " 99199,\n",
       " 182281,\n",
       " 69996,\n",
       " 86868,\n",
       " 80608,\n",
       " 87478,\n",
       " 66066,\n",
       " 99099,\n",
       " 108801,\n",
       " 111111,\n",
       " 138831,\n",
       " 141141,\n",
       " 168861,\n",
       " 171171,\n",
       " 198891,\n",
       " 219912,\n",
       " 222222,\n",
       " 61016,\n",
       " 63336,\n",
       " 65656,\n",
       " 67976,\n",
       " 82128,\n",
       " 84448,\n",
       " 86768,\n",
       " 78987,\n",
       " 60606,\n",
       " 83538,\n",
       " 56165,\n",
       " 57575,\n",
       " 58985,\n",
       " 82128,\n",
       " 86268,\n",
       " 91719,\n",
       " 69496,\n",
       " 83538,\n",
       " 219912,\n",
       " 60706,\n",
       " 67876,\n",
       " 128821,\n",
       " 88688,\n",
       " 66066,\n",
       " 67276,\n",
       " 68486,\n",
       " 69696,\n",
       " 88088,\n",
       " 89298,\n",
       " 201102,\n",
       " 214412,\n",
       " 227722,\n",
       " 69296,\n",
       " 82228,\n",
       " 66666,\n",
       " 81918,\n",
       " 89298,\n",
       " 74347,\n",
       " 171171,\n",
       " 63736,\n",
       " 88288,\n",
       " 215512,\n",
       " 85158,\n",
       " 66766,\n",
       " 74547,\n",
       " 82328,\n",
       " 90109,\n",
       " 105501,\n",
       " 133331,\n",
       " 161161,\n",
       " 178871,\n",
       " 221122,\n",
       " 238832,\n",
       " 69596,\n",
       " 86868,\n",
       " 68886,\n",
       " 87978,\n",
       " 210012,\n",
       " 70707,\n",
       " 80808,\n",
       " 90909,\n",
       " 111111,\n",
       " 222222,\n",
       " 117711,\n",
       " 90209,\n",
       " 69696,\n",
       " 213312,\n",
       " 219912,\n",
       " 234432,\n",
       " 255552,\n",
       " 239932,\n",
       " 83838,\n",
       " 73437,\n",
       " 99799,\n",
       " 77777,\n",
       " 88888,\n",
       " 99999,\n",
       " 122221,\n",
       " 244442,\n",
       " 84048,\n",
       " 86768,\n",
       " 76167,\n",
       " 80808,\n",
       " 83538,\n",
       " 86268,\n",
       " 90909,\n",
       " 93639,\n",
       " 96369,\n",
       " 99099,\n",
       " 111111,\n",
       " 141141,\n",
       " 171171,\n",
       " 222222,\n",
       " 252252,\n",
       " 80008,\n",
       " 89598,\n",
       " 220022,\n",
       " 98889,\n",
       " 201102,\n",
       " 270072,\n",
       " 83738,\n",
       " 95259,\n",
       " 99899,\n",
       " 82928,\n",
       " 84348,\n",
       " 88088,\n",
       " 202202,\n",
       " 212212,\n",
       " 222222,\n",
       " 232232,\n",
       " 242242,\n",
       " 252252,\n",
       " 262262,\n",
       " 272272,\n",
       " 282282,\n",
       " 198891,\n",
       " 239932,\n",
       " 234432,\n",
       " 87278,\n",
       " 95659,\n",
       " 92829,\n",
       " 88788,\n",
       " 219912,\n",
       " 252252,\n",
       " 234432,\n",
       " 94149,\n",
       " 89698,\n",
       " 161161,\n",
       " 168861,\n",
       " 123321,\n",
       " 156651,\n",
       " 189981,\n",
       " 213312,\n",
       " 246642,\n",
       " 279972,\n",
       " 225522,\n",
       " 94249,\n",
       " 256652,\n",
       " 212212,\n",
       " 219912,\n",
       " 232232,\n",
       " 239932,\n",
       " 252252,\n",
       " 259952,\n",
       " 272272,\n",
       " 279972,\n",
       " 292292,\n",
       " 299992,\n",
       " 231132,\n",
       " 174471,\n",
       " 286682,\n",
       " 215512,\n",
       " 149941,\n",
       " 258852,\n",
       " 117711,\n",
       " 140041,\n",
       " 165561,\n",
       " 209902,\n",
       " 232232,\n",
       " 257752,\n",
       " 280082,\n",
       " 180081,\n",
       " 204402,\n",
       " 273372,\n",
       " 141141,\n",
       " 209902,\n",
       " 282282,\n",
       " 302203,\n",
       " 135531,\n",
       " 234432,\n",
       " 329923,\n",
       " 324423,\n",
       " 129921,\n",
       " 133331,\n",
       " 184481,\n",
       " 215512,\n",
       " 266662,\n",
       " 270072,\n",
       " 301103,\n",
       " 290092,\n",
       " 213312,\n",
       " 234432,\n",
       " 255552,\n",
       " 276672,\n",
       " 297792,\n",
       " 168861,\n",
       " 219912,\n",
       " 147741,\n",
       " 162261,\n",
       " 201102,\n",
       " 255552,\n",
       " 270072,\n",
       " 348843,\n",
       " 212212,\n",
       " 232232,\n",
       " 252252,\n",
       " 272272,\n",
       " 292292,\n",
       " 238832,\n",
       " 198891,\n",
       " 212212,\n",
       " 270072,\n",
       " 219912,\n",
       " 225522,\n",
       " 231132,\n",
       " 266662,\n",
       " 272272,\n",
       " 297792,\n",
       " 232232,\n",
       " 284482,\n",
       " 378873,\n",
       " 294492,\n",
       " 372273,\n",
       " 266662,\n",
       " 219912,\n",
       " 159951,\n",
       " 276672,\n",
       " 216612,\n",
       " 234432,\n",
       " 252252,\n",
       " 270072,\n",
       " 279972,\n",
       " 297792,\n",
       " 187781,\n",
       " 171171,\n",
       " 225522,\n",
       " 213312,\n",
       " 235532,\n",
       " 257752,\n",
       " 279972,\n",
       " 209902,\n",
       " 232232,\n",
       " 210012,\n",
       " 222222,\n",
       " 234432,\n",
       " 246642,\n",
       " 258852,\n",
       " 321123,\n",
       " 333333,\n",
       " 345543,\n",
       " 357753,\n",
       " 369963,\n",
       " 219912,\n",
       " 330033,\n",
       " 231132,\n",
       " 204402,\n",
       " 221122,\n",
       " 239932,\n",
       " 256652,\n",
       " 273372,\n",
       " 290092,\n",
       " 408804,\n",
       " 308803,\n",
       " 259952,\n",
       " 297792,\n",
       " 401104,\n",
       " 277772,\n",
       " 222222,\n",
       " 252252,\n",
       " 282282,\n",
       " 303303,\n",
       " 333333,\n",
       " 363363,\n",
       " 393393,\n",
       " 414414,\n",
       " 273372,\n",
       " 221122,\n",
       " 280082,\n",
       " 198891,\n",
       " 252252,\n",
       " 272272,\n",
       " 214412,\n",
       " 428824,\n",
       " 210012,\n",
       " 234432,\n",
       " 258852,\n",
       " 420024,\n",
       " 436634,\n",
       " 239932,\n",
       " 244442,\n",
       " 366663,\n",
       " 371173,\n",
       " 407704,\n",
       " 412214,\n",
       " 407704,\n",
       " 412214,\n",
       " 443344,\n",
       " 219912,\n",
       " 222222,\n",
       " 249942,\n",
       " 252252,\n",
       " 279972,\n",
       " ...]"
      ]
     },
     "execution_count": 6,
     "metadata": {},
     "output_type": "execute_result"
    }
   ],
   "source": [
    "# 대칭수의 리스트를 만들기\n",
    "palindromes = []\n",
    "for i in range(100,1000):\n",
    "        for k in range(i,1000):\n",
    "            if is_palindrome(i*k):  # i*k가 is_palindrome이 True라면\n",
    "                  palindromes.append(i*k)\n",
    "palindromes"
   ]
  },
  {
   "cell_type": "code",
   "execution_count": 7,
   "metadata": {},
   "outputs": [
    {
     "name": "stdout",
     "output_type": "stream",
     "text": [
      "913 993 906609\n"
     ]
    }
   ],
   "source": [
    "max_i, max_k, max_val = 0, 0, 0\n",
    "for i in range(100, 1000):\n",
    "    for k in range(i, 1000):\n",
    "        if is_palindrome(i * k):\n",
    "            if i * k > max_val:\n",
    "                max_val,max_i,max_k = i*k, i, k\n",
    "print(max_i, max_k, max_val)"
   ]
  },
  {
   "cell_type": "code",
   "execution_count": null,
   "metadata": {},
   "outputs": [],
   "source": []
  }
 ],
 "metadata": {
  "kernelspec": {
   "display_name": "base",
   "language": "python",
   "name": "python3"
  },
  "language_info": {
   "codemirror_mode": {
    "name": "ipython",
    "version": 3
   },
   "file_extension": ".py",
   "mimetype": "text/x-python",
   "name": "python",
   "nbconvert_exporter": "python",
   "pygments_lexer": "ipython3",
   "version": "3.10.9"
  },
  "orig_nbformat": 4
 },
 "nbformat": 4,
 "nbformat_minor": 2
}
