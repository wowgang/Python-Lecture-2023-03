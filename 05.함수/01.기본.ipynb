{
 "cells": [
  {
   "cell_type": "markdown",
   "metadata": {},
   "source": [
    "### 5-1. 함수 기본"
   ]
  },
  {
   "cell_type": "code",
   "execution_count": 1,
   "metadata": {},
   "outputs": [],
   "source": [
    "# 함수 생성\n",
    "def print_3_times():\n",
    "    for _ in range(3):\n",
    "        print('안녕하세요')"
   ]
  },
  {
   "cell_type": "code",
   "execution_count": 3,
   "metadata": {},
   "outputs": [
    {
     "name": "stdout",
     "output_type": "stream",
     "text": [
      "안녕하세요\n",
      "안녕하세요\n",
      "안녕하세요\n"
     ]
    }
   ],
   "source": [
    "# 함수 호출\n",
    "print_3_times()"
   ]
  },
  {
   "cell_type": "code",
   "execution_count": 4,
   "metadata": {},
   "outputs": [
    {
     "ename": "NameError",
     "evalue": "name 'print_2_times' is not defined",
     "output_type": "error",
     "traceback": [
      "\u001b[1;31m---------------------------------------------------------------------------\u001b[0m",
      "\u001b[1;31mNameError\u001b[0m                                 Traceback (most recent call last)",
      "Cell \u001b[1;32mIn[4], line 1\u001b[0m\n\u001b[1;32m----> 1\u001b[0m print_2_times()\n\u001b[0;32m      3\u001b[0m \u001b[39mdef\u001b[39;00m \u001b[39mprint_2_times\u001b[39m():\n\u001b[0;32m      4\u001b[0m     \u001b[39mfor\u001b[39;00m _ \u001b[39min\u001b[39;00m \u001b[39mrange\u001b[39m(\u001b[39m2\u001b[39m):\n",
      "\u001b[1;31mNameError\u001b[0m: name 'print_2_times' is not defined"
     ]
    }
   ],
   "source": [
    "# 파이썬을 반드시 함수를 선언해야 사용할수있다 \n",
    "# 함수를 사용하기 전에 반드시 함수가 정의되어 있어야 함\n",
    "print_2_times()\n",
    "\n",
    "def print_2_times():\n",
    "    for _ in range(2):\n",
    "        print('안녕하세요')\n",
    "# NameError: name 'print_2_times' is not defined\n",
    "# python은 호이스팅이 아니고 js는 호이스팅이라 이렇게 함수를 입력해도 적용이된다\n",
    "# 아마도 호이스팅이 윗줄부터 읽어주는 의미였나........\n",
    "# 자바스크립트는 호출전에 함수를 꼭 먼저 만들 필요가 없다."
   ]
  },
  {
   "attachments": {},
   "cell_type": "markdown",
   "metadata": {},
   "source": [
    "- 매개변수"
   ]
  },
  {
   "cell_type": "code",
   "execution_count": 5,
   "metadata": {},
   "outputs": [
    {
     "name": "stdout",
     "output_type": "stream",
     "text": [
      "Hello world!!!\n",
      "Hello world!!!\n",
      "Hello world!!!\n"
     ]
    }
   ],
   "source": [
    "def print_n_times(msg, n):\n",
    "    for _ in range(n):\n",
    "        print(msg)\n",
    "print_n_times('Hello world!!!', 3)"
   ]
  },
  {
   "cell_type": "code",
   "execution_count": 6,
   "metadata": {},
   "outputs": [
    {
     "ename": "TypeError",
     "evalue": "print_n_times() takes 2 positional arguments but 3 were given",
     "output_type": "error",
     "traceback": [
      "\u001b[1;31m---------------------------------------------------------------------------\u001b[0m",
      "\u001b[1;31mTypeError\u001b[0m                                 Traceback (most recent call last)",
      "Cell \u001b[1;32mIn[6], line 1\u001b[0m\n\u001b[1;32m----> 1\u001b[0m print_n_times(\u001b[39m'\u001b[39;49m\u001b[39mHello world!!!\u001b[39;49m\u001b[39m'\u001b[39;49m, \u001b[39m3\u001b[39;49m,\u001b[39m5\u001b[39;49m)\n",
      "\u001b[1;31mTypeError\u001b[0m: print_n_times() takes 2 positional arguments but 3 were given"
     ]
    }
   ],
   "source": [
    "print_n_times('Hello world!!!', 3,5)\n",
    "# TypeError: print_n_times() takes 2 positional arguments but 3 were given"
   ]
  },
  {
   "cell_type": "code",
   "execution_count": 3,
   "metadata": {},
   "outputs": [
    {
     "data": {
      "text/plain": [
       "(30, -10)"
      ]
     },
     "execution_count": 3,
     "metadata": {},
     "output_type": "execute_result"
    }
   ],
   "source": [
    "def add_sub(a,b):\n",
    "    return a+b, a-b\n",
    "x,y = add_sub(10,20)\n",
    "x,y\n",
    "# a+b는 x변수에 , a-b는 y 변수에\n",
    "# 튜플로 변환 (튜플이 변수 여러 개에 할당 되는 특성을 이용한것- 언패킹)"
   ]
  },
  {
   "attachments": {},
   "cell_type": "markdown",
   "metadata": {},
   "source": [
    "- 가변 매개변수"
   ]
  },
  {
   "cell_type": "code",
   "execution_count": 8,
   "metadata": {},
   "outputs": [],
   "source": [
    "def print_n_times(n, *values):  # *가변매개면수 \n",
    "    for _ in range(n):\n",
    "        for value in values:\n",
    "            print(value)        # 가변 매개변수로 전달된 내용 출력\n",
    "        print()     # 줄 바꿈\n"
   ]
  },
  {
   "cell_type": "code",
   "execution_count": 9,
   "metadata": {},
   "outputs": [
    {
     "name": "stdout",
     "output_type": "stream",
     "text": [
      "Hello\n",
      "World\n",
      "\n",
      "Hello\n",
      "World\n",
      "\n",
      "Hello\n",
      "World\n",
      "\n"
     ]
    }
   ],
   "source": [
    "print_n_times(3, 'Hello', 'World')"
   ]
  },
  {
   "attachments": {},
   "cell_type": "markdown",
   "metadata": {},
   "source": [
    "- 기본 매개변수"
   ]
  },
  {
   "cell_type": "code",
   "execution_count": 10,
   "metadata": {},
   "outputs": [],
   "source": [
    "def print_n_times(*values, n=3):  # *가변매개면수 \n",
    "    for _ in range(n):\n",
    "        for value in values:\n",
    "            print(value)        # 가변 매개변수로 전달된 내용 출력\n",
    "        print()     # 줄 바꿈"
   ]
  },
  {
   "cell_type": "code",
   "execution_count": 14,
   "metadata": {},
   "outputs": [
    {
     "name": "stdout",
     "output_type": "stream",
     "text": [
      "Hello\n",
      "World\n",
      "2\n",
      "\n",
      "Hello\n",
      "World\n",
      "2\n",
      "\n",
      "Hello\n",
      "World\n",
      "2\n",
      "\n"
     ]
    }
   ],
   "source": [
    "print_n_times( 'Hello', 'World',2)"
   ]
  },
  {
   "attachments": {},
   "cell_type": "markdown",
   "metadata": {},
   "source": [
    "- 키워드 매개변수"
   ]
  },
  {
   "cell_type": "code",
   "execution_count": 15,
   "metadata": {},
   "outputs": [
    {
     "name": "stdout",
     "output_type": "stream",
     "text": [
      "Hello\n",
      "World\n",
      "\n",
      "Hello\n",
      "World\n",
      "\n"
     ]
    }
   ],
   "source": [
    "print_n_times( 'Hello', 'World',n=2)"
   ]
  },
  {
   "cell_type": "code",
   "execution_count": 16,
   "metadata": {},
   "outputs": [],
   "source": [
    "def test(a, b=10, c=100): # 가변이없음\n",
    "    print(a + b +c)"
   ]
  },
  {
   "cell_type": "code",
   "execution_count": 17,
   "metadata": {},
   "outputs": [
    {
     "name": "stdout",
     "output_type": "stream",
     "text": [
      "60\n"
     ]
    }
   ],
   "source": [
    "test(10, 20, 30) # 위치맞게 맵핑이 돼서 값이 들어감\n",
    "                # a 가 가변매개변수가 아니므로 20,30의 값이 b,c로 전달됨"
   ]
  },
  {
   "cell_type": "code",
   "execution_count": 18,
   "metadata": {},
   "outputs": [
    {
     "name": "stdout",
     "output_type": "stream",
     "text": [
      "310\n"
     ]
    }
   ],
   "source": [
    "test(a=10, b=100, c=200) # 위치 매개변수도 키워드 매개변수같이 사용해도됨"
   ]
  },
  {
   "cell_type": "code",
   "execution_count": 19,
   "metadata": {},
   "outputs": [
    {
     "name": "stdout",
     "output_type": "stream",
     "text": [
      "310\n"
     ]
    }
   ],
   "source": [
    "test(c=200,a=10,b=100) # 키워드 매개변수는 순서가 중요하지 않음(변수의이름이중요)"
   ]
  },
  {
   "cell_type": "code",
   "execution_count": 21,
   "metadata": {},
   "outputs": [
    {
     "name": "stdout",
     "output_type": "stream",
     "text": [
      "230\n"
     ]
    }
   ],
   "source": [
    "test(20, c=200)        # 키워드 매개변수중 일부만 전달할 수 있음"
   ]
  },
  {
   "cell_type": "code",
   "execution_count": null,
   "metadata": {},
   "outputs": [],
   "source": [
    "함수(위치 매개변수, 가변형 위치 매개변수(*pos - list로 매핑), \n",
    "        키워드 매개변수, 가변형 키워드 매개변수(**keyword - dict로 매핑(a=10 => {a:10})))"
   ]
  },
  {
   "attachments": {},
   "cell_type": "markdown",
   "metadata": {},
   "source": [
    "- 매개변수\n",
    "    - 위치 매개변수 (positional argument), pos(position)\n",
    "    - 가변 취치 매개변수 (varualble positional argument), *pos\n",
    "    - 키워드 매개변수(keyword argument), key=val\n",
    "    - 가변 키워드 매개변수 (variable keyword argument), **key"
   ]
  },
  {
   "attachments": {},
   "cell_type": "markdown",
   "metadata": {},
   "source": [
    "- 반환(return value)"
   ]
  },
  {
   "cell_type": "code",
   "execution_count": 22,
   "metadata": {},
   "outputs": [
    {
     "name": "stdout",
     "output_type": "stream",
     "text": [
      "hello\n"
     ]
    }
   ],
   "source": [
    "value = input()\n",
    "print(value)"
   ]
  },
  {
   "cell_type": "code",
   "execution_count": 23,
   "metadata": {},
   "outputs": [
    {
     "name": "stdout",
     "output_type": "stream",
     "text": [
      "a위치\n"
     ]
    }
   ],
   "source": [
    "# return자료없이\n",
    "def return_test():\n",
    "    print(\"a위치\")\n",
    "    return # 리턴 만나는 순간 호출된 곳으로 반환\n",
    "    print(\"b위치\") # 여기까지 도달못함 실행안됨 절대실행될수없는 코드(unreachable code)\n",
    "\n",
    "return_test()"
   ]
  },
  {
   "cell_type": "code",
   "execution_count": 26,
   "metadata": {},
   "outputs": [
    {
     "name": "stdout",
     "output_type": "stream",
     "text": [
      "Hello\n"
     ]
    }
   ],
   "source": [
    "# return자료있을때\n",
    "def return_test2():\n",
    "    return 'Hello'\n",
    "val = return_test2()\n",
    "print(val)"
   ]
  },
  {
   "cell_type": "code",
   "execution_count": 27,
   "metadata": {},
   "outputs": [
    {
     "name": "stdout",
     "output_type": "stream",
     "text": [
      "a위치\n",
      "None\n"
     ]
    }
   ],
   "source": [
    "val = return_test()\n",
    "print(val)\n",
    "# return다음 val이없어서 None"
   ]
  },
  {
   "attachments": {},
   "cell_type": "markdown",
   "metadata": {},
   "source": [
    "- 여러개의 값 반환"
   ]
  },
  {
   "cell_type": "code",
   "execution_count": 28,
   "metadata": {},
   "outputs": [
    {
     "name": "stdout",
     "output_type": "stream",
     "text": [
      "10 20 30\n"
     ]
    }
   ],
   "source": [
    "def return_test_multi():\n",
    "    return 10,20,30\n",
    "a,b,c = return_test_multi()\n",
    "print(a,b,c)"
   ]
  },
  {
   "attachments": {},
   "cell_type": "markdown",
   "metadata": {},
   "source": [
    "- 사례"
   ]
  },
  {
   "cell_type": "code",
   "execution_count": 32,
   "metadata": {},
   "outputs": [
    {
     "data": {
      "text/plain": [
       "5050"
      ]
     },
     "execution_count": 32,
     "metadata": {},
     "output_type": "execute_result"
    }
   ],
   "source": [
    "# 범위를 매개변수로 받아 범위 내부의 정수를 모두 더하는 함수\n",
    "def sum_all(start,end):\n",
    "    ''' sum = 0\n",
    "    for i in range(start, end+1):\n",
    "        sum += i\n",
    "    return sum'''\n",
    "    return sum ([i for i in range(start, end+1)])\n",
    "sum_all(1, 100)\n",
    "\n"
   ]
  },
  {
   "cell_type": "code",
   "execution_count": 40,
   "metadata": {},
   "outputs": [
    {
     "data": {
      "text/plain": [
       "6"
      ]
     },
     "execution_count": 40,
     "metadata": {},
     "output_type": "execute_result"
    }
   ],
   "source": [
    "# 범위를 매개변수로 받아 범위 내부의 짝수를 모두 더하는 함수\n",
    "def sum_even_all(start,end):\n",
    "    return sum([i for i in range(start,end+1) if i % 2 == 0])\n",
    "sum_even_all(1,4)"
   ]
  },
  {
   "cell_type": "code",
   "execution_count": 43,
   "metadata": {},
   "outputs": [
    {
     "data": {
      "text/plain": [
       "5050"
      ]
     },
     "execution_count": 43,
     "metadata": {},
     "output_type": "execute_result"
    }
   ],
   "source": [
    "# 범위를 매개변수로 받아 범위 내부의 홀수의 합과 짝수의 합을 반환하는 함수\n",
    "def even_odd(start,end):\n",
    "    sum_e = sum([i for i in range(start,end+1) if i % 2 == 0]) # 짝수\n",
    "    sum_o = sum([i for i in range(start,end+1) if i % 2 == 1]) # 홀수\n",
    "    return sum_e + sum_o\n",
    "even_odd(1,100)"
   ]
  },
  {
   "cell_type": "code",
   "execution_count": 44,
   "metadata": {},
   "outputs": [
    {
     "data": {
      "text/plain": [
       "(2550, 2500)"
      ]
     },
     "execution_count": 44,
     "metadata": {},
     "output_type": "execute_result"
    }
   ],
   "source": [
    "def even_odd(start,end):\n",
    "    return sum([i for i in range(start,end+1) if i % 2 == 0]), \\\n",
    "            sum([i for i in range(start,end+1) if i % 2 == 1])\n",
    "even_odd(1,100)\n",
    "    "
   ]
  },
  {
   "attachments": {},
   "cell_type": "markdown",
   "metadata": {},
   "source": [
    "- 어떤 수의 약수의 합을 반환하는 함수"
   ]
  },
  {
   "cell_type": "code",
   "execution_count": 50,
   "metadata": {},
   "outputs": [
    {
     "data": {
      "text/plain": [
       "56"
      ]
     },
     "execution_count": 50,
     "metadata": {},
     "output_type": "execute_result"
    }
   ],
   "source": [
    "def sum_of_divisors(num):\n",
    "    return sum([i for i in range(1, num+1) if num % i == 0]) # 약수\n",
    "sum_of_divisors(28)"
   ]
  },
  {
   "attachments": {},
   "cell_type": "markdown",
   "metadata": {},
   "source": [
    "- 어떤 수가 대칭수인지 확인하는 함수"
   ]
  },
  {
   "cell_type": "code",
   "execution_count": 65,
   "metadata": {},
   "outputs": [
    {
     "data": {
      "text/plain": [
       "True"
      ]
     },
     "execution_count": 65,
     "metadata": {},
     "output_type": "execute_result"
    }
   ],
   "source": [
    "def is_palindrome(num):\n",
    "    return str(num) == str(num)[::-1]\n",
    "is_palindrome(12321)"
   ]
  },
  {
   "attachments": {},
   "cell_type": "markdown",
   "metadata": {},
   "source": [
    "- 세자리 수 두개를 곱한 결과가 대칭수일때 가장 큰 대칭수는?"
   ]
  },
  {
   "attachments": {},
   "cell_type": "markdown",
   "metadata": {},
   "source": [
    "100,999 => 100,1000\n",
    "이중for\n",
    "- 대칭수의 리스트를 만들기"
   ]
  },
  {
   "cell_type": "code",
   "execution_count": 66,
   "metadata": {},
   "outputs": [
    {
     "data": {
      "text/plain": [
       "906609"
      ]
     },
     "execution_count": 66,
     "metadata": {},
     "output_type": "execute_result"
    }
   ],
   "source": [
    "# 대칭수의 리스트를 만들기\n",
    "palindromes = [i*k for i in range(100,1000) for k in range(i,1000) if is_palindrome(i*k)]\n",
    "# 리스트에서 최대값 구하기\n",
    "max(palindromes)"
   ]
  },
  {
   "cell_type": "code",
   "execution_count": 71,
   "metadata": {},
   "outputs": [
    {
     "data": {
      "text/plain": [
       "[10201, 12321, 14641, 40804, 44944, 69696, 94249, 698896]"
      ]
     },
     "execution_count": 71,
     "metadata": {},
     "output_type": "execute_result"
    }
   ],
   "source": [
    "palindromes = []\n",
    "for i in range(100,1000):\n",
    "        for k in (i,1000):\n",
    "            if is_palindrome(i*k):\n",
    "                  palindromes.append(i*k)\n",
    "palindromes"
   ]
  },
  {
   "cell_type": "code",
   "execution_count": 68,
   "metadata": {},
   "outputs": [
    {
     "name": "stdout",
     "output_type": "stream",
     "text": [
      "913 993 906609\n"
     ]
    }
   ],
   "source": [
    "max_i, max_k, max_val = 0, 0, 0\n",
    "for i in range(100, 1000):\n",
    "    for k in range(i, 1000):\n",
    "        if is_palindrome(i * k):\n",
    "            if i * k > max_val:\n",
    "                max_val,max_i,max_k = i*k, i,k\n",
    "print(max_i, max_k, max_val)"
   ]
  },
  {
   "cell_type": "code",
   "execution_count": null,
   "metadata": {},
   "outputs": [],
   "source": []
  }
 ],
 "metadata": {
  "kernelspec": {
   "display_name": "base",
   "language": "python",
   "name": "python3"
  },
  "language_info": {
   "codemirror_mode": {
    "name": "ipython",
    "version": 3
   },
   "file_extension": ".py",
   "mimetype": "text/x-python",
   "name": "python",
   "nbconvert_exporter": "python",
   "pygments_lexer": "ipython3",
   "version": "3.10.9"
  },
  "orig_nbformat": 4
 },
 "nbformat": 4,
 "nbformat_minor": 2
}
