{
 "cells": [
  {
   "attachments": {},
   "cell_type": "markdown",
   "metadata": {},
   "source": [
    "- Q.1 <br>\n",
    "다음의 리스트에서 제조사와 모델명을 분리해서 별도의 리스트를 만드세요.<br>\n",
    "단, 람다 함수를 사용하세요."
   ]
  },
  {
   "cell_type": "code",
   "execution_count": 22,
   "metadata": {},
   "outputs": [],
   "source": [
    "cars = ['buick skylark 320', 'playmouth satellite', 'amc reble sst', 'ford torino']"
   ]
  },
  {
   "cell_type": "code",
   "execution_count": null,
   "metadata": {},
   "outputs": [],
   "source": [
    "manufacturers = list(map(lambda x: {x.split(' ')[0]}, cars))\n",
    "x.split(' ')[0]\n",
    "x.split(' ')[1] - > string\n",
    "x.split(' ')[1:]  - > list\n",
    "litst를 string으로 변환 ' '.join(list)\n",
    "', '.join(fruits)\n"
   ]
  },
  {
   "cell_type": "code",
   "execution_count": 43,
   "metadata": {},
   "outputs": [
    {
     "data": {
      "text/plain": [
       "['buick', 'playmouth', 'amc', 'ford']"
      ]
     },
     "execution_count": 43,
     "metadata": {},
     "output_type": "execute_result"
    }
   ],
   "source": [
    "manufacturers = list(map(lambda x: x.split(' ')[0] ,cars))\n",
    "manufacturers"
   ]
  },
  {
   "cell_type": "code",
   "execution_count": 46,
   "metadata": {},
   "outputs": [
    {
     "data": {
      "text/plain": [
       "[\"['skylark', '320']\", \"['satellite']\", \"['reble', 'sst']\", \"['torino']\"]"
      ]
     },
     "execution_count": 46,
     "metadata": {},
     "output_type": "execute_result"
    }
   ],
   "source": [
    "# 나의\n",
    "models = list(map(lambda x: f\"{x.split(' ')[1:]}\" ,cars))\n",
    "models"
   ]
  },
  {
   "cell_type": "code",
   "execution_count": 41,
   "metadata": {},
   "outputs": [
    {
     "data": {
      "text/plain": [
       "['skylark 320', 'satellite', 'reble sst', 'torino']"
      ]
     },
     "execution_count": 41,
     "metadata": {},
     "output_type": "execute_result"
    }
   ],
   "source": [
    "models = list(map(lambda x: ' '.join(x.split()[1:]), cars))\n",
    "models"
   ]
  },
  {
   "cell_type": "markdown",
   "metadata": {},
   "source": []
  },
  {
   "attachments": {},
   "cell_type": "markdown",
   "metadata": {},
   "source": [
    "와일드 윙: 110cm 이상\n",
    "\n",
    "이름: 와일드 윙\n",
    "하한: 110\n",
    "상한: None"
   ]
  },
  {
   "cell_type": "code",
   "execution_count": null,
   "metadata": {},
   "outputs": [],
   "source": [
    "def read(text):\n",
    "    # 이곳에 코드를 작성하세요.\n",
    "    return ridename, cmmin, cmmax\n",
    "\n",
    "if __name__ == \"__main__\":\n",
    "    ridename, cmmin, cmmax = read(input())\n",
    "    print(\"이름:\", ridename)\n",
    "    print(\"하한:\", cmmin)\n",
    "    print(\"상한:\", cmmax)"
   ]
  }
 ],
 "metadata": {
  "kernelspec": {
   "display_name": "base",
   "language": "python",
   "name": "python3"
  },
  "language_info": {
   "codemirror_mode": {
    "name": "ipython",
    "version": 3
   },
   "file_extension": ".py",
   "mimetype": "text/x-python",
   "name": "python",
   "nbconvert_exporter": "python",
   "pygments_lexer": "ipython3",
   "version": "3.10.9"
  },
  "orig_nbformat": 4
 },
 "nbformat": 4,
 "nbformat_minor": 2
}
