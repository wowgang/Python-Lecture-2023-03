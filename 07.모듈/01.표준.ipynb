{
 "cells": [
  {
   "attachments": {},
   "cell_type": "markdown",
   "metadata": {},
   "source": [
    "### 7-1. 표준모듈\n",
    "\n",
    "- 파이썬의 표준 모듈(Standard Library)은 파이썬 인터프리터와 함께 설치되는 기본 모듈들로 이루어진 라이브러리\n",
    "- 이 모듈들은 파이썬에서 자주 사용되는 기본적인 기능들을 제공하며, 개발자가 작성한 파이썬 코드에서 쉽게 활용할 수 있다.\n",
    "- 파이썬 표준 라이브러리에는 문자열 처리, 파일 입출력, 네트워크 통신, 날짜와 시간 처리, 암호화, 테스팅, 디버깅, 그래픽 인터페이스 등 다양한 기능들이 포함되어 있다.\n",
    "\n",
    "#### 모듈화\n",
    "- 파이썬의 모듈화(Module)는 하나의 파이썬 파일(.py 확장자)에 코드를 작성하고, 이를 다른 파이썬 파일에서 재사용할 수 있도록 하는 것\n",
    "- 모듈화는 코드를 구조화하고, 재사용성을 높이며, 유지보수를 용이하게 합니다."
   ]
  },
  {
   "attachments": {},
   "cell_type": "markdown",
   "metadata": {},
   "source": [
    "- math 모듈"
   ]
  },
  {
   "cell_type": "code",
   "execution_count": 1,
   "metadata": {},
   "outputs": [
    {
     "data": {
      "text/plain": [
       "3.141592653589793"
      ]
     },
     "execution_count": 1,
     "metadata": {},
     "output_type": "execute_result"
    }
   ],
   "source": [
    "#방법1\n",
    "import math \n",
    "math.pi"
   ]
  },
  {
   "cell_type": "code",
   "execution_count": 2,
   "metadata": {},
   "outputs": [
    {
     "data": {
      "text/plain": [
       "(1.0, 6.123233995736766e-17)"
      ]
     },
     "execution_count": 2,
     "metadata": {},
     "output_type": "execute_result"
    }
   ],
   "source": [
    "#방법1\n",
    "math.sin(math.pi/2),math.cos(math.pi/2)"
   ]
  },
  {
   "cell_type": "code",
   "execution_count": 3,
   "metadata": {},
   "outputs": [
    {
     "data": {
      "text/plain": [
       "(1.0, 6.123233995736766e-17)"
      ]
     },
     "execution_count": 3,
     "metadata": {},
     "output_type": "execute_result"
    }
   ],
   "source": [
    "# 방법2\n",
    "# from 모듈이름 import 가져오고 싶은 변수 또는 함수\n",
    "from math import sin,cos\n",
    "sin(math.pi/2), cos(math.pi/2)"
   ]
  },
  {
   "cell_type": "code",
   "execution_count": null,
   "metadata": {},
   "outputs": [],
   "source": [
    "# 방법3\n",
    "# import 모듈 as 사용하고 싶은 식별자\n",
    "import math as m    # as: alias 약칭\n",
    "m.sin(m.pi/2), m.cos(m.pi/2)"
   ]
  },
  {
   "attachments": {},
   "cell_type": "markdown",
   "metadata": {},
   "source": [
    "- random 모듈"
   ]
  },
  {
   "cell_type": "code",
   "execution_count": 5,
   "metadata": {},
   "outputs": [
    {
     "data": {
      "text/plain": [
       "(0.536505761150017, 5)"
      ]
     },
     "execution_count": 5,
     "metadata": {},
     "output_type": "execute_result"
    }
   ],
   "source": [
    "# random 모듈\n",
    "import random as rd\n",
    "rd.random(), rd.randint(1,6)"
   ]
  },
  {
   "cell_type": "code",
   "execution_count": 6,
   "metadata": {},
   "outputs": [
    {
     "data": {
      "text/plain": [
       "(10.130762515782951, 1)"
      ]
     },
     "execution_count": 6,
     "metadata": {},
     "output_type": "execute_result"
    }
   ],
   "source": [
    "rd.uniform(10, 20), rd.randrange(10) #10~20 실수값/ 0~10까지 정수"
   ]
  },
  {
   "cell_type": "code",
   "execution_count": 11,
   "metadata": {},
   "outputs": [
    {
     "data": {
      "text/plain": [
       "(1, [2, 1, 3])"
      ]
     },
     "execution_count": 11,
     "metadata": {},
     "output_type": "execute_result"
    }
   ],
   "source": [
    "a = [1,2,3,4,5]\n",
    "rd.choice(a), rd.sample(a,3) # a에서 무작위로 추출  /a에서 몇개를끄집어 내겠다"
   ]
  },
  {
   "cell_type": "code",
   "execution_count": 12,
   "metadata": {},
   "outputs": [],
   "source": [
    "rd.shuffle(a) # 트럼프카드 성능 /a 를 섞어서 추출[1,2,5,4,3] 이런식"
   ]
  },
  {
   "attachments": {},
   "cell_type": "markdown",
   "metadata": {},
   "source": [
    "- os 모듈"
   ]
  },
  {
   "cell_type": "code",
   "execution_count": 14,
   "metadata": {},
   "outputs": [
    {
     "data": {
      "text/plain": [
       "('nt', 'd:\\\\Workspace\\\\02.Python\\\\07.모듈')"
      ]
     },
     "execution_count": 14,
     "metadata": {},
     "output_type": "execute_result"
    }
   ],
   "source": [
    "import os \n",
    "os.name, os.getcwd()  # 현재재 운영체제, 현재폴더 cwd커런트윈도우폴더?"
   ]
  },
  {
   "cell_type": "code",
   "execution_count": 15,
   "metadata": {},
   "outputs": [
    {
     "data": {
      "text/plain": [
       "['01.sys.py', '01.표준.ipynb']"
      ]
     },
     "execution_count": 15,
     "metadata": {},
     "output_type": "execute_result"
    }
   ],
   "source": [
    "# 현재 폴더의 요소\n",
    "os.listdir()"
   ]
  },
  {
   "cell_type": "code",
   "execution_count": 19,
   "metadata": {},
   "outputs": [
    {
     "data": {
      "text/plain": [
       "['01.sys.py', '01.표준.ipynb', 'test']"
      ]
     },
     "execution_count": 19,
     "metadata": {},
     "output_type": "execute_result"
    }
   ],
   "source": [
    "os.mkdir('test') # test라는 디렉토리 만들기 / 동일한 이름으로 중복해서 만들 수 없음\n",
    "os.listdir() # 현재 폴더의 요소 test디렉토리 추가됨"
   ]
  },
  {
   "cell_type": "code",
   "execution_count": 20,
   "metadata": {},
   "outputs": [
    {
     "data": {
      "text/plain": [
       "['01.sys.py', '01.표준.ipynb']"
      ]
     },
     "execution_count": 20,
     "metadata": {},
     "output_type": "execute_result"
    }
   ],
   "source": [
    "os.rmdir('test') # test디렉토리 제거 # 디렉토리가 비어있어야만 삭제 가능 (안비어있음del써야하는건가?)\n",
    "os.listdir()    # 현재 폴더의 요소 test디렉토리 제거됨"
   ]
  },
  {
   "cell_type": "code",
   "execution_count": 21,
   "metadata": {},
   "outputs": [],
   "source": [
    "# 디렉토리가 없으면 새로 만들어 줌\n",
    "dir_name = 'test'\n",
    "if not os.path.exists(dir_name):  #없으면 만들어라 그래서 돌려도 오류가 안남\n",
    "    os.mkdir(dir_name)"
   ]
  },
  {
   "cell_type": "code",
   "execution_count": 22,
   "metadata": {},
   "outputs": [
    {
     "data": {
      "text/plain": [
       "['a.txt']"
      ]
     },
     "execution_count": 22,
     "metadata": {},
     "output_type": "execute_result"
    }
   ],
   "source": [
    "# 'test'디렉토리에 a.txt파일 만들었음\n",
    "os.listdir(dir_name) # ['a.txt']"
   ]
  },
  {
   "cell_type": "code",
   "execution_count": 23,
   "metadata": {},
   "outputs": [
    {
     "data": {
      "text/plain": [
       "[]"
      ]
     },
     "execution_count": 23,
     "metadata": {},
     "output_type": "execute_result"
    }
   ],
   "source": [
    "# a.txt파일 지우기 os.remove\n",
    "os.remove(dir_name + '/' + 'a.txt')\n",
    "os.listdir(dir_name)"
   ]
  },
  {
   "cell_type": "code",
   "execution_count": 24,
   "metadata": {},
   "outputs": [
    {
     "data": {
      "text/plain": [
       "['01.sys.py', '01.표준.ipynb']"
      ]
     },
     "execution_count": 24,
     "metadata": {},
     "output_type": "execute_result"
    }
   ],
   "source": [
    "os.rmdir(dir_name)\n",
    "os.listdir()"
   ]
  },
  {
   "cell_type": "code",
   "execution_count": 28,
   "metadata": {},
   "outputs": [
    {
     "name": "stdout",
     "output_type": "stream",
     "text": [
      "c:\\Users\\YONSAI\\anaconda3\n",
      "C:\\Users\\YONSAI\\anaconda3\n",
      "C:\\Users\\YONSAI\\anaconda3\\Library\\mingw-w64\\bin\n",
      "C:\\Users\\YONSAI\\anaconda3\\Library\\usr\\bin\n",
      "C:\\Users\\YONSAI\\anaconda3\\Library\\bin\n",
      "C:\\Users\\YONSAI\\anaconda3\\Scripts\n",
      "C:\\Users\\YONSAI\\anaconda3\\bin\n",
      "C:\\Users\\YONSAI\\anaconda3\\condabin\n",
      "C:\\Program Files (x86)\\Common Files\\Intel\\Shared Libraries\\redist\\intel64\\compiler\n",
      "C:\\Windows\\system32\n",
      "C:\\Windows\n",
      "C:\\Windows\\System32\\Wbem\n",
      "C:\\Windows\\System32\\WindowsPowerShell\\v1.0\n",
      "C:\\Windows\\System32\\OpenSSH\n",
      "C:\\Program Files (x86)\\Microsoft SQL Server\\110\\Tools\\Binn\n",
      "C:\\Program Files\\Microsoft SQL Server\\110\\Tools\\Binn\n",
      "C:\\Program Files\\Microsoft SQL Server\\110\\DTS\\Binn\n",
      "C:\\Program Files (x86)\\Microsoft SQL Server\\100\\Tools\\Binn\n",
      "C:\\Program Files\\Microsoft SQL Server\\100\\Tools\\Binn\n",
      "C:\\Program Files\\Microsoft SQL Server\\100\\DTS\\Binn\n",
      "C:\\Program Files\\Git\\cmd\n",
      "C:\\Program Files\\nodejs\n",
      "C:\\Users\\YONSAI\\anaconda3\n",
      "C:\\Users\\YONSAI\\anaconda3\\Library\\mingw-w64\\bin\n",
      "C:\\Users\\YONSAI\\anaconda3\\Library\\usr\\bin\n",
      "C:\\Users\\YONSAI\\anaconda3\\Library\\bin\n",
      "C:\\Users\\YONSAI\\anaconda3\\Scripts\n",
      "C:\\Users\\YONSAI\\AppData\\Local\\Microsoft\\WindowsApps\n",
      "C:\\Users\\YONSAI\\AppData\\Local\\Programs\\Microsoft VS Code\\bin\n",
      "C:\\Users\\YONSAI\\AppData\\Roaming\\npm\n",
      ".\n"
     ]
    }
   ],
   "source": [
    "paths = os.environ['PATH'] # 환경변수 취득\n",
    "for path in paths.split(';'):\n",
    "    print(path)"
   ]
  },
  {
   "attachments": {},
   "cell_type": "markdown",
   "metadata": {},
   "source": [
    "- datetime 모듈"
   ]
  },
  {
   "cell_type": "code",
   "execution_count": 4,
   "metadata": {},
   "outputs": [
    {
     "data": {
      "text/plain": [
       "datetime.datetime(2023, 4, 6, 10, 49, 13, 389696)"
      ]
     },
     "execution_count": 4,
     "metadata": {},
     "output_type": "execute_result"
    }
   ],
   "source": [
    "import datetime as dt\n",
    "dt.datetime.now()"
   ]
  },
  {
   "cell_type": "code",
   "execution_count": 5,
   "metadata": {},
   "outputs": [
    {
     "name": "stdout",
     "output_type": "stream",
     "text": [
      "2023-04-06 10:49:52\n"
     ]
    }
   ],
   "source": [
    "# 현재날짜시간 방법1\n",
    "now = dt.datetime.now()\n",
    "print(f'{now.year}-{now.month:02d}-{now.day:02d} {now.hour:02d}:{now.minute:02d}:{now.second:02d}')"
   ]
  },
  {
   "cell_type": "code",
   "execution_count": 9,
   "metadata": {},
   "outputs": [
    {
     "name": "stdout",
     "output_type": "stream",
     "text": [
      "2023-04-06-Thursday 11:05:53\n"
     ]
    }
   ],
   "source": [
    "# 현재날짜시간 방법2\n",
    "now = dt.datetime.now()\n",
    "print(now.strftime('%Y-%m-%d-%A %H:%M:%S'))"
   ]
  },
  {
   "cell_type": "code",
   "execution_count": 7,
   "metadata": {},
   "outputs": [],
   "source": [
    "# 요일 추가하기 방법1strftime() %A 풀name %a는 약어 \n",
    "# 요일 추가하기 방법2\n",
    "names = '월 화 수 목 금 토 일'.split() # 리스트생성\n",
    "now.weekday()"
   ]
  },
  {
   "cell_type": "code",
   "execution_count": 11,
   "metadata": {},
   "outputs": [
    {
     "name": "stdout",
     "output_type": "stream",
     "text": [
      "2023-04-06(목)11:12:08\n"
     ]
    }
   ],
   "source": [
    "now = dt.datetime.now()\n",
    "print(now.strftime('%Y-%m-%d') + f'({names[now.weekday()]})' + now.strftime('%H:%M:%S'))"
   ]
  },
  {
   "cell_type": "code",
   "execution_count": 13,
   "metadata": {},
   "outputs": [
    {
     "name": "stdout",
     "output_type": "stream",
     "text": [
      "2023-07-15(목)11:12:08\n"
     ]
    }
   ],
   "source": [
    "# 현재 시간부터 100일후\n",
    "after = now + dt.timedelta(days=100)\n",
    "print(after.strftime('%Y-%m-%d') + f'({names[now.weekday()]})' + after.strftime('%H:%M:%S'))"
   ]
  },
  {
   "cell_type": "code",
   "execution_count": 15,
   "metadata": {},
   "outputs": [
    {
     "name": "stdout",
     "output_type": "stream",
     "text": [
      "2023-05-01(목) 21:32:18\n"
     ]
    }
   ],
   "source": [
    "# 3주후 + 4일 + 10시간 + ....\n",
    "after = now + dt.timedelta(weeks=3, days=4, hours=10, minutes=20,seconds=10)\n",
    "print(after.strftime('%Y-%m-%d') + f'({names[now.weekday()]}) ' + after.strftime('%H:%M:%S'))"
   ]
  },
  {
   "attachments": {},
   "cell_type": "markdown",
   "metadata": {},
   "source": [
    "- time 모듈"
   ]
  },
  {
   "cell_type": "code",
   "execution_count": 16,
   "metadata": {},
   "outputs": [
    {
     "name": "stdout",
     "output_type": "stream",
     "text": [
      "지금부터 5초간 정지합니다.\n",
      "5초가 경과했습니다.\n"
     ]
    }
   ],
   "source": [
    "import time \n",
    "\n",
    "print('지금부터 5초간 정지합니다.')\n",
    "time.sleep(5)\n",
    "print('5초가 경과했습니다.')"
   ]
  },
  {
   "attachments": {},
   "cell_type": "markdown",
   "metadata": {},
   "source": [
    "- urllib 모듈\n",
    "    - url을 다루는 모듈 \n",
    "    - 크롤링,api사용할때............뭔가 끄집어낼때.."
   ]
  },
  {
   "cell_type": "code",
   "execution_count": 20,
   "metadata": {},
   "outputs": [],
   "source": [
    "# 방법1 인코딩이 되어있음\n",
    "from urllib import request \n",
    "\n",
    "target = request.urlopen('https://www.hanbit.co.kr/media/')\n",
    "output = target.read()"
   ]
  },
  {
   "cell_type": "code",
   "execution_count": 21,
   "metadata": {},
   "outputs": [
    {
     "name": "stdout",
     "output_type": "stream",
     "text": [
      "b'<!DOCTYPE html>\\r\\n<html lang=\"ko\">\\r\\n<head>\\r\\n<!--[if lte IE 8]>\\r\\n<script>\\r\\n  location.replace(\\'/support/explorer_upgrade.html\\');\\r\\n</script>\\r\\n<![endif]-->\\r\\n<meta charset=\"utf-8\"/>\\r\\n<title>\\xed\\x95\\x9c\\xeb\\xb9\\x9b\\xeb\\xaf\\xb8\\xeb\\x94\\x94\\xec\\x96\\xb4</title>\\r\\n<link rel=\"shortcut icon\" href=\"https://www.hanbit.co.kr/images/common/hanbit.ico\"> \\r\\n<meta http-equiv=\"X-UA-Compatible\" content=\"IE=Edge\" />\\r\\n<meta property=\"og:type\" content=\"website\"/>\\r\\n<meta property=\"og:title\" content=\"\\xed\\x95\\x9c\\xeb\\xb9\\x9b\\xeb\\xaf\\xb8\\xeb\\x94\\x94\\xec\\x96\\xb4\"/>\\r\\n<meta property=\"og:description\" content=\"IT \\xec\\xa0\\x84\\xeb\\xac\\xb8\\xea\\xb0\\x80\\xeb\\xa5\\xbc \\xec\\x9c\\x84\\xed\\x95\\x9c \\xed\\x94\\x84\\xeb\\xa1\\x9c\\xea\\xb7\\xb8\\xeb\\x9e\\x98\\xeb\\xb0\\x8d, \\xec\\xbb\\xb4\\xed\\x93\\xa8\\xed\\x84\\xb0\\xea\\xb3\\xb5\\xed\\x95\\x99, IT \\xec\\x97\\x90\\xec\\x84\\xb8\\xec\\x9d\\xb4, \\xeb\\xa6\\xac\\xec\\x96\\xbc\\xed\\x83\\x80\\xec\\x9e\\x84(\\xec\\xa0\\x84\\xec\\x9e\\x90\\xec\\xb1\\x85)\\xea\\xb3\\xbc \\xec\\x9d\\xbc\\xeb\\xb0\\x98 \\xec\\x82\\xac\\xec\\x9a\\xa9\\xec\\x9e\\x90\\xeb\\xa5\\xbc \\xec\\x9c\\x84\\xed\\x95\\x9c OA, \\xea\\xb7\\xb8\\xeb\\x9e\\x98\\xed\\x94\\xbd \\xeb\\x93\\xb1 IT \\xed\\x99\\x9c\\xec\\x9a\\xa9 \\xeb\\xb6\\x84\\xec\\x95\\xbc\\xec\\x9d\\x98 \\xec\\xb1\\x85\\xec\\x9d\\x84 \\xec\\xb6\\x9c\\xea\\xb0\\x84\\xed\\x95\\x98\\xeb\\x8a\\x94 IT \\xec\\xa0\\x84\\xeb\\xac\\xb8 \\xec\\xb6\\x9c\\xed\\x8c\\x90\\xec\\x82\\xac\\xec\\x9e\\x85\\xeb\\x8b\\x88\\xeb\\x8b\\xa4.\"/>\\r\\n<meta property=\"og:image\" content=\"https://www.hanbit.co.kr/images/hanbitpubnet_logo.jpg\" />\\r\\n<meta property=\"og:url\" content=\"https://www.hanbit.co.kr/media/\"/>\\r\\n<link rel=\"canonical\" href=\"https://www.hanbit.co.kr/media/\" />\\r\\n<meta name=\"keywords\" content=\"\\xed\\x95\\x9c\\xeb\\xb9\\x9b\\xeb\\xaf\\xb8\\xeb\\x94\\x94\\xec\\x96\\xb4,\\xec\\xb1\\x85,\\xec\\xa0\\x84\\xec\\x9e\\x90\\xec\\xb1\\x85'\n"
     ]
    }
   ],
   "source": [
    "print(output[:1000]) # print하면 html code가 나옴"
   ]
  },
  {
   "cell_type": "code",
   "execution_count": 22,
   "metadata": {},
   "outputs": [
    {
     "name": "stdout",
     "output_type": "stream",
     "text": [
      "<!DOCTYPE html>\n",
      "<html lang=\"ko\">\n",
      "<head>\n",
      "<!--[if lte IE 8]>\n",
      "<script>\n",
      "  location.replace('/support/explorer_upgrade.html');\n",
      "</script>\n",
      "<![endif]-->\n",
      "<meta charset=\"utf-8\"/>\n",
      "<title>한빛미디어</title>\n",
      "<link rel=\"shortcut icon\" href=\"https://www.hanbit.co.kr/images/common/hanbit.ico\"> \n",
      "<meta http-equiv=\"X-UA-Compatible\" content=\"IE=Edge\" />\n",
      "<meta property=\"og:type\" content=\"website\"/>\n",
      "<meta property=\"og:title\" content=\"한빛미디어\"/>\n",
      "<meta property=\"og:description\" content=\"IT 전문가를 위한 프로그래밍, 컴퓨터공학, IT 에세이, 리얼타임(전자책)과 일반 사용자를 위한 OA, 그래픽 등 IT 활용 분야의 책을 출간하는 IT 전문 출판사입니다.\"/>\n",
      "<meta property=\"og:image\" content=\"https://www.hanbit.co.kr/images/hanbitpubnet_logo.jpg\" />\n",
      "<meta property=\"og:url\" content=\"https://www.hanbit.co.kr/media/\"/>\n",
      "<link rel=\"canonical\" href=\"https://www.hanbit.co.kr/media/\" />\n",
      "<meta name=\"keywords\" content=\"한빛미디어,책,전자책,ebook,프로그래밍,IT출판사,데브그라운도,동영상,콘텐츠,대관\" />\n",
      "<meta name=\"description\" content=\"IT 전문가를 위한 프로그래밍, 컴퓨터공학, IT 에세이, 리얼타임(전자책)과 일반 사용자를 위한 OA, 그래픽 등 IT 활용 분야의 책을 \n"
     ]
    }
   ],
   "source": [
    "# 방법2 보기 더 편함\n",
    "import requests \n",
    "req = requests.get('https://www.hanbit.co.kr/media/')\n",
    "print(req.text[:1000]) # 처음부터 100자까지 보여줘라"
   ]
  },
  {
   "cell_type": "code",
   "execution_count": 1,
   "metadata": {},
   "outputs": [
    {
     "name": "stdout",
     "output_type": "stream",
     "text": [
      "2 1\n"
     ]
    }
   ],
   "source": [
    "# 연습문제: 소수점 이하 올림, 버림 구하기\n",
    "from math import ceil, floor\n",
    "x = 1.5\n",
    "print(ceil(x), floor(x))"
   ]
  },
  {
   "attachments": {},
   "cell_type": "markdown",
   "metadata": {},
   "source": [
    "표준 입력으로 원의 반지름(실수)이 입력됩니다. 입력된 반지름을 이용하여 원의 넓이를 출력하는 프로그램을 만드세요(input에서 안내 문자열은 출력하지 않아야 합니다). 원의 넓이는 반지름 * 반지름 * 원주율로 구합니다"
   ]
  },
  {
   "cell_type": "code",
   "execution_count": 6,
   "metadata": {},
   "outputs": [
    {
     "name": "stdout",
     "output_type": "stream",
     "text": [
      "314.1592653589793\n"
     ]
    }
   ],
   "source": [
    "import math as a\n",
    "b = a.pi\n",
    "r = float(input())\n",
    "print(r*r*b)"
   ]
  },
  {
   "attachments": {},
   "cell_type": "markdown",
   "metadata": {},
   "source": [
    "표준 입력으로 정수가 입력됩니다. 주어진 calcpkg 패키지를 활용하여 입력된 정수의 제곱근과 입력된 정수를 반지름으로 하는 원의 넓이가 출력되게 만드세요. 제곱근은 calcpkg 패키지에서 operation 모듈의 squareroot 함수를 사용하고, 원의 넓이는 calcpkg 패키지에서 geometry 모듈의 circle_area 함수를 사용하세요(calcpkg 패키지를 사용하지 않고 계산하면 결과가 맞더라도 틀린 것으로 처리됩니다. 반드시 calcpkg 패키지를 사용하세요)."
   ]
  },
  {
   "cell_type": "code",
   "execution_count": null,
   "metadata": {},
   "outputs": [],
   "source": [
    "# calcpkg/__init__.py\n",
    "# 내용이 비어 있음"
   ]
  },
  {
   "cell_type": "code",
   "execution_count": 7,
   "metadata": {},
   "outputs": [],
   "source": [
    "# calcpkg/operation.py\n",
    "import math\n",
    " \n",
    "def squareroot(n):\n",
    "    return math.sqrt(n)"
   ]
  },
  {
   "cell_type": "code",
   "execution_count": 8,
   "metadata": {},
   "outputs": [],
   "source": [
    "# calcpkg/geometry.py\n",
    "import math\n",
    " \n",
    "def circle_area(radius):\n",
    "    return radius * radius * math.pi"
   ]
  },
  {
   "attachments": {},
   "cell_type": "markdown",
   "metadata": {},
   "source": [
    "- calcpkg 패키지\n",
    "- operation,geometry 모듈\n",
    "- squareroot(),circle_area() 함수\n",
    "\n",
    "    -calcpkg 패키지는 __init__.py 파일이 비어 있고, operation 모듈과 geometry 모듈만 들어있습니다. 따라서 패키지를 사용할 때는 import 패키지.모듈 형식으로 가져온 뒤 패키지.모듈.함수() 형식으로 사용해야 합니다."
   ]
  },
  {
   "cell_type": "code",
   "execution_count": null,
   "metadata": {},
   "outputs": [],
   "source": [
    "# 제출용 답\n",
    "from calcpkg import operation, geometry\n",
    "a = int(input())\n",
    "print(operation.squareroot(a))\n",
    "print(geometry.circle_area(a))"
   ]
  },
  {
   "cell_type": "code",
   "execution_count": 13,
   "metadata": {},
   "outputs": [
    {
     "data": {
      "text/plain": [
       "(1.4142135623730951, 12.566370614359172)"
      ]
     },
     "execution_count": 13,
     "metadata": {},
     "output_type": "execute_result"
    }
   ],
   "source": [
    "a = int(input())\n",
    "squareroot(a) ,circle_area(a)"
   ]
  },
  {
   "cell_type": "code",
   "execution_count": 11,
   "metadata": {},
   "outputs": [
    {
     "data": {
      "text/plain": [
       "(1.4142135623730951, 12.566370614359172)"
      ]
     },
     "execution_count": 11,
     "metadata": {},
     "output_type": "execute_result"
    }
   ],
   "source": [
    "import calcpkg.operation as sq\n",
    "import calcpkg.geometry as ca\n",
    "a = int(input())\n",
    "sq(a)\n",
    "ca(a)"
   ]
  }
 ],
 "metadata": {
  "kernelspec": {
   "display_name": "base",
   "language": "python",
   "name": "python3"
  },
  "language_info": {
   "codemirror_mode": {
    "name": "ipython",
    "version": 3
   },
   "file_extension": ".py",
   "mimetype": "text/x-python",
   "name": "python",
   "nbconvert_exporter": "python",
   "pygments_lexer": "ipython3",
   "version": "3.10.9"
  },
  "orig_nbformat": 4
 },
 "nbformat": 4,
 "nbformat_minor": 2
}
