{
 "cells": [
  {
   "attachments": {},
   "cell_type": "markdown",
   "metadata": {},
   "source": [
    "1181.\n",
    "알파벳 소문자로 이루어진 N개의 단어가 들어오면 아래와 같은 조건에 따라 정렬하는 프로그램을 작성하시오.\n",
    "\n",
    "길이가 짧은 것부터\n",
    "길이가 같으면 사전 순으로\n",
    "단, 중복된 단어는 하나만 남기고 제거해야 한다.\n",
    "\n",
    "첫째 줄에 단어의 개수 N이 주어진다. (1 ≤ N ≤ 20,000) 둘째 줄부터 N개의 줄에 걸쳐 알파벳 소문자로 이루어진 단어가 한 줄에 하나씩 주어진다. 주어지는 문자열의 길이는 50을 넘지 않는다.\n",
    "------\n",
    "13  (1 ≤ N ≤ 20,000)\n",
    "but\n",
    "i\n",
    "wont\n",
    "hesitate\n",
    "no\n",
    "more\n",
    "no\n",
    "more\n",
    "it\n",
    "cannot\n",
    "wait\n",
    "im\n",
    "yours"
   ]
  },
  {
   "cell_type": "code",
   "execution_count": 11,
   "metadata": {},
   "outputs": [
    {
     "name": "stdout",
     "output_type": "stream",
     "text": [
      "a\n",
      "bbb\n",
      "abcs\n"
     ]
    }
   ],
   "source": [
    "word_dict = {} \n",
    "for i in range(1,51):\n",
    "    word_dict[i]=set() # value 중복배제를위해 set\n",
    "\n",
    "num = int(input()) # 반복횟수\n",
    "for k in range(num):\n",
    "    k = input()\n",
    "    len(k)\n",
    "    word_dict[len(k)].add(k)    \n",
    "    \n",
    "for key in range(1,51):\n",
    "    if len(word_dict[key]) == 0:\n",
    "        continue\n",
    "    for k in sorted(word_dict[key]):\n",
    "        print(k)"
   ]
  },
  {
   "attachments": {},
   "cell_type": "markdown",
   "metadata": {},
   "source": [
    "2231. 분해합\n",
    "어떤 자연수 N이 있을 때, 그 자연수 N의 분해합은 N과 N을 이루는 각 자리수의 합을 의미한다. 어떤 자연수 M의 분해합이 N인 경우, M을 N의 생성자라 한다. 예를 들어, 245의 분해합은 256(=245+2+4+5)이 된다. 따라서 245는 256의 생성자가 된다. 물론, 어떤 자연수의 경우에는 생성자가 없을 수도 있다. 반대로, 생성자가 여러 개인 자연수도 있을 수 있다.\n",
    "\n",
    "자연수 N이 주어졌을 때, N의 가장 작은 생성자를 구해내는 프로그램을 작성하시오.\n",
    "첫째 줄에 자연수 N(1 ≤ N ≤ 1,000,000)이 주어진다.\n",
    "첫째 줄에 답을 출력한다. 생성자가 없는 경우에는 0을 출력한다.\n",
    "----\n",
    "216"
   ]
  },
  {
   "cell_type": "code",
   "execution_count": 21,
   "metadata": {},
   "outputs": [
    {
     "data": {
      "text/plain": [
       "216"
      ]
     },
     "execution_count": 21,
     "metadata": {},
     "output_type": "execute_result"
    }
   ],
   "source": [
    "# 분해합을 반환하는 함수\n",
    "def sum_of_decomposition(num):\n",
    "    numStr = str(num)\n",
    "    ressult = num\n",
    "    for i in range(len(numStr)):\n",
    "        ressult += int(numStr[i])\n",
    "    return ressult \n",
    "\n",
    "sum_of_decomposition(198)"
   ]
  },
  {
   "cell_type": "code",
   "execution_count": 27,
   "metadata": {},
   "outputs": [
    {
     "name": "stdout",
     "output_type": "stream",
     "text": [
      "456의 최소 생성자는 444\n"
     ]
    }
   ],
   "source": [
    "num = int(input())\n",
    "#자리수 찾기\n",
    "for i in range(num - 9 * len(str(num)), num):\n",
    "    if sum_of_decomposition(i) == num:\n",
    "        print(f'{num}의 최소 생성자는 {i}')\n",
    "        break"
   ]
  },
  {
   "attachments": {},
   "cell_type": "markdown",
   "metadata": {},
   "source": [
    "2839.\n",
    "상근이는 요즘 설탕공장에서 설탕을 배달하고 있다. 상근이는 지금 사탕가게에 설탕을 정확하게 N킬로그램을 배달해야 한다. 설탕공장에서 만드는 설탕은 봉지에 담겨져 있다. 봉지는 3킬로그램 봉지와 5킬로그램 봉지가 있다.\n",
    "\n",
    "상근이는 귀찮기 때문에, 최대한 적은 봉지를 들고 가려고 한다. 예를 들어, 18킬로그램 설탕을 배달해야 할 때, 3킬로그램 봉지 6개를 가져가도 되지만, 5킬로그램 3개와 3킬로그램 1개를 배달하면, 더 적은 개수의 봉지를 배달할 수 있다.\n",
    "\n",
    "상근이가 설탕을 정확하게 N킬로그램 배달해야 할 때, 봉지 몇 개를 가져가면 되는지 그 수를 구하는 프로그램을 작성하시오.\n",
    "첫째 줄에 N이 주어진다. (3 ≤ N ≤ 5000)\n",
    "상근이가 배달하는 봉지의 최소 개수를 출력한다. 만약, 정확하게 N킬로그램을 만들 수 없다면 -1을 출력한다.\n",
    "----\n",
    "18 -> 4\n",
    "4 -> -1\n",
    "6 -> 2"
   ]
  },
  {
   "cell_type": "code",
   "execution_count": 29,
   "metadata": {},
   "outputs": [
    {
     "name": "stdout",
     "output_type": "stream",
     "text": [
      "18kg: 5kg 봉지 3개, 3kg 봉지 1개\n"
     ]
    }
   ],
   "source": [
    "num = int(input())\n",
    "\n",
    "num5, num3 = 0,0\n",
    "try:\n",
    "    for i in range(num // 5, num // 3+1):\n",
    "        for k in range(i+1):\n",
    "            if num == 3 * k + 5 * (i-k):\n",
    "                num5 = i - k\n",
    "                num3 = k\n",
    "                raise Exception # 의도적으로 예외를 발생시켜 모든 loop탈출\n",
    "except:\n",
    "    print(f'{num}kg: 5kg 봉지 {num5}개, 3kg 봉지 {num3}개')\n",
    "else:\n",
    "    print(-1)"
   ]
  },
  {
   "attachments": {},
   "cell_type": "markdown",
   "metadata": {},
   "source": [
    "3003.\n",
    "동혁이는 오래된 창고를 뒤지다가 낡은 체스판과 피스를 발견했다.\n",
    "\n",
    "체스판의 먼지를 털어내고 걸레로 닦으니 그럭저럭 쓸만한 체스판이 되었다. 하지만, 검정색 피스는 모두 있었으나, 흰색 피스는 개수가 올바르지 않았다.\n",
    "\n",
    "체스는 총 16개의 피스를 사용하며, 킹 1개, 퀸 1개, 룩 2개, 비숍 2개, 나이트 2개, 폰 8개로 구성되어 있다.\n",
    "\n",
    "동혁이가 발견한 흰색 피스의 개수가 주어졌을 때, 몇 개를 더하거나 빼야 올바른 세트가 되는지 구하는 프로그램을 작성하시오.\n",
    "첫째 줄에 동혁이가 찾은 흰색 킹, 퀸, 룩, 비숍, 나이트, 폰의 개수가 주어진다. 이 값은 0보다 크거나 같고 10보다 작거나 같은 정수이다.\n",
    "----\n",
    "0 1 2 2 2 7 -> 1 0 0 0 0 1"
   ]
  },
  {
   "cell_type": "code",
   "execution_count": 87,
   "metadata": {},
   "outputs": [
    {
     "name": "stdout",
     "output_type": "stream",
     "text": [
      "\n"
     ]
    }
   ],
   "source": [
    "chess_pieces = [1,1,2,2,2,8]\n",
    "# k,q,r,b,k,p = map(int,input().split())\n",
    "\n",
    "pieces = list(map(int, input().split()))\n",
    "for i in range(len(pieces)):\n",
    "    print(chess_pieces - pieces[i] ,end=' ')\n",
    "print()"
   ]
  },
  {
   "attachments": {},
   "cell_type": "markdown",
   "metadata": {},
   "source": [
    "4344.\n",
    "대학생 새내기들의 90%는 자신이 반에서 평균은 넘는다고 생각한다. 당신은 그들에게 슬픈 진실을 알려줘야 한다.\n",
    "첫째 줄에는 테스트 케이스의 개수 C가 주어진다.\n",
    "\n",
    "둘째 줄부터 각 테스트 케이스마다 학생의 수 N(1 ≤ N ≤ 1000, N은 정수)이 첫 수로 주어지고, 이어서 N명의 점수가 주어진다. 점수는 0보다 크거나 같고, 100보다 작거나 같은 정수이다.\n",
    "각 케이스마다 한 줄씩 평균을 넘는 학생들의 비율을 반올림하여 소수점 셋째 자리까지 출력한다.\n",
    "----\n",
    "5\n",
    "5 50 50 70 80 100\n",
    "7 100 95 90 80 70 60 50\n",
    "3 70 90 80\n",
    "3 70 90 81\n",
    "9 100 99 98 97 96 95 94 93 91\n",
    "-----\n",
    "40.000%\n",
    "57.143%\n",
    "33.333%\n",
    "66.667%\n",
    "55.556%"
   ]
  },
  {
   "cell_type": "code",
   "execution_count": 13,
   "metadata": {},
   "outputs": [
    {
     "name": "stdout",
     "output_type": "stream",
     "text": [
      "10.000%\n",
      "20.000%\n",
      "34.000%\n",
      "50.000%\n",
      "70.000%\n"
     ]
    }
   ],
   "source": [
    "a = list(map(int,input().split()))\n",
    "asum=0\n",
    "for i in range(1, len(a)):\n",
    "    asum += a[i]\n",
    "\n",
    "    avg = asum/a[0] \n",
    "    print(f'{avg:.3f}%')"
   ]
  },
  {
   "cell_type": "code",
   "execution_count": 1,
   "metadata": {},
   "outputs": [],
   "source": [
    "def above_average(score_list):\n",
    "    avg = sum(score_list) / len(score_list)\n",
    "    '''count = 0\n",
    "    for score in score_list:\n",
    "        if score > avg:\n",
    "            count += 1'''\n",
    "    count = sum(map(lambda x:x>avg, score_list))\n",
    "    print(round((count / len(score_list) * 100), 3),'%')"
   ]
  },
  {
   "cell_type": "code",
   "execution_count": 89,
   "metadata": {},
   "outputs": [],
   "source": [
    "def above_average(score_list):\n",
    "    avg = sum(score_list) / len(score_list)\n",
    "    count = sum(map(lambda x:x>avg, score_list))\n",
    "    print(round((count / len(score_list) * 100), 3),'%')"
   ]
  },
  {
   "cell_type": "code",
   "execution_count": 2,
   "metadata": {},
   "outputs": [
    {
     "name": "stdout",
     "output_type": "stream",
     "text": [
      "33.333 %\n"
     ]
    }
   ],
   "source": [
    "above_average([70,80,90])"
   ]
  },
  {
   "cell_type": "code",
   "execution_count": 3,
   "metadata": {},
   "outputs": [
    {
     "name": "stdout",
     "output_type": "stream",
     "text": [
      "40.0 %\n",
      "57.143 %\n",
      "33.333 %\n",
      "66.667 %\n",
      "55.556 %\n"
     ]
    }
   ],
   "source": [
    "num = int(input())\n",
    "for i in range(num):\n",
    "    scores = list(map(int,input().split()))[1:] # 5 50 50 70 80 100\n",
    "    above_average(scores)"
   ]
  },
  {
   "attachments": {},
   "cell_type": "markdown",
   "metadata": {},
   "source": [
    "11720.\n",
    "N개의 숫자가 공백 없이 쓰여있다. 이 숫자를 모두 합해서 출력하는 프로그램을 작성하시오.\n",
    "첫째 줄에 숫자의 개수 N (1 ≤ N ≤ 100)이 주어진다. 둘째 줄에 숫자 N개가 공백없이 주어진다.\n",
    "입력으로 주어진 숫자 N개의 합을 출력한다.\n",
    "----\n"
   ]
  },
  {
   "cell_type": "code",
   "execution_count": 22,
   "metadata": {},
   "outputs": [
    {
     "name": "stdout",
     "output_type": "stream",
     "text": [
      "숫자 54321의 각 자리수의 합은 15\n"
     ]
    }
   ],
   "source": [
    "num = int(input())\n",
    "s = input()\n",
    "summ = 0\n",
    "for i in range(len(s)):\n",
    "    summ += int(s[i])\n",
    "print(f'숫자 {s}의 각 자리수의 합은 {summ}')\n"
   ]
  },
  {
   "cell_type": "code",
   "execution_count": null,
   "metadata": {},
   "outputs": [],
   "source": [
    "\n",
    "num = int(input())\n",
    "s = input()\n",
    "for i in range(num):\n",
    "    \n"
   ]
  },
  {
   "attachments": {},
   "cell_type": "markdown",
   "metadata": {},
   "source": [
    "19532.\n",
    "수현이는 4차 산업혁명 시대에 살고 있는 중학생이다. 코로나 19로 인해, 수현이는 버추얼 학교로 버추얼 출석해 버추얼 강의를 듣고 있다. 수현이의 버추얼 선생님은 문자가 2개인 연립방정식을 해결하는 방법에 대해 강의하고, 다음과 같은 문제를 숙제로 냈다.\n",
    "다음 연립방정식에서 \n",
    "$x$와 \n",
    "$y$의 값을 계산하시오.\n",
    " \n",
    "\\[\\begin{cases}ax+by=c\\\\dx+ey=f\\end{cases}\\] \n",
    "\n",
    "4차 산업혁명 시대에 숙제나 하고 앉아있는 것보다 버추얼 친구들을 만나러 가는 게 더 가치있는 일이라고 생각했던 수현이는 이런 연립방정식을 풀 시간이 없었다. 다행히도, 버추얼 강의의 숙제 제출은 인터넷 창의 빈 칸에 수들을 입력하는 식이다. 각 칸에는 \n",
    "$-999$ 이상 \n",
    "$999$ 이하의 정수만 입력할 수 있다. 수현이가 버추얼 친구들을 만나러 버추얼 세계로 떠날 수 있게 도와주자.\n",
    "\n",
    "정수 \n",
    "$a$, \n",
    "$b$, \n",
    "$c$, \n",
    "$d$, \n",
    "$e$, \n",
    "$f$가 공백으로 구분되어 차례대로 주어진다. (\n",
    "$-999 \\leq a,b,c,d,e,f \\leq 999$)\n",
    "\n",
    "문제에서 언급한 방정식을 만족하는 \n",
    "$\\left(x,y\\right)$가 유일하게 존재하고, 이 때 \n",
    "$x$와 \n",
    "$y$가 각각 \n",
    "$-999$ 이상 \n",
    "$999$ 이하의 정수인 경우만 입력으로 주어짐이 보장된다.\n",
    "문제의 답인 \n",
    "$x$와 \n",
    "$y$를 공백으로 구분해 출력한다.\n",
    "---\n",
    "1 3 -1 4 1 7\n",
    "---\n",
    "2 -1\n"
   ]
  },
  {
   "cell_type": "code",
   "execution_count": null,
   "metadata": {},
   "outputs": [],
   "source": [
    "ax+by=c\n",
    "dx+ey=f\n",
    "-999 <= a,b,c,d,e,f<= 999\n"
   ]
  },
  {
   "cell_type": "code",
   "execution_count": 23,
   "metadata": {},
   "outputs": [
    {
     "name": "stdout",
     "output_type": "stream",
     "text": [
      "2 -1\n"
     ]
    }
   ],
   "source": [
    "a,b,c,d,e,f = map(int,input().split())\n",
    "for x in range(-999,1000):\n",
    "    for y in range(-999,1000):\n",
    "        if a*x + b*y == c and d*x + e*y == f:\n",
    "            print(x,y)\n"
   ]
  },
  {
   "attachments": {},
   "cell_type": "markdown",
   "metadata": {},
   "source": [
    "25206. 가중평균\n",
    "인하대학교 컴퓨터공학과를 졸업하기 위해서는, 전공평점이 3.3 이상이거나 졸업고사를 통과해야 한다. 그런데 아뿔싸, 치훈이는 깜빡하고 졸업고사를 응시하지 않았다는 사실을 깨달았다!\n",
    "\n",
    "치훈이의 전공평점을 계산해주는 프로그램을 작성해보자.\n",
    "\n",
    "전공평점은 전공과목별 (학점 × 과목평점)의 합을 학점의 총합으로 나눈 값이다.\n",
    "\n",
    "인하대학교 컴퓨터공학과의 등급에 따른 과목평점은 다음 표와 같다.\n",
    "\n",
    "A+\t4.5\n",
    "A0\t4.0\n",
    "B+\t3.5\n",
    "B0\t3.0\n",
    "C+\t2.5\n",
    "C0\t2.0\n",
    "D+\t1.5\n",
    "D0\t1.0\n",
    "F\t0.0\n",
    "P/F 과목의 경우 등급이 P또는 F로 표시되는데, 등급이 P인 과목은 계산에서 제외해야 한다.\n",
    "\n",
    "과연 치훈이는 무사히 졸업할 수 있을까?\n",
    "20줄에 걸쳐 치훈이가 수강한 전공과목의 과목명, 학점, 등급이 공백으로 구분되어 주어진다.\n",
    "치훈이의 전공평점을 출력한다.\n",
    "\n",
    "정답과의 절대오차 또는 상대오차가 \n",
    "\\(10^{-4}\\) 이하이면 정답으로 인정한다.\n",
    "\n",
    "1 ≤ 과목명의 길이 ≤ 50\n",
    "과목명은 알파벳 대소문자 또는 숫자로만 이루어져 있으며, 띄어쓰기 없이 주어진다. 입력으로 주어지는 모든 과목명은 서로 다르다.\n",
    "학점은 1.0,2.0,3.0,4.0중 하나이다.\n",
    "등급은 A+,A0,B+,B0,C+,C0,D+,D0,F,P중 하나이다.\n",
    "적어도 한 과목은 등급이 P가 아님이 보장된다.\n",
    "\n"
   ]
  },
  {
   "cell_type": "code",
   "execution_count": 61,
   "metadata": {},
   "outputs": [],
   "source": [
    "scores = '''ObjectOrientedProgramming1 3.0 A+\n",
    "IntroductiontoComputerEngineering 3.0 A+\n",
    "ObjectOrientedProgramming2 3.0 A0\n",
    "CreativeComputerEngineeringDesign 3.0 A+\n",
    "AssemblyLanguage 3.0 A+\n",
    "InternetProgramming 3.0 B0\n",
    "ApplicationProgramminginJava 3.0 A0\n",
    "SystemProgramming 3.0 B0\n",
    "OperatingSystem 3.0 B0\n",
    "WirelessCommunicationsandNetworking 3.0 C+\n",
    "LogicCircuits 3.0 B0\n",
    "DataStructure 4.0 A+\n",
    "MicroprocessorApplication 3.0 B+\n",
    "EmbeddedSoftware 3.0 C0\n",
    "ComputerSecurity 3.0 D+\n",
    "Database 3.0 C+\n",
    "Algorithm 3.0 B0\n",
    "CapstoneDesigninCSE 3.0 B+\n",
    "CompilerDesign 3.0 D0\n",
    "ProblemSolving 4.0 P'''.split('\\n')"
   ]
  },
  {
   "cell_type": "code",
   "execution_count": 62,
   "metadata": {},
   "outputs": [
    {
     "data": {
      "text/plain": [
       "{'A+': 4.5,\n",
       " 'A0': 4.0,\n",
       " 'B+': 3.5,\n",
       " 'B0': 3.0,\n",
       " 'C+': 2.5,\n",
       " 'C0': 2.0,\n",
       " 'D+': 1.5,\n",
       " 'D0': 1.0,\n",
       " 'F': 0.0,\n",
       " 'P': -1}"
      ]
     },
     "execution_count": 62,
     "metadata": {},
     "output_type": "execute_result"
    }
   ],
   "source": [
    "keys = 'A+,A0,B+,B0,C+,C0,D+,D0,F,P'.split(',')\n",
    "vals = [4.5, 4.0, 3.5, 3.0, 2.5, 2.0, 1.5, 1.0, 0.0, -1]\n",
    "grade_map = dict(zip(keys,vals))\n",
    "grade_map"
   ]
  },
  {
   "cell_type": "code",
   "execution_count": 58,
   "metadata": {},
   "outputs": [
    {
     "name": "stdout",
     "output_type": "stream",
     "text": [
      "3.284483\n"
     ]
    }
   ],
   "source": [
    "suma = 0 # 분자 (평점*학점 계)\n",
    "sumb = 0 # 분모 (학점계)\n",
    "for i in scores:\n",
    "    val = i.split()  # ['ObjectOrientedProgramming1', '3.0', 'A+'] 한줄씩 리스트로\n",
    "    if val[2] == 'P': \n",
    "        continue\n",
    "    suma += float(val[1])*grade_map[val[2]] # val리스트에서 인덱스1번 곱하기 grade_map에서 val리스트 인덱스2와 매핑 한 value값 -> 3.0*4.5\n",
    "    sumb += float(val[1]) \n",
    "print(f'{suma/sumb:.6f}')"
   ]
  },
  {
   "cell_type": "code",
   "execution_count": 71,
   "metadata": {},
   "outputs": [
    {
     "name": "stdout",
     "output_type": "stream",
     "text": [
      "3.284483\n"
     ]
    }
   ],
   "source": [
    "#선생님풀이\n",
    "cum_size, cum_score = 0.0, 0.0\n",
    "for line in scores:\n",
    "    if line == '': # line: Algorithm 3.0 B0\n",
    "        continue\n",
    "    size = float(line.split()[1])\n",
    "    grade = line.split()[2]\n",
    "    if grade == 'P': # 학점이 P인 과목은 계산에서 제외\n",
    "        continue\n",
    "    cum_size += size\n",
    "    cum_score += grade_map[grade] * size\n",
    "\n",
    "print(round(cum_score/cum_size,6))\n"
   ]
  },
  {
   "cell_type": "code",
   "execution_count": 53,
   "metadata": {},
   "outputs": [
    {
     "name": "stdout",
     "output_type": "stream",
     "text": [
      "['ObjectOrientedProgramming1', '3.0', 'A+']\n",
      "['IntroductiontoComputerEngineering', '3.0', 'A+']\n",
      "['ObjectOrientedProgramming2', '3.0', 'A0']\n",
      "['CreativeComputerEngineeringDesign', '3.0', 'A+']\n",
      "['AssemblyLanguage', '3.0', 'A+']\n",
      "['InternetProgramming', '3.0', 'B0']\n",
      "['ApplicationProgramminginJava', '3.0', 'A0']\n",
      "['SystemProgramming', '3.0', 'B0']\n",
      "['OperatingSystem', '3.0', 'B0']\n",
      "['WirelessCommunicationsandNetworking', '3.0', 'C+']\n",
      "['LogicCircuits', '3.0', 'B0']\n",
      "['DataStructure', '4.0', 'A+']\n",
      "['MicroprocessorApplication', '3.0', 'B+']\n",
      "['EmbeddedSoftware', '3.0', 'C0']\n",
      "['ComputerSecurity', '3.0', 'D+']\n",
      "['Database', '3.0', 'C+']\n",
      "['Algorithm', '3.0', 'B0']\n",
      "['CapstoneDesigninCSE', '3.0', 'B+']\n",
      "['CompilerDesign', '3.0', 'D0']\n",
      "['ProblemSolving', '4.0', 'P']\n"
     ]
    }
   ],
   "source": [
    "suma = 0\n",
    "sumb = 0\n",
    "for i in scores:\n",
    "    val = i.split()\n",
    "    # print(val)\n",
    "    # print(float(val[1])*grade_map[val[2]])\n",
    "    # sumb += float(val[1])\n",
    "    print(val)"
   ]
  },
  {
   "cell_type": "code",
   "execution_count": null,
   "metadata": {},
   "outputs": [],
   "source": []
  }
 ],
 "metadata": {
  "kernelspec": {
   "display_name": "base",
   "language": "python",
   "name": "python3"
  },
  "language_info": {
   "codemirror_mode": {
    "name": "ipython",
    "version": 3
   },
   "file_extension": ".py",
   "mimetype": "text/x-python",
   "name": "python",
   "nbconvert_exporter": "python",
   "pygments_lexer": "ipython3",
   "version": "3.10.9"
  },
  "orig_nbformat": 4
 },
 "nbformat": 4,
 "nbformat_minor": 2
}
