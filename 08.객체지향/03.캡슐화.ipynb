{
 "cells": [
  {
   "attachments": {},
   "cell_type": "markdown",
   "metadata": {},
   "source": [
    "### 8-2. 캡슐화(Encapsulation)"
   ]
  },
  {
   "cell_type": "code",
   "execution_count": 2,
   "metadata": {},
   "outputs": [],
   "source": [
    "# 속성값 __ 를 붙이면 비공개 속성이 되어서\n",
    "# 혹시라도 있을 수 있는 오류를 방지할 수 있음.\n",
    "# 비공개 속성을 액세스하기 위해서 Getter/Setter를 만들어 줌"
   ]
  },
  {
   "cell_type": "code",
   "execution_count": 4,
   "metadata": {},
   "outputs": [],
   "source": [
    "class Tmoney:\n",
    "    def __init__(self, age, balance):\n",
    "      self.age = age\n",
    "      self.__balance = balance # 속성값 __ 를 붙이면 비공개 속성 수정이 안됨\n",
    "    \n",
    "    def pay(self):\n",
    "      if 7<= self.age <12:\n",
    "        fare = 650\n",
    "      elif 13<= self.age <19:\n",
    "        fare = 1050\n",
    "      elif  self.age >=19:\n",
    "        fare = 1250\n",
    "      else:\n",
    "        fare = 0\n",
    "        \n",
    "      if self.__balance < fare:\n",
    "        print('잔액이 부족합니다.ㅠㅠ')\n",
    "        return\n",
    "      self.__balance -= fare\n",
    "      print(f'{self.age}살의 요금은 {fare:,d}이고, 잔액은 {self.__balance:,d}')\n",
    "\n",
    "    def charge(self, amount):\n",
    "      self.__balance += amount # 충전\n",
    "      print(f'{amount:,d}원을 충전하였고 잔액은{self.__balance:,d}원입니다.')"
   ]
  },
  {
   "cell_type": "code",
   "execution_count": 5,
   "metadata": {},
   "outputs": [
    {
     "data": {
      "text/plain": [
       "15"
      ]
     },
     "execution_count": 5,
     "metadata": {},
     "output_type": "execute_result"
    }
   ],
   "source": [
    "tmoney = Tmoney(15, 10000)\n",
    "tmoney.age"
   ]
  },
  {
   "cell_type": "code",
   "execution_count": 32,
   "metadata": {},
   "outputs": [
    {
     "ename": "AttributeError",
     "evalue": "'Tmoney' object has no attribute '__balance'",
     "output_type": "error",
     "traceback": [
      "\u001b[1;31m---------------------------------------------------------------------------\u001b[0m",
      "\u001b[1;31mAttributeError\u001b[0m                            Traceback (most recent call last)",
      "Cell \u001b[1;32mIn[32], line 1\u001b[0m\n\u001b[1;32m----> 1\u001b[0m tmoney\u001b[39m.\u001b[39;49m__balance\n",
      "\u001b[1;31mAttributeError\u001b[0m: 'Tmoney' object has no attribute '__balance'"
     ]
    }
   ],
   "source": [
    "tmoney.__balance"
   ]
  },
  {
   "cell_type": "code",
   "execution_count": 9,
   "metadata": {},
   "outputs": [
    {
     "name": "stdout",
     "output_type": "stream",
     "text": [
      "15살의 요금은 1,050이고, 잔액은 8,950\n",
      "15살의 요금은 1,050이고, 잔액은 7,900\n",
      "15살의 요금은 1,050이고, 잔액은 6,850\n",
      "15살의 요금은 1,050이고, 잔액은 5,800\n",
      "15살의 요금은 1,050이고, 잔액은 4,750\n",
      "15살의 요금은 1,050이고, 잔액은 3,700\n",
      "15살의 요금은 1,050이고, 잔액은 2,650\n",
      "15살의 요금은 1,050이고, 잔액은 1,600\n",
      "15살의 요금은 1,050이고, 잔액은 550\n",
      "잔액이 부족합니다.ㅠㅠ\n"
     ]
    }
   ],
   "source": [
    "for _ in range(10):\n",
    "    tmoney.pay()"
   ]
  },
  {
   "cell_type": "code",
   "execution_count": 10,
   "metadata": {},
   "outputs": [
    {
     "name": "stdout",
     "output_type": "stream",
     "text": [
      "10,000원을 충전하였고 잔액은10,550원입니다.\n"
     ]
    }
   ],
   "source": [
    "tmoney.charge(10000)"
   ]
  },
  {
   "attachments": {},
   "cell_type": "markdown",
   "metadata": {},
   "source": [
    "- 연습문제\n",
    "    - 이름, 나이, 주소, 지갑(wallet)을 속성으로 갖는 Person클래스\n",
    "    - 지갑은 비공개 속성으로 할 것\n",
    "    - __str__ 메소드를 만들어서 이름, 나이, 주소, 지갑(wallet)를 출력할 수 있게 할 것"
   ]
  },
  {
   "cell_type": "code",
   "execution_count": 31,
   "metadata": {},
   "outputs": [],
   "source": [
    "class Person():\n",
    "    def __init__(self, name, age, address, wallet):\n",
    "        self.name = name\n",
    "        self.age = age\n",
    "        self.address = address\n",
    "        self.__wallet = wallet # 비공개로하기 self.__wallet\n",
    "\n",
    "    def __str__(self):\n",
    "        return f'이름:{self.name}, 나이:{self.age}, 주소:{self.address}, 지갑:{self.__wallet}'"
   ]
  },
  {
   "cell_type": "code",
   "execution_count": 29,
   "metadata": {},
   "outputs": [
    {
     "name": "stdout",
     "output_type": "stream",
     "text": [
      "이름:ja, 나이:18, 주소:경기도, 지갑:10000\n"
     ]
    }
   ],
   "source": [
    "ja = Person('ja',18,'경기도',10000)\n",
    "print(ja)"
   ]
  },
  {
   "attachments": {},
   "cell_type": "markdown",
   "metadata": {},
   "source": [
    "- Getter/Setter"
   ]
  },
  {
   "cell_type": "code",
   "execution_count": 33,
   "metadata": {},
   "outputs": [
    {
     "name": "stdout",
     "output_type": "stream",
     "text": [
      "이름:ja, 나이:18, 주소:충청도, 지갑:10000\n"
     ]
    }
   ],
   "source": [
    "ja.address = '충청도'\n",
    "print(ja)"
   ]
  },
  {
   "cell_type": "code",
   "execution_count": 34,
   "metadata": {},
   "outputs": [
    {
     "name": "stdout",
     "output_type": "stream",
     "text": [
      "이름:ja, 나이:18, 주소:충청도, 지갑:10000\n"
     ]
    }
   ],
   "source": [
    "# wallet은 안바뀜\n",
    "ja.__wallet = 30000\n",
    "print(ja)   "
   ]
  },
  {
   "cell_type": "code",
   "execution_count": 36,
   "metadata": {},
   "outputs": [
    {
     "data": {
      "text/plain": [
       "30000"
      ]
     },
     "execution_count": 36,
     "metadata": {},
     "output_type": "execute_result"
    }
   ],
   "source": [
    "ja.__wallet # 30000 이라고 나오는데 걍 잘못나온것 "
   ]
  },
  {
   "cell_type": "code",
   "execution_count": 41,
   "metadata": {},
   "outputs": [],
   "source": [
    "class Person():\n",
    "    def __init__(self, name, age, address, wallet):\n",
    "        self.name = name\n",
    "        self.age = age\n",
    "        self.address = address\n",
    "        self.__wallet = wallet # 비공개로하기 self.__wallet\n",
    "\n",
    "    def __str__(self):\n",
    "        return f'이름:{self.name}, 나이:{self.age}, 주소:{self.address}, 지갑:{self.__wallet}'\n",
    "    \n",
    "    def get_wallet(self):       # Getter\n",
    "        return self.__wallet\n",
    "    \n",
    "    def set_wallet(self, wallet):   # Setter\n",
    "        self.__wallet = wallet\n"
   ]
  },
  {
   "cell_type": "code",
   "execution_count": 42,
   "metadata": {},
   "outputs": [
    {
     "name": "stdout",
     "output_type": "stream",
     "text": [
      "10000\n"
     ]
    }
   ],
   "source": [
    "ja = Person('ja',18,'경기도',10000)\n",
    "print(ja.get_wallet())"
   ]
  },
  {
   "cell_type": "code",
   "execution_count": 43,
   "metadata": {},
   "outputs": [
    {
     "name": "stdout",
     "output_type": "stream",
     "text": [
      "50000\n"
     ]
    }
   ],
   "source": [
    "ja.set_wallet(50000)\n",
    "print(ja.get_wallet())"
   ]
  },
  {
   "attachments": {},
   "cell_type": "markdown",
   "metadata": {},
   "source": [
    "- 비공개 메소드"
   ]
  },
  {
   "cell_type": "code",
   "execution_count": 45,
   "metadata": {},
   "outputs": [],
   "source": [
    "class Worker:\n",
    "    def __greeting(self):\n",
    "        print('__greeting(): 안녕하세요')\n",
    "\n",
    "    "
   ]
  },
  {
   "cell_type": "code",
   "execution_count": 46,
   "metadata": {},
   "outputs": [
    {
     "ename": "AttributeError",
     "evalue": "'Worker' object has no attribute '__greeting'",
     "output_type": "error",
     "traceback": [
      "\u001b[1;31m---------------------------------------------------------------------------\u001b[0m",
      "\u001b[1;31mAttributeError\u001b[0m                            Traceback (most recent call last)",
      "Cell \u001b[1;32mIn[46], line 2\u001b[0m\n\u001b[0;32m      1\u001b[0m worker \u001b[39m=\u001b[39m Worker()\n\u001b[1;32m----> 2\u001b[0m worker\u001b[39m.\u001b[39;49m__greeting\n",
      "\u001b[1;31mAttributeError\u001b[0m: 'Worker' object has no attribute '__greeting'"
     ]
    }
   ],
   "source": [
    "worker = Worker()\n",
    "worker.__greeting"
   ]
  },
  {
   "cell_type": "code",
   "execution_count": 47,
   "metadata": {},
   "outputs": [],
   "source": [
    "# 내부에있는 __greeting부르기\n",
    "class Worker:\n",
    "    def __greeting(self):\n",
    "        print('__greeting(): 안녕하세요')\n",
    "    def hello(self):    # 내부에있는 __greeting부르기\n",
    "        self.__greeting()"
   ]
  },
  {
   "cell_type": "code",
   "execution_count": 49,
   "metadata": {},
   "outputs": [
    {
     "name": "stdout",
     "output_type": "stream",
     "text": [
      "__greeting(): 안녕하세요\n"
     ]
    }
   ],
   "source": [
    "# 내부에있는 __greeting부르기\n",
    "worker = Worker()\n",
    "worker.hello()"
   ]
  },
  {
   "attachments": {},
   "cell_type": "markdown",
   "metadata": {},
   "source": [
    "접근제한자\n",
    "private int score()\n",
    "public void setscore()\n"
   ]
  },
  {
   "cell_type": "code",
   "execution_count": null,
   "metadata": {},
   "outputs": [],
   "source": []
  }
 ],
 "metadata": {
  "kernelspec": {
   "display_name": "base",
   "language": "python",
   "name": "python3"
  },
  "language_info": {
   "codemirror_mode": {
    "name": "ipython",
    "version": 3
   },
   "file_extension": ".py",
   "mimetype": "text/x-python",
   "name": "python",
   "nbconvert_exporter": "python",
   "pygments_lexer": "ipython3",
   "version": "3.10.9"
  },
  "orig_nbformat": 4
 },
 "nbformat": 4,
 "nbformat_minor": 2
}
