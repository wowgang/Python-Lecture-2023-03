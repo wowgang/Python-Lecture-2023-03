{
 "cells": [
  {
   "attachments": {},
   "cell_type": "markdown",
   "metadata": {},
   "source": [
    "\n",
    "  1) 1에서 100까지 3의 배수의 합을 구하세요.\n",
    "\n",
    "  2) 두 개의 양의 정수를 입력으로 받아서 작은 수부터 큰 수까지\n",
    "     제곱수의 합을 구하세요.\n",
    "\n",
    "  3) 1에서 20까지 홀수의 제곱의 합을 구하는데, List Comprehension을\n",
    "     사용하여 구하세요."
   ]
  },
  {
   "cell_type": "code",
   "execution_count": 1,
   "metadata": {},
   "outputs": [
    {
     "name": "stdout",
     "output_type": "stream",
     "text": [
      "1683\n"
     ]
    }
   ],
   "source": [
    "suma = 0 \n",
    "for i in range(3,101,3):\n",
    "    suma += i \n",
    "print(suma)"
   ]
  },
  {
   "cell_type": "code",
   "execution_count": 2,
   "metadata": {},
   "outputs": [
    {
     "name": "stdout",
     "output_type": "stream",
     "text": [
      "1683\n"
     ]
    }
   ],
   "source": [
    "suma = 0 \n",
    "for i in range(3,101,3):\n",
    "    if i % 3 == 0:\n",
    "        suma += i\n",
    "print(suma)"
   ]
  },
  {
   "cell_type": "code",
   "execution_count": 4,
   "metadata": {},
   "outputs": [
    {
     "name": "stdout",
     "output_type": "stream",
     "text": [
      "280\n"
     ]
    }
   ],
   "source": [
    "num1,num2 = map(int, input().split())\n",
    "sumi = 0\n",
    "if num2> num1 :\n",
    "    for i in range(num1,num2):\n",
    "        sumi += i*i\n",
    "print(sumi)"
   ]
  },
  {
   "cell_type": "code",
   "execution_count": 3,
   "metadata": {},
   "outputs": [
    {
     "name": "stdout",
     "output_type": "stream",
     "text": [
      "3에서 10까지 제곱의 합은 380\n"
     ]
    }
   ],
   "source": [
    "# 선생님풀이\n",
    "a,b = map(int, input().split())\n",
    "small = a if a < b else b \n",
    "large = a if a > b else b\n",
    "\n",
    "sum_sq = 0\n",
    "for i in range(small,large+1):\n",
    "    sum_sq += i * i\n",
    "print(f'{small}에서 {large}까지 제곱의 합은 {sum_sq}')"
   ]
  },
  {
   "cell_type": "code",
   "execution_count": null,
   "metadata": {},
   "outputs": [],
   "source": [
    "def sum_of_squares(a, b):\n",
    "    # a와 b 중 작은 수와 큰 수를 구합니다.\n",
    "    small_num = min(a, b)\n",
    "    big_num = max(a, b)\n",
    "\n",
    "    # 작은 수부터 큰 수까지의 제곱수를 구해서 더합니다.\n",
    "    sum_squares = sum([i ** 2 for i in range(small_num, big_num + 1)])\n",
    "\n",
    "    return sum_squares\n"
   ]
  },
  {
   "cell_type": "code",
   "execution_count": null,
   "metadata": {},
   "outputs": [],
   "source": [
    "sum([i *i for i in range(1,21) if i % 2 == 1])"
   ]
  },
  {
   "cell_type": "code",
   "execution_count": 38,
   "metadata": {},
   "outputs": [
    {
     "data": {
      "text/plain": [
       "[1, 9, 25, 49, 81, 121, 169, 225, 289, 361]"
      ]
     },
     "execution_count": 38,
     "metadata": {},
     "output_type": "execute_result"
    }
   ],
   "source": [
    "odd_sq_list = [i*i for i in range(1,21,2)]\n",
    "odd_sq_list"
   ]
  },
  {
   "attachments": {},
   "cell_type": "markdown",
   "metadata": {},
   "source": [
    "다음 요구조건을 만족하는 Member 클래스를 만드세요.\n",
    "속성\n",
    "    - member id(mid): 문자열\n",
    "    - member name(name): 문자열\n",
    "    - 생년(birth_year): 정수\n",
    "    - 전화번호(tel): 문자열, 단 비공개 \n",
    "메소드\n",
    "    - get_age(): 금년 – 생년 값을 반환\n",
    "    - 전화번호 값을 새로운 값으로 변경해주는 setter method\n",
    "    - Member를 출력하면 다음과 같이 나오게 해주는 메소드\n",
    "         ID: mid, 이름: name, 나이:ㅇㅇ, \n",
    "전화번호: ㅇㅇㅇ-ㅇㅇㅇㅇ-ㅇㅇㅇㅇ\n",
    "james, maria 두 객체를 만들고 전화번호를 변경한 후 두 객체를 출력하세요."
   ]
  },
  {
   "cell_type": "code",
   "execution_count": 9,
   "metadata": {},
   "outputs": [],
   "source": [
    "import datetime as dt\n",
    "class Member:\n",
    "    def __init__(self,mid,name,birth_year,tel):\n",
    "        self.mid = mid\n",
    "        self.name = name\n",
    "        self.birth_year = birth_year\n",
    "        self.__tel = tel\n",
    "\n",
    "    def get_age(self):\n",
    "        now = dt.date.today()\n",
    "        return now.year - self.birth_year\n",
    "    \n",
    "    def get_tel(self): # 쓰는것아님...\n",
    "        return self.__tel\n",
    "    \n",
    "    def set_tel(self,tel): # setter\n",
    "        self.__tel = tel\n",
    "    \n",
    "    def __str__(self): # 빼먹음\n",
    "        return f'ID:{self.mid}, 이름:{self.name}, 나이:{self.get_age()}, 전화번호: {self.__tel} '\n",
    "\n",
    "    '''def get_info(self): # __str__로 했음 됐는데...\n",
    "        t = f'{self.__tel[:3]}-{self.__tel[3:7]}-{self.__tel[7:]}'\n",
    "        return f'ID:{self.mid}, 이름:{self.name}, 나이:{self.get_age()}, 전화번호: {t}'''"
   ]
  },
  {
   "cell_type": "code",
   "execution_count": 14,
   "metadata": {},
   "outputs": [],
   "source": [
    "james = Member('J','James' ,1994 , '01012345678') \n",
    "maria = Member('M','Maria' ,1990 , '01098765432') \n",
    "james.set_tel('010-1234-5678') # 빼먹음\n",
    "maria.set_tel('010-9876-5432') # 빼먹음"
   ]
  },
  {
   "cell_type": "code",
   "execution_count": 15,
   "metadata": {},
   "outputs": [
    {
     "name": "stdout",
     "output_type": "stream",
     "text": [
      "ID:J, 이름:James, 나이:29, 전화번호: 010-1234-5678 \n",
      "ID:M, 이름:Maria, 나이:33, 전화번호: 010-9876-5432 \n"
     ]
    }
   ],
   "source": [
    "print(james)\n",
    "print(maria)"
   ]
  },
  {
   "attachments": {},
   "cell_type": "markdown",
   "metadata": {},
   "source": [
    "\n",
    "1과 자기자신 만을 약수로 갖는 수를 소수(Prime number)라고 한다.\n",
    "\n",
    "  1) 어떤 수가 소수인가를 판단하는 함수 is_prime(num)을 작성하세요.\n",
    "     2, 3과 같이 소수면 True를 아니면 False를 반환하게 만드세요.\n",
    "\n",
    "  2) 1)에서 만든 함수를 이용하여 2에서부터 100까지 소수를 찾으세요."
   ]
  },
  {
   "cell_type": "code",
   "execution_count": 16,
   "metadata": {},
   "outputs": [],
   "source": [
    "def is_prime(num):\n",
    "    for i in range(2,num):\n",
    "        if num % i == 0:\n",
    "            return False\n",
    "    return True"
   ]
  },
  {
   "cell_type": "code",
   "execution_count": 82,
   "metadata": {},
   "outputs": [
    {
     "name": "stdout",
     "output_type": "stream",
     "text": [
      "False\n"
     ]
    }
   ],
   "source": [
    "print(is_prime(8))"
   ]
  },
  {
   "cell_type": "code",
   "execution_count": 85,
   "metadata": {},
   "outputs": [
    {
     "name": "stdout",
     "output_type": "stream",
     "text": [
      "2 3 5 7 11 13 17 19 23 29 31 37 41 43 47 53 59 61 67 71 73 79 83 89 97 "
     ]
    }
   ],
   "source": [
    "for num in range(2, 101):\n",
    "    if is_prime(num):\n",
    "        print(num, end=' ')\n"
   ]
  },
  {
   "cell_type": "code",
   "execution_count": null,
   "metadata": {},
   "outputs": [],
   "source": [
    "def is_prime(num):\n",
    "   if num < 2: # Numbers less than 2 are not considered prime\n",
    "      return False\n",
    "   for i in range(2, int(num**0.5)+1):\n",
    "      if num % i == 0:\n",
    "         return False\n",
    "   return True"
   ]
  },
  {
   "cell_type": "code",
   "execution_count": null,
   "metadata": {},
   "outputs": [],
   "source": [
    "#선생님 풀이\n",
    "\n",
    "def is_prime(num):\n",
    "    # 방법1\n",
    "    # get_divisors 1~num 약수 약수의 개수 2개\n",
    "    divisors = [i for i in range(1, num+1) if num % i == 0]\n",
    "    result1 = True if len(divisors) == 2 else False\n",
    "    # 방법2\n",
    "    # 2~num-1\n",
    "    for i in range(2,num):\n",
    "        if num % i == 0:\n",
    "            return False\n",
    "    return True\n",
    "    \n",
    "\n"
   ]
  },
  {
   "cell_type": "code",
   "execution_count": 18,
   "metadata": {},
   "outputs": [],
   "source": [
    "# 방법3\n",
    "import math\n",
    "def is_prime(num):\n",
    "    for i in range(2,int(math.floor(math.sqrt(num)))+1):\n",
    "        if num % i == 0:\n",
    "            return False\n",
    "    return True"
   ]
  },
  {
   "cell_type": "code",
   "execution_count": 17,
   "metadata": {},
   "outputs": [
    {
     "data": {
      "text/plain": [
       "(True, False)"
      ]
     },
     "execution_count": 17,
     "metadata": {},
     "output_type": "execute_result"
    }
   ],
   "source": [
    "is_prime(2), is_prime(57)"
   ]
  },
  {
   "cell_type": "code",
   "execution_count": 19,
   "metadata": {},
   "outputs": [
    {
     "name": "stdout",
     "output_type": "stream",
     "text": [
      "2 3 5 7 11 13 17 19 23 29 31 37 41 43 47 53 59 61 67 71 73 79 83 89 97 "
     ]
    }
   ],
   "source": [
    "for i in range(2,101):\n",
    "    if is_prime(i):\n",
    "        print(i, end=' ')"
   ]
  }
 ],
 "metadata": {
  "kernelspec": {
   "display_name": "base",
   "language": "python",
   "name": "python3"
  },
  "language_info": {
   "codemirror_mode": {
    "name": "ipython",
    "version": 3
   },
   "file_extension": ".py",
   "mimetype": "text/x-python",
   "name": "python",
   "nbconvert_exporter": "python",
   "pygments_lexer": "ipython3",
   "version": "3.10.9"
  },
  "orig_nbformat": 4
 },
 "nbformat": 4,
 "nbformat_minor": 2
}
