{
 "cells": [
  {
   "attachments": {},
   "cell_type": "markdown",
   "metadata": {},
   "source": [
    "### 8-1. 클래스의 기본"
   ]
  },
  {
   "attachments": {},
   "cell_type": "markdown",
   "metadata": {},
   "source": [
    "- Person 자료 만들기"
   ]
  },
  {
   "cell_type": "code",
   "execution_count": 1,
   "metadata": {},
   "outputs": [],
   "source": [
    "# 리스트\n",
    "person_list = ['James', 175.0, 70.0, 2000]"
   ]
  },
  {
   "cell_type": "code",
   "execution_count": 2,
   "metadata": {},
   "outputs": [],
   "source": [
    "# 딕셔너리\n",
    "person_dict = {\n",
    "    'name': 'James', 'height': 175.0, 'weight': 70.0, 'birth_year': 2000\n",
    "}\n"
   ]
  },
  {
   "cell_type": "code",
   "execution_count": 3,
   "metadata": {},
   "outputs": [],
   "source": [
    "# 클래스\n",
    "class Person:\n",
    "    def __init__(self):\n",
    "        self.name = 'James'\n",
    "        self.height = 175.0\n",
    "        self.weight = 70.0\n",
    "        self.birth_year = 2000\n",
    "        "
   ]
  },
  {
   "cell_type": "code",
   "execution_count": 5,
   "metadata": {},
   "outputs": [
    {
     "name": "stdout",
     "output_type": "stream",
     "text": [
      "['James', 175.0, 70.0, 2000]\n",
      "{'name': 'James', 'height': 175.0, 'weight': 70.0, 'birth_year': 2000}\n"
     ]
    }
   ],
   "source": [
    "print(person_list)\n",
    "print(person_dict)"
   ]
  },
  {
   "cell_type": "code",
   "execution_count": 7,
   "metadata": {},
   "outputs": [
    {
     "name": "stdout",
     "output_type": "stream",
     "text": [
      "<__main__.Person object at 0x000001B8B1D87790>\n",
      "James 175.0 70.0 2000\n"
     ]
    }
   ],
   "source": [
    "james = Person()\n",
    "print(james)\n",
    "print(james.name, james.height, james.weight, james.birth_year)"
   ]
  },
  {
   "cell_type": "code",
   "execution_count": 10,
   "metadata": {},
   "outputs": [],
   "source": [
    "# 클래스 범용적으로 만들어 객체(object)를 생성할 때 구체적인 값을 할당\n",
    "class Person:\n",
    "    def __init__(self ,name, height, weight, birth_year): # 갖고있는 속성과 변수명을 갖게\n",
    "        self.name = name # 속성이 self.name 이고 변수가 name\n",
    "        self.height = height\n",
    "        self.weight = weight\n",
    "        self.birth_year = birth_year\n",
    "        "
   ]
  },
  {
   "cell_type": "code",
   "execution_count": 11,
   "metadata": {},
   "outputs": [],
   "source": [
    "james = Person('James',175.0 ,70.0 ,2000)\n",
    "maria = Person('Maria',163.0 ,50.0 ,2001)"
   ]
  },
  {
   "attachments": {},
   "cell_type": "markdown",
   "metadata": {},
   "source": [
    "- 메소드(Method)\n",
    "    - 클래스가 가지는 함수\n",
    "    - 객체가 할 수 있는 행위를 모델링"
   ]
  },
  {
   "cell_type": "code",
   "execution_count": 1,
   "metadata": {},
   "outputs": [],
   "source": [
    "import datetime as dt\n",
    "class Person:\n",
    "    def __init__(self ,name, height, weight, birth_year): # 갖고있는 속성과 변수명을 갖게/ 클래스로 인스턴스를 만들 때 호출되는 메서드는 __init__\n",
    "        self.name = name # 속성이 self.name 이고 변수가 name\n",
    "        self.height = height\n",
    "        self.weight = weight\n",
    "        self.birth_year = birth_year\n",
    "        \n",
    "    def get_bmi(self): # 매서드 (Person함수 안의 매서드)\n",
    "        bmi = self.weight/ (self.height / 100) ** 2  # 속성에 있는 weight와height라 앞에 self.을 붙여줘야함\n",
    "        return round(bmi, 2) # bmi 소수점 둘째짜리까지 표현해달라\n",
    "    \n",
    "    def get_age(self):\n",
    "        now = dt.date.today()\n",
    "        return now.year - self.birth_year\n",
    "    \n",
    "    def get_info(self):\n",
    "        return f'이름: {self.name}, 키: {self.height}cm, 몸무게: {self.weight}kg, ' + \\\n",
    "                f'BMI: {self.get_bmi()}, 나이: {self.get_age()}'"
   ]
  },
  {
   "attachments": {},
   "cell_type": "markdown",
   "metadata": {},
   "source": [
    "실체(instance)"
   ]
  },
  {
   "cell_type": "code",
   "execution_count": 2,
   "metadata": {},
   "outputs": [],
   "source": [
    "james = Person('James',175.0 ,70.0 ,2000)  # james는 인스턴스\n",
    "maria = Person('Maria',163.0 ,50.0 ,2001)"
   ]
  },
  {
   "cell_type": "code",
   "execution_count": 3,
   "metadata": {},
   "outputs": [
    {
     "name": "stdout",
     "output_type": "stream",
     "text": [
      "James의 BMI는 22.86 입니다.\n",
      "Maria의 BMI는 18.82 입니다.\n"
     ]
    }
   ],
   "source": [
    "print(f'{james.name}의 BMI는 {james.get_bmi()} 입니다.')\n",
    "print(f'{maria.name}의 BMI는 {maria.get_bmi()} 입니다.')"
   ]
  },
  {
   "cell_type": "code",
   "execution_count": 63,
   "metadata": {},
   "outputs": [
    {
     "name": "stdout",
     "output_type": "stream",
     "text": [
      "James의 나이는 23 입니다.\n",
      "Maria의 나이는 22 입니다.\n"
     ]
    }
   ],
   "source": [
    "print(f'{james.name}의 나이는 {james.get_age()} 입니다.')\n",
    "print(f'{maria.name}의 나이는 {maria.get_age()} 입니다.')"
   ]
  },
  {
   "cell_type": "code",
   "execution_count": 64,
   "metadata": {},
   "outputs": [
    {
     "name": "stdout",
     "output_type": "stream",
     "text": [
      "이름: James, 키: 175.0cm, 몸무게: 70.0kg, BMI: 22.86, 나이: 23\n",
      "이름: Maria, 키: 163.0cm, 몸무게: 50.0kg, BMI: 18.82, 나이: 22\n"
     ]
    }
   ],
   "source": [
    "print(james.get_info())\n",
    "print(maria.get_info())"
   ]
  },
  {
   "cell_type": "code",
   "execution_count": 65,
   "metadata": {},
   "outputs": [
    {
     "name": "stdout",
     "output_type": "stream",
     "text": [
      "이름: Maria, 키: 163.0cm, 몸무게: 48.0kg, BMI: 18.07, 나이: 22\n"
     ]
    }
   ],
   "source": [
    "# 객체의 속성\n",
    "maria.weight -= 2\n",
    "print(maria.get_info())"
   ]
  },
  {
   "attachments": {},
   "cell_type": "markdown",
   "metadata": {},
   "source": [
    "표준 입력으로 나이(만 나이)가 입력됩니다(입력 값은 7 이상 입력됨). 교통카드 시스템에서 시내버스 요금은 다음과 같으며 각 나이에 맞게 요금을 차감한 뒤 잔액이 출력되게 만드세요(if, elif 사용). 현재 교통카드에는 9,000원이 들어있습니다.\n",
    "\n",
    "어린이(초등학생, 만 7세 이상 12세 이하): 650원\n",
    "청소년(중∙고등학생, 만 13세 이상 18세 이하): 1,050원\n",
    "어른(일반, 만 19세 이상): 1,250원"
   ]
  },
  {
   "attachments": {},
   "cell_type": "markdown",
   "metadata": {},
   "source": [
    "- 연습문제: class Tmoney\n",
    "    - 속성으로 나이(age)와 잔액(balance)을 가지고 있음\n",
    "    - pay() 메소드는\n",
    "        - 00살의 요금은 000원이고, 잔액은 000원입니다.\n",
    "        - 잔액이 부족합니다.ㅠㅠ"
   ]
  },
  {
   "cell_type": "code",
   "execution_count": 57,
   "metadata": {},
   "outputs": [],
   "source": [
    "class Tmoney:\n",
    "    def __init__(self, age, balance):\n",
    "      self.age = age\n",
    "      self.balance = balance\n",
    "    \n",
    "    def pay(self):\n",
    "      if 7<= self.age <12:\n",
    "        fare = 650\n",
    "      elif 13<= self.age <19:\n",
    "        fare = 1050\n",
    "      elif  self.age >=19:\n",
    "        fare = 1250\n",
    "      else:\n",
    "        fare = 0\n",
    "        \n",
    "      if self.balance < fare:\n",
    "        print('잔액이 부족합니다.ㅠㅠ')\n",
    "        return\n",
    "      self.balance -= fare\n",
    "      print(f'{self.age}살의 요금은 {fare:,d}이고, 잔액은 {self.balance:,d}')\n",
    "\n",
    "    def charge(self, amount):\n",
    "      self.balance += amount # 충전\n",
    "      print(f'{amount:,d}원을 충전하였고 잔액은{self.balance:,d}원입니다.')\n",
    "       "
   ]
  },
  {
   "cell_type": "code",
   "execution_count": 58,
   "metadata": {},
   "outputs": [
    {
     "name": "stdout",
     "output_type": "stream",
     "text": [
      "15살의 요금은 1,050이고, 잔액은 8,950\n",
      "15살의 요금은 1,050이고, 잔액은 7,900\n",
      "15살의 요금은 1,050이고, 잔액은 6,850\n",
      "15살의 요금은 1,050이고, 잔액은 5,800\n",
      "15살의 요금은 1,050이고, 잔액은 4,750\n",
      "15살의 요금은 1,050이고, 잔액은 3,700\n",
      "15살의 요금은 1,050이고, 잔액은 2,650\n",
      "15살의 요금은 1,050이고, 잔액은 1,600\n",
      "15살의 요금은 1,050이고, 잔액은 550\n",
      "잔액이 부족합니다.ㅠㅠ\n"
     ]
    }
   ],
   "source": [
    "card = Tmoney(15, 10000)\n",
    "for i in range(10):\n",
    "    card.pay()"
   ]
  },
  {
   "cell_type": "code",
   "execution_count": 59,
   "metadata": {},
   "outputs": [
    {
     "name": "stdout",
     "output_type": "stream",
     "text": [
      "10,000원을 충전하였고 잔액은10,550원입니다.\n"
     ]
    }
   ],
   "source": [
    "card.charge(10000) # 두번째 파라미터 amount에 매핑"
   ]
  }
 ],
 "metadata": {
  "kernelspec": {
   "display_name": "base",
   "language": "python",
   "name": "python3"
  },
  "language_info": {
   "codemirror_mode": {
    "name": "ipython",
    "version": 3
   },
   "file_extension": ".py",
   "mimetype": "text/x-python",
   "name": "python",
   "nbconvert_exporter": "python",
   "pygments_lexer": "ipython3",
   "version": "3.10.9"
  },
  "orig_nbformat": 4
 },
 "nbformat": 4,
 "nbformat_minor": 2
}
