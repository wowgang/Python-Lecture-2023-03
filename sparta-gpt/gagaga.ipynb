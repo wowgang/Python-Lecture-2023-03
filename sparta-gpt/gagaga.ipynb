{
 "cells": [
  {
   "cell_type": "code",
   "execution_count": 1,
   "metadata": {},
   "outputs": [
    {
     "name": "stdout",
     "output_type": "stream",
     "text": [
      "3\n",
      "8\n",
      "11\n"
     ]
    }
   ],
   "source": [
    "a = [(1,2), (3,5),(5,6)]\n",
    "for (first,last) in a:\n",
    "    print(first + last)"
   ]
  },
  {
   "cell_type": "code",
   "execution_count": 4,
   "metadata": {},
   "outputs": [
    {
     "name": "stdout",
     "output_type": "stream",
     "text": [
      "1번 학생은 합겹입니다.\n",
      "2번 학생은 불합격 입니다.\n",
      "3번 학생은 합겹입니다.\n",
      "4번 학생은 불합격 입니다.\n",
      "5번 학생은 합겹입니다.\n"
     ]
    }
   ],
   "source": [
    "marks = [90, 25, 67, 45, 80]\n",
    "number = 0\n",
    "for mark in [90, 25, 67, 45, 80]:\n",
    "    number = number + 1\n",
    "    if mark >= 60:\n",
    "        print(\"%d번 학생은 합겹입니다.\" % number)\n",
    "    else:\n",
    "        print(\"%d번 학생은 불합격 입니다.\" % number)"
   ]
  },
  {
   "attachments": {},
   "cell_type": "markdown",
   "metadata": {},
   "source": [
    "- continue 는 실행되지 않고 위로 올라감(for문으로)"
   ]
  },
  {
   "cell_type": "code",
   "execution_count": 9,
   "metadata": {},
   "outputs": [
    {
     "name": "stdout",
     "output_type": "stream",
     "text": [
      "1번 학생은 합겹입니다.\n",
      "3번 학생은 합겹입니다.\n",
      "5번 학생은 합겹입니다.\n"
     ]
    }
   ],
   "source": [
    "marks = [90, 25, 67, 45, 80]\n",
    "\n",
    "number = 0\n",
    "for mark in marks:\n",
    "    number = number + 1\n",
    "    if mark < 60: continue\n",
    "    print(\"%d번 학생은 합겹입니다.\" % number)"
   ]
  },
  {
   "cell_type": "code",
   "execution_count": 10,
   "metadata": {},
   "outputs": [
    {
     "name": "stdout",
     "output_type": "stream",
     "text": [
      "55\n"
     ]
    }
   ],
   "source": [
    "sum = 0\n",
    "for i in range(1,11):  # 1이상 11미만\n",
    "    sum = sum + i\n",
    "print(sum)"
   ]
  },
  {
   "cell_type": "markdown",
   "metadata": {},
   "source": []
  },
  {
   "cell_type": "code",
   "execution_count": 11,
   "metadata": {},
   "outputs": [
    {
     "name": "stdout",
     "output_type": "stream",
     "text": [
      "2 4 6 8 10 12 14 16 18 \n",
      "3 6 9 12 15 18 21 24 27 \n",
      "4 8 12 16 20 24 28 32 36 \n",
      "5 10 15 20 25 30 35 40 45 \n",
      "6 12 18 24 30 36 42 48 54 \n",
      "7 14 21 28 35 42 49 56 63 \n",
      "8 16 24 32 40 48 56 64 72 \n",
      "9 18 27 36 45 54 63 72 81 \n"
     ]
    }
   ],
   "source": [
    "for i in range(2,10):   # i 2로 시작, j돌고 돌아오면 i는 이제 3으로 내려감\n",
    "    for j in range(1, 10):    # i가 2인 상태에서 j가 1~9까지 돌다음 다시 처음오로 돌아감 , , \n",
    "        print(i*j, end=\" \")\n",
    "    print('')"
   ]
  },
  {
   "cell_type": "code",
   "execution_count": 36,
   "metadata": {},
   "outputs": [
    {
     "name": "stdout",
     "output_type": "stream",
     "text": [
      "[6, 12, 18, 24]\n"
     ]
    }
   ],
   "source": [
    "a = [1,2,3,4,5,6,7,8]\n",
    "result = [num *3 for num in a if num % 2 == 0] # a(list)에서 값을 num에 꺼내오고 num*3을 하고 reslt를 만들어라 단,num 이 짝수일때만 추가해\n",
    "print(result)\n"
   ]
  },
  {
   "cell_type": "code",
   "execution_count": 37,
   "metadata": {},
   "outputs": [
    {
     "name": "stdout",
     "output_type": "stream",
     "text": [
      "[6, 12, 18, 24]\n"
     ]
    }
   ],
   "source": [
    " #위 코드를 풀어 보면\n",
    "result = [] #빈 리스트 \n",
    "for num in a:\n",
    "   if num % 2 == 0:\n",
    "      result.append(num*3)  #리스트에 num*3해서 넣어라\n",
    "print(result)"
   ]
  },
  {
   "attachments": {},
   "cell_type": "markdown",
   "metadata": {},
   "source": [
    "- 함수"
   ]
  },
  {
   "cell_type": "code",
   "execution_count": 43,
   "metadata": {},
   "outputs": [
    {
     "name": "stdout",
     "output_type": "stream",
     "text": [
      "Hi\n"
     ]
    }
   ],
   "source": [
    "def say():\n",
    "    return 'Hi'\n",
    "print(say())"
   ]
  },
  {
   "cell_type": "code",
   "execution_count": 46,
   "metadata": {},
   "outputs": [
    {
     "name": "stdout",
     "output_type": "stream",
     "text": [
      "3\n"
     ]
    }
   ],
   "source": [
    "def sum(a,b):\n",
    "    result = a + b\n",
    "    return result\n",
    "print(sum(1,2))"
   ]
  },
  {
   "cell_type": "code",
   "execution_count": 49,
   "metadata": {},
   "outputs": [
    {
     "name": "stdout",
     "output_type": "stream",
     "text": [
      "Hi\n",
      "1, 2의 합은 3입니다.\n",
      "1, 2의 합은 3입니다.\n",
      "None\n"
     ]
    }
   ],
   "source": [
    "def sum(a,b):\n",
    "    print(\"%d, %d의 합은 %d입니다.\" % (a, b, a+b))\n",
    "     \n",
    "print(say())\n",
    "sum(1,2)\n",
    "print(sum(1,2))  # None이 나오는 이유는 retrun값이 없기 때문"
   ]
  },
  {
   "cell_type": "code",
   "execution_count": 51,
   "metadata": {},
   "outputs": [
    {
     "name": "stdout",
     "output_type": "stream",
     "text": [
      "Hi\n",
      "None\n"
     ]
    }
   ],
   "source": [
    "# 입력값도 출력값도 없기 때문에 None이 뜬다.\n",
    "def ay():\n",
    "    print('Hi')\n",
    "print(ay())\n"
   ]
  },
  {
   "cell_type": "code",
   "execution_count": 54,
   "metadata": {},
   "outputs": [
    {
     "name": "stdout",
     "output_type": "stream",
     "text": [
      "28\n"
     ]
    }
   ],
   "source": [
    "# 여러개의 입력값\n",
    "def sum_many(*args):  # arguments 앞에 별표를 하면 여러개 인자를 한꺼번에 받을수 있다(몇개든 상관없이 다 들어갈 수 있다.) ex) sum_many(a,b,c,d,e)이렇게 쓰면 함수 호출시 인자?를 맞추지 않아도된다.개이득\n",
    "    sum = 0\n",
    "    for i in args:\n",
    "        sum = sum + i\n",
    "    return sum\n",
    "print(sum_many(1,2,3,4,5,6,7))"
   ]
  },
  {
   "cell_type": "code",
   "execution_count": 56,
   "metadata": {},
   "outputs": [
    {
     "name": "stdout",
     "output_type": "stream",
     "text": [
      "당신의 이름은:name\n",
      "None\n"
     ]
    }
   ],
   "source": [
    "def print_kwargs(**kwargs):  # keyword argument / kwargs: dict\n",
    "    for k in kwargs.keys():\n",
    "        if(k == \"name\"):\n",
    "            print(\"당신의 이름은:\" + k) # key\n",
    "print(print_kwargs(name=\"int 조수\", b=\"2\"))"
   ]
  },
  {
   "cell_type": "code",
   "execution_count": 59,
   "metadata": {},
   "outputs": [
    {
     "name": "stdout",
     "output_type": "stream",
     "text": [
      "(3, 2, -1)\n",
      "3\n"
     ]
    }
   ],
   "source": [
    "# 함수의 결과값은 언제나 하나이다.\n",
    "def sum_and_mul(a,b):\n",
    "    return a+b, a*b, a-b\n",
    "print(sum_and_mul(1,2)) # 튜플형태로 한번만\n",
    "print(sum_and_mul(1,2)[0])"
   ]
  },
  {
   "cell_type": "code",
   "execution_count": 66,
   "metadata": {},
   "outputs": [
    {
     "name": "stdout",
     "output_type": "stream",
     "text": [
      "나의 이름은 최가람 입니다.\n",
      "나이는 30살 입니다.\n",
      "여자입니다.\n",
      "나의 이름은 최가람 입니다.\n",
      "나이는 30살 입니다.\n",
      "남자입니다.\n",
      "나의 이름은 최가람 입니다.\n",
      "나이는 30살 입니다.\n",
      "여자입니다.\n"
     ]
    }
   ],
   "source": [
    "def say_myself(name, old, man=True):\n",
    "    print(\"나의 이름은 %s 입니다.\" % name)\n",
    "    print(\"나이는 %d살 입니다.\" % old)\n",
    "    if man:\n",
    "        print(\"남자입니다.\")\n",
    "    else:\n",
    "        print(\"여자입니다.\")\n",
    "say_myself('최가람',30,False)\n",
    "say_myself('최가람',30) # 순서대로 매핑하나 기본값으로 설정한 값은 맨뒤에 있다면 생략가능\n",
    "say_myself(old=30,name='최가람',man=False)"
   ]
  },
  {
   "cell_type": "code",
   "execution_count": 68,
   "metadata": {},
   "outputs": [
    {
     "name": "stdout",
     "output_type": "stream",
     "text": [
      "3\n"
     ]
    }
   ],
   "source": [
    "# 람다 함수\n",
    "# def add(a,b):\n",
    "#     return a+b\n",
    "add = lambda a, b: a+b\n",
    "print(add(1,2))\n"
   ]
  },
  {
   "cell_type": "code",
   "execution_count": 70,
   "metadata": {},
   "outputs": [
    {
     "name": "stdout",
     "output_type": "stream",
     "text": [
      "3\n",
      "2\n"
     ]
    }
   ],
   "source": [
    "# list안에 lambda함수\n",
    "myList = [lambda a, b: a+b, lambda a, b: a*b]\n",
    "\n",
    "print(myList[0](1,2))\n",
    "print(myList[1](1,2))"
   ]
  },
  {
   "cell_type": "code",
   "execution_count": 71,
   "metadata": {},
   "outputs": [],
   "source": [
    "f = open(\"새파일.txt\", 'w', encoding=\"UTF-8\")\n",
    "for i in range(1,11):\n",
    "    data = \"%d번째 줄입니다. \\n\" % i\n",
    "    f.write(data)\n",
    "f.close()"
   ]
  },
  {
   "cell_type": "code",
   "execution_count": 73,
   "metadata": {},
   "outputs": [
    {
     "name": "stdout",
     "output_type": "stream",
     "text": [
      "1번째 줄입니다. \n",
      "\n"
     ]
    }
   ],
   "source": [
    "f = open(\"새파일.txt\", 'r', encoding=\"UTF-8\")\n",
    "line = f.readline()  # readline 한줄 읽어오는 함수\n",
    "print(line) \n",
    "f.close()"
   ]
  },
  {
   "cell_type": "code",
   "execution_count": 74,
   "metadata": {},
   "outputs": [
    {
     "name": "stdout",
     "output_type": "stream",
     "text": [
      "1번째 줄입니다. \n",
      "\n",
      "2번째 줄입니다. \n",
      "\n",
      "3번째 줄입니다. \n",
      "\n",
      "4번째 줄입니다. \n",
      "\n",
      "5번째 줄입니다. \n",
      "\n",
      "6번째 줄입니다. \n",
      "\n",
      "7번째 줄입니다. \n",
      "\n",
      "8번째 줄입니다. \n",
      "\n",
      "9번째 줄입니다. \n",
      "\n",
      "10번째 줄입니다. \n",
      "\n"
     ]
    }
   ],
   "source": [
    "# 반복문으로 여러줄 읽어오기\n",
    "f = open(\"새파일.txt\", 'r', encoding=\"UTF-8\")\n",
    "while True:\n",
    "    line = f.readline()  # readline 한줄씩 읽어오는 함수 \n",
    "    if not line: break  # not 붙이면 false로 인식\n",
    "    print(line) # print(\"첫번째 줄입니다.\\n\") \\n 때문에 한줄 띄어지는것+print도 원래 한줄띄어서 한줄비게 출력됨\n",
    "f.close()"
   ]
  },
  {
   "cell_type": "code",
   "execution_count": 76,
   "metadata": {},
   "outputs": [
    {
     "name": "stdout",
     "output_type": "stream",
     "text": [
      "1번째 줄입니다. \n",
      "2번째 줄입니다. \n",
      "3번째 줄입니다. \n",
      "4번째 줄입니다. \n",
      "5번째 줄입니다. \n",
      "6번째 줄입니다. \n",
      "7번째 줄입니다. \n",
      "8번째 줄입니다. \n",
      "9번째 줄입니다. \n",
      "10번째 줄입니다. \n"
     ]
    }
   ],
   "source": [
    "# readlines()함수로 여러줄 읽어오기\n",
    "f = open(\"새파일.txt\", 'r', encoding=\"UTF-8\")\n",
    "lines = f.readlines()  # readlines 여러줄 읽어오는 함수\n",
    "for line in lines:\n",
    "    print(line, end=\"\") # end때문에 빈칸을 막겠다. print의 기능을 막은것.\n",
    "    #print(line, strip(\"\\n\")) # 양쪽끝에서 특정 문자를 제거해주는 함\n",
    "    #print(line, strip(\"\\n\"), end=\"\") #한줄로나옴\n",
    "f.close() "
   ]
  },
  {
   "cell_type": "code",
   "execution_count": 77,
   "metadata": {},
   "outputs": [
    {
     "name": "stdout",
     "output_type": "stream",
     "text": [
      "1번째 줄입니다. \n",
      "2번째 줄입니다. \n",
      "3번째 줄입니다. \n",
      "4번째 줄입니다. \n",
      "5번째 줄입니다. \n",
      "6번째 줄입니다. \n",
      "7번째 줄입니다. \n",
      "8번째 줄입니다. \n",
      "9번째 줄입니다. \n",
      "10번째 줄입니다. \n",
      "\n"
     ]
    }
   ],
   "source": [
    "f = open(\"새파일.txt\", 'r', encoding=\"UTF-8\")\n",
    "data = f.read()  # 모든걸 읽어서 통째로 가져옴\n",
    "print(data)\n",
    "f.close()"
   ]
  },
  {
   "cell_type": "code",
   "execution_count": 78,
   "metadata": {},
   "outputs": [],
   "source": [
    "f = open(\"새파일.txt\", 'a', encoding=\"UTF-8\")  # 뒤에 내용을 추가하겠다. add\n",
    "for i in range(11, 20):\n",
    "    data = \"%d번째 줄입니다. \\n\" % i\n",
    "    f.write(data)\n",
    "f.close()"
   ]
  },
  {
   "cell_type": "code",
   "execution_count": 79,
   "metadata": {},
   "outputs": [],
   "source": [
    "# with A ~ as B  >> 파일을 열어서 B라는 변수에 저장한다. \n",
    "with open(\"foo.txt\", \"w\") as f: # 별도의 close없어도됨 함수처럼 with내에서만 파일을 사용하기때문\n",
    "    f.write(\"Life is too short, you need python\")"
   ]
  },
  {
   "attachments": {},
   "cell_type": "markdown",
   "metadata": {},
   "source": [
    "- 클래스\n",
    "    - 첫 글자는 대문"
   ]
  },
  {
   "cell_type": "code",
   "execution_count": 84,
   "metadata": {},
   "outputs": [
    {
     "name": "stdout",
     "output_type": "stream",
     "text": [
      "<class '__main__.FourCal'>\n"
     ]
    }
   ],
   "source": [
    "class FourCal:\n",
    "    pass\n",
    "a = FourCal()\n",
    "print(type(a))"
   ]
  },
  {
   "cell_type": "code",
   "execution_count": 10,
   "metadata": {},
   "outputs": [
    {
     "name": "stdout",
     "output_type": "stream",
     "text": [
      "3\n"
     ]
    }
   ],
   "source": [
    "# (0 < A, B < 10)\n",
    "A,B=map(int,input().split())\n",
    "print(A+B)"
   ]
  }
 ],
 "metadata": {
  "kernelspec": {
   "display_name": "base",
   "language": "python",
   "name": "python3"
  },
  "language_info": {
   "codemirror_mode": {
    "name": "ipython",
    "version": 3
   },
   "file_extension": ".py",
   "mimetype": "text/x-python",
   "name": "python",
   "nbconvert_exporter": "python",
   "pygments_lexer": "ipython3",
   "version": "3.10.9"
  },
  "orig_nbformat": 4
 },
 "nbformat": 4,
 "nbformat_minor": 2
}
